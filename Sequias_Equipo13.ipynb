{
  "nbformat": 4,
  "nbformat_minor": 0,
  "metadata": {
    "colab": {
      "name": "Sequias_Equipo13.ipynb",
      "provenance": [],
      "collapsed_sections": [
        "gwJ0TByNYX23",
        "QN-7tN0sfuHR",
        "7n4EZWUahDE5",
        "0ygDzDR48JIK",
        "5NYBsHjEWBt0",
        "G3QrveHHWHlZ",
        "cOCdlnyoV52H",
        "ivOJB1SgW5yE",
        "9Q8sqMKC72cd",
        "9ucI8cKZJq0l",
        "gchcM57UKS25",
        "ENo31RyrMwOp",
        "UevpgLbGIDnc",
        "87GOyYJpyeHA",
        "nTqDGTWmOm73",
        "6bjxp36PudiW",
        "1AVEilQz0JVF",
        "jBphSrGeM2uR"
      ],
      "include_colab_link": true
    },
    "kernelspec": {
      "name": "python3",
      "display_name": "Python 3"
    },
    "language_info": {
      "name": "python"
    }
  },
  "cells": [
    {
      "cell_type": "markdown",
      "metadata": {
        "id": "view-in-github",
        "colab_type": "text"
      },
      "source": [
        "<a href=\"https://colab.research.google.com/github/alondraSanchezM/sequias-en-Mexico-y-agricultura/blob/main/Sequias_Equipo13.ipynb\" target=\"_parent\"><img src=\"https://colab.research.google.com/assets/colab-badge.svg\" alt=\"Open In Colab\"/></a>"
      ]
    },
    {
      "cell_type": "markdown",
      "metadata": {
        "id": "KG8wk5JDVuBT"
      },
      "source": [
        "# **Sequías en México: evolución a través de los años e implicaciones en la agricultura.** \n",
        "\n",
        "\n"
      ]
    },
    {
      "cell_type": "markdown",
      "metadata": {
        "id": "gwJ0TByNYX23"
      },
      "source": [
        "## Identificación del problema"
      ]
    },
    {
      "cell_type": "markdown",
      "metadata": {
        "id": "IsVbmqZIYqF8"
      },
      "source": [
        "Hoy en día, la sequía es uno de los desastres naturales que más daños está provocando entre la población mexicana, principalmente en la zona norte del país. La sequía es una anomalía climatológica, cuya característica principal es la disminución o ausencia de precipitaciones pluviales respecto al índice anual [[1]](http://www.scielo.org.mx/scielo.php?script=sci_arttext&pid=S0186-03482014000200008#notas). A pesar de que las causas de la sequía no se conocen con precisión, se admite que en general se debe a alteraciones de patrones de circulación atmosférica, que a su vez son ocasionadas por el aumento de las temperaturas de los suelos y mares, así como por factores sociales donde se destacan las malas políticas de administración y usos de reservas de agua [[2]](http://www.scielo.org.mx/scielo.php?script=sci_arttext&pid=S1870-39252005000300002).\n",
        "\n",
        "México es un país susceptible a las sequías gracias a su ubicación geográfica, ya que cerca del 52% del territorio nacional está catalogado como árido o semiárido y aproximademente un cuarto del mismo siempre experimenta algún grado de sequía anualmente [[3]](https://www.redalyc.org/pdf/102/10203402.pdf). Asimismo gran parte de la población es vulnerable a los efectos que ésta provoca: cada año las sequías afectan la vida de decenas de millones en el país, teniendo un impacto devastador tanto en la seguridad alimentaria como en la producción de alimentos [[4]](https://centroclima.org/clima/agriculture-stress-index-system-asis/).\n",
        "\n",
        "Por lo anterior, es de suma importancia el monitoreo y registro de las sequías. En México, el Servicio Meteorológico Nacional (SMN) es el encargado de detectar el estado actual y la evolución de este fenómeno. Su metodología se basa en la obtención e interpretación de índices tales como el Índice Estandarizado de Precipitación (SPI) que cuantifica las condiciones de déficit o exceso de precipitación, Índice Satelital de Salud de la Vegetación (VHI) que mide el grado de estrés de la vegetación por el % de área con media VHI menor a 35 y la Anomalía de la Temperatura Media [[5]](https://smn.conagua.gob.mx/es/climatologia/monitor-de-sequia/monitor-de-sequia-en-mexico). Los cuales permiten clasificar la intensidad de la sequía en 5 tipos:\n",
        "\n",
        "* Anormalmente Seco (D0)\n",
        "* Sequía Moderada (D1)\n",
        "* Sequía Severa (D2)\n",
        "* Sequía Extrema (D3)\n",
        "* Sequía Excepcional (D4)\n",
        "\n",
        "Durante la elección de este proyecto, reconocimos la urgencia de las actuales consecuencias de este fenómeno, lo que nos motivó a analizar los factores responsables del mismo para así encontrar su relación con el sector agrícola y estudiar su impacto. De la misma manera, para en un futuro poder predecir los actuales y próximos periodos de sequía."
      ]
    },
    {
      "cell_type": "markdown",
      "metadata": {
        "id": "mfxg5UdKYvTV"
      },
      "source": [
        "### Referencias\n",
        "\n",
        "[1] http://www.scielo.org.mx/scielo.php?script=sci_arttext&pid=S0186-03482014000200008#notas \n",
        "\n",
        "[2] http://www.scielo.org.mx/scielo.php?script=sci_arttext&pid=S1870-39252005000300002\n",
        "\n",
        "[3] https://www.redalyc.org/pdf/102/10203402.pdf\n",
        "\n",
        "[4] https://centroclima.org/clima/agriculture-stress-index-system-asis/\n",
        "\n",
        "[5] https://smn.conagua.gob.mx/es/climatologia/monitor-de-sequia/monitor-de-sequia-en-mexico\n",
        "\n",
        "\n",
        "\n",
        "\n",
        "\n"
      ]
    },
    {
      "cell_type": "markdown",
      "metadata": {
        "id": "QN-7tN0sfuHR"
      },
      "source": [
        "\n",
        "## Planteamiento de preguntas\n",
        "\n",
        "\n",
        "\n",
        "\n",
        "\n",
        "\n"
      ]
    },
    {
      "cell_type": "markdown",
      "metadata": {
        "id": "zXCE2IeF-tXJ"
      },
      "source": [
        "\n",
        "* ¿El área afectada por las sequías está incrementando a lo largo del tiempo? \n",
        "* ¿Qué estados han tenido el mayor porcentaje de área afectada por las sequías? \n",
        "* ¿Cómo ha evolucionado el promedio mensual de precipitaciones a lo largo de los diferentes estados de nuestro país? \n",
        "* ¿Cuáles son los estados con un mayor índice de estrés agrícola en los últimos años? \n",
        "* ¿La temperatura está aumentando en el país? \n"
      ]
    },
    {
      "cell_type": "markdown",
      "metadata": {
        "id": "7n4EZWUahDE5"
      },
      "source": [
        "## Colección de datos"
      ]
    },
    {
      "cell_type": "markdown",
      "metadata": {
        "id": "bgfLOuNxiBhg"
      },
      "source": [
        "Los datos obtenidos para la realización de este proyecto provienen de tres fuentes diferentes, a continuación se enumeran: \n",
        "\n",
        "* **North American Drought Monitor (NADM):** Es un esfuerzo cooperativo entre expertos en sequía en Canadá, Estados Unidos y México para monitorear la sequía en todo el continente de manera continua. Los datos recolectados corresponden al porcentaje de área en las categorías de monitores de sequía de América del Norte zona México. [Link a los datos](https://droughtmonitor.unl.edu/NADM/Statistics.aspx)\n",
        "\n",
        "* **The Food and Agriculture Organization (FAO):** Es una agencia especializada de las Naciones Unidas que lidera los esfuerzos internacionales para vencer el hambre. Los datos recolectados corresponden al Índice de estrés agrícola (ASI) en México. [Link a los datos](http://www.fao.org/giews/earthobservation/country/index.jsp?code=MEX)\n",
        "\n",
        "* **Datos abiertos de México:** Es una inciativa de parte del gobierno Méxicano para que cualquiera, en cualquier lugar y momento, pueda usar, reusar y distribuir libremente los datos proporcionados. \n",
        "  * Datos del comportamiento de la temperatura promedio a nivel mensual estatal y nacional desde 1985 a la fecha medida a través de estaciones convencionales y automáticas por CONAGUA. [Link a los datos](https://datos.gob.mx/busca/dataset/temperatura-promedio-excel)\n",
        "  * Datos del comportamiento de la lluvia promedio mensual a nivel estatal y nacional desde 1985 a la fecha medida a través de estaciones convencionales y automáticas por CONAGUA. [Link a los datos](https://datos.gob.mx/busca/dataset/precipitacion)\n"
      ]
    },
    {
      "cell_type": "markdown",
      "metadata": {
        "id": "Fzq2rTdj13uX"
      },
      "source": [
        "## Extracción de datos"
      ]
    },
    {
      "cell_type": "markdown",
      "metadata": {
        "id": "0ygDzDR48JIK"
      },
      "source": [
        "#### Importación de librerías\n",
        "\n",
        "Las librerías que se utilizarán durante todo el proceso se enumeran y se importan a continuación: "
      ]
    },
    {
      "cell_type": "code",
      "metadata": {
        "id": "QYGGlL7HNbtl"
      },
      "source": [
        "import pandas as pd\n",
        "import numpy as np\n",
        "import seaborn as sns\n",
        "import matplotlib.pyplot as plt\n",
        "import requests\n",
        "import io\n",
        "from io import BytesIO\n",
        "from zipfile import ZipFile\n",
        "from urllib.request import urlopen"
      ],
      "execution_count": 96,
      "outputs": []
    },
    {
      "cell_type": "markdown",
      "metadata": {
        "id": "5NYBsHjEWBt0"
      },
      "source": [
        "#### Datos de sequías"
      ]
    },
    {
      "cell_type": "markdown",
      "metadata": {
        "id": "9EO-DWjRFwTN"
      },
      "source": [
        "\n",
        "Tras analizar la página web, se observó que **no** era posible **descargar** el archivo con los datos ya que se trataba de una tabla interactiva que varía según los parámetros solicitados. Por lo tanto, debemos de extraerlos mediante **una** petición GET directa al sitio indicándole las siguientes cosas:\n",
        "- URL: https://droughtmonitor.unl.edu/NADM/Statistics.aspx Es la página en donde esta la tabla con los datos.\n",
        "- Parámetros:\n",
        "\n",
        "  *   `'area'`: Es el código perteneciente a cada estado. En nuestro caso, los códigos de los estados iban desde `\"MX01\"` hasta `\"MX32\"`.\n",
        "  *   `'type'`: Determina si la información esta dada por país (`\"country\"`) o por estado (`\"state\"`). En nuestro caso, se utilizó el parámetro `'type':'\"state\"'`.\n",
        "  *   `'statstype'`: El sitio ofrece diferentes estadísticas acerca de las sequías, pero la que nosotros nos es útil para nuestro analísis es la número (`\"2\"`), que hace referencia al porcentaje de área afectada por cada tipo de sequía.\n",
        "\n",
        "- Headers:\n",
        "  - `Content-Type: 'application/json; charset=utf-8'`. Debido a que la información deseada se encontraba en formato JSON, y sin este header se obtenía el html completo de la página.\n",
        "\n"
      ]
    },
    {
      "cell_type": "code",
      "metadata": {
        "colab": {
          "base_uri": "https://localhost:8080/",
          "height": 0
        },
        "id": "9T7ncN2mJygK",
        "outputId": "17427203-8fd1-4578-e941-1dd3aca0151b"
      },
      "source": [
        "#Diccionario Código:Estado\n",
        "codigos = {\n",
        "  \"MX01\": \"Aguascalientes\",\n",
        "  \"MX02\": \"Baja California\",\n",
        "  \"MX03\": \"Baja California Sur\",\n",
        "  \"MX04\": \"Campeche\",\n",
        "  \"MX05\": \"Chiapas\",\n",
        "  \"MX06\": \"Chihuahua\",    \n",
        "  \"MX07\": \"Coahuila\",  \n",
        "  \"MX08\": \"Colima\",\n",
        "  \"MX09\": \"Ciudad De Mexico\",    \n",
        "  \"MX10\": \"Durango\",\n",
        "  \"MX11\": \"Guanajuato\",   \n",
        "  \"MX12\": \"Guerrero\",\n",
        "  \"MX13\": \"Hidalgo\",\n",
        "  \"MX14\": \"Jalisco\",\n",
        "  \"MX15\": \"Estado De Mexico\", \n",
        "  \"MX16\": \"Michoacan\",  \n",
        "  \"MX17\": \"Morelos\",\n",
        "  \"MX18\": \"Nayarit\",\n",
        "  \"MX19\": \"Nuevo Leon\",   \n",
        "  \"MX20\": \"Oaxaca\",\n",
        "  \"MX21\": \"Puebla\",\n",
        "  \"MX22\": \"Queretaro\",   \n",
        "  \"MX23\": \"Quintana Roo\",\n",
        "  \"MX24\": \"San Luis Potosi\", \n",
        "  \"MX25\": \"Sinaloa\",\n",
        "  \"MX26\": \"Sonora\",\n",
        "  \"MX27\": \"Tabasco\",\n",
        "  \"MX28\": \"Tamaulipas\",\n",
        "  \"MX29\": \"Tlaxcala\",\n",
        "  \"MX30\": \"Veracruz\",\n",
        "  \"MX31\": \"Yucatan\",\n",
        "  \"MX32\": \"Zacatecas\"\n",
        "}\n",
        "\n",
        "URL = \"https://droughtmonitor.unl.edu/NADM/Statistics.aspx/ReturnTabularNadm\"\n",
        "\n",
        "params = {\n",
        "  \"type\": \"'state'\",\n",
        "  \"area\": \"\",\n",
        "  \"statstype\": \"'2'\"\n",
        "}\n",
        "\n",
        "headers = {\n",
        "  \"Content-Type\": \"application/json; charset=utf-8\"\n",
        "}\n",
        "\n",
        "df_sequias_raw = pd.DataFrame()\n",
        "\n",
        "#Ciclo for para petición\n",
        "for codigo, estado in codigos.items():\n",
        "  params[\"area\"] = \"'\" + codigo + \"'\"\n",
        "  response = requests.get(\n",
        "      URL,\n",
        "      headers=headers,\n",
        "      params=params\n",
        "  )\n",
        "  df = pd.DataFrame(response.json()[\"d\"])\n",
        "  #Para crear una columna que contenga el nombre de cada estado\n",
        "  df[\"Entidad\"] = estado\n",
        "  df_sequias_raw = pd.concat([df_sequias_raw,df], axis=0)\n",
        "  \n",
        "df_sequias_raw"
      ],
      "execution_count": 97,
      "outputs": [
        {
          "output_type": "execute_result",
          "data": {
            "text/html": [
              "<div>\n",
              "<style scoped>\n",
              "    .dataframe tbody tr th:only-of-type {\n",
              "        vertical-align: middle;\n",
              "    }\n",
              "\n",
              "    .dataframe tbody tr th {\n",
              "        vertical-align: top;\n",
              "    }\n",
              "\n",
              "    .dataframe thead th {\n",
              "        text-align: right;\n",
              "    }\n",
              "</style>\n",
              "<table border=\"1\" class=\"dataframe\">\n",
              "  <thead>\n",
              "    <tr style=\"text-align: right;\">\n",
              "      <th></th>\n",
              "      <th>__type</th>\n",
              "      <th>ReleaseID</th>\n",
              "      <th>Date</th>\n",
              "      <th>FileDate</th>\n",
              "      <th>D0</th>\n",
              "      <th>D1</th>\n",
              "      <th>D2</th>\n",
              "      <th>D3</th>\n",
              "      <th>D4</th>\n",
              "      <th>None</th>\n",
              "      <th>Entidad</th>\n",
              "    </tr>\n",
              "  </thead>\n",
              "  <tbody>\n",
              "    <tr>\n",
              "      <th>0</th>\n",
              "      <td>DroughtMonitorSite.code.NadmData</td>\n",
              "      <td>225</td>\n",
              "      <td>2021-07-31</td>\n",
              "      <td>20210731</td>\n",
              "      <td>0.00</td>\n",
              "      <td>0.00</td>\n",
              "      <td>0.00</td>\n",
              "      <td>0.0</td>\n",
              "      <td>0.0</td>\n",
              "      <td>100.00</td>\n",
              "      <td>Aguascalientes</td>\n",
              "    </tr>\n",
              "    <tr>\n",
              "      <th>1</th>\n",
              "      <td>DroughtMonitorSite.code.NadmData</td>\n",
              "      <td>224</td>\n",
              "      <td>2021-06-30</td>\n",
              "      <td>20210630</td>\n",
              "      <td>37.64</td>\n",
              "      <td>3.54</td>\n",
              "      <td>0.00</td>\n",
              "      <td>0.0</td>\n",
              "      <td>0.0</td>\n",
              "      <td>58.82</td>\n",
              "      <td>Aguascalientes</td>\n",
              "    </tr>\n",
              "    <tr>\n",
              "      <th>2</th>\n",
              "      <td>DroughtMonitorSite.code.NadmData</td>\n",
              "      <td>223</td>\n",
              "      <td>2021-05-31</td>\n",
              "      <td>20210531</td>\n",
              "      <td>0.00</td>\n",
              "      <td>73.87</td>\n",
              "      <td>26.13</td>\n",
              "      <td>0.0</td>\n",
              "      <td>0.0</td>\n",
              "      <td>0.00</td>\n",
              "      <td>Aguascalientes</td>\n",
              "    </tr>\n",
              "    <tr>\n",
              "      <th>3</th>\n",
              "      <td>DroughtMonitorSite.code.NadmData</td>\n",
              "      <td>222</td>\n",
              "      <td>2021-04-30</td>\n",
              "      <td>20210430</td>\n",
              "      <td>0.00</td>\n",
              "      <td>51.55</td>\n",
              "      <td>48.45</td>\n",
              "      <td>0.0</td>\n",
              "      <td>0.0</td>\n",
              "      <td>0.00</td>\n",
              "      <td>Aguascalientes</td>\n",
              "    </tr>\n",
              "    <tr>\n",
              "      <th>4</th>\n",
              "      <td>DroughtMonitorSite.code.NadmData</td>\n",
              "      <td>221</td>\n",
              "      <td>2021-03-31</td>\n",
              "      <td>20210331</td>\n",
              "      <td>0.00</td>\n",
              "      <td>75.85</td>\n",
              "      <td>24.15</td>\n",
              "      <td>0.0</td>\n",
              "      <td>0.0</td>\n",
              "      <td>0.00</td>\n",
              "      <td>Aguascalientes</td>\n",
              "    </tr>\n",
              "    <tr>\n",
              "      <th>...</th>\n",
              "      <td>...</td>\n",
              "      <td>...</td>\n",
              "      <td>...</td>\n",
              "      <td>...</td>\n",
              "      <td>...</td>\n",
              "      <td>...</td>\n",
              "      <td>...</td>\n",
              "      <td>...</td>\n",
              "      <td>...</td>\n",
              "      <td>...</td>\n",
              "      <td>...</td>\n",
              "    </tr>\n",
              "    <tr>\n",
              "      <th>220</th>\n",
              "      <td>DroughtMonitorSite.code.NadmData</td>\n",
              "      <td>5</td>\n",
              "      <td>2003-03-31</td>\n",
              "      <td>20030331</td>\n",
              "      <td>3.90</td>\n",
              "      <td>0.08</td>\n",
              "      <td>0.00</td>\n",
              "      <td>0.0</td>\n",
              "      <td>0.0</td>\n",
              "      <td>96.02</td>\n",
              "      <td>Zacatecas</td>\n",
              "    </tr>\n",
              "    <tr>\n",
              "      <th>221</th>\n",
              "      <td>DroughtMonitorSite.code.NadmData</td>\n",
              "      <td>4</td>\n",
              "      <td>2003-02-28</td>\n",
              "      <td>20030228</td>\n",
              "      <td>3.83</td>\n",
              "      <td>0.03</td>\n",
              "      <td>0.00</td>\n",
              "      <td>0.0</td>\n",
              "      <td>0.0</td>\n",
              "      <td>96.14</td>\n",
              "      <td>Zacatecas</td>\n",
              "    </tr>\n",
              "    <tr>\n",
              "      <th>222</th>\n",
              "      <td>DroughtMonitorSite.code.NadmData</td>\n",
              "      <td>3</td>\n",
              "      <td>2003-01-31</td>\n",
              "      <td>20030131</td>\n",
              "      <td>3.83</td>\n",
              "      <td>0.03</td>\n",
              "      <td>0.00</td>\n",
              "      <td>0.0</td>\n",
              "      <td>0.0</td>\n",
              "      <td>96.14</td>\n",
              "      <td>Zacatecas</td>\n",
              "    </tr>\n",
              "    <tr>\n",
              "      <th>223</th>\n",
              "      <td>DroughtMonitorSite.code.NadmData</td>\n",
              "      <td>2</td>\n",
              "      <td>2002-12-31</td>\n",
              "      <td>20021231</td>\n",
              "      <td>3.83</td>\n",
              "      <td>0.03</td>\n",
              "      <td>0.00</td>\n",
              "      <td>0.0</td>\n",
              "      <td>0.0</td>\n",
              "      <td>96.14</td>\n",
              "      <td>Zacatecas</td>\n",
              "    </tr>\n",
              "    <tr>\n",
              "      <th>224</th>\n",
              "      <td>DroughtMonitorSite.code.NadmData</td>\n",
              "      <td>1</td>\n",
              "      <td>2002-11-30</td>\n",
              "      <td>20021130</td>\n",
              "      <td>3.83</td>\n",
              "      <td>0.03</td>\n",
              "      <td>0.00</td>\n",
              "      <td>0.0</td>\n",
              "      <td>0.0</td>\n",
              "      <td>96.14</td>\n",
              "      <td>Zacatecas</td>\n",
              "    </tr>\n",
              "  </tbody>\n",
              "</table>\n",
              "<p>7200 rows × 11 columns</p>\n",
              "</div>"
            ],
            "text/plain": [
              "                               __type  ReleaseID  ...    None         Entidad\n",
              "0    DroughtMonitorSite.code.NadmData        225  ...  100.00  Aguascalientes\n",
              "1    DroughtMonitorSite.code.NadmData        224  ...   58.82  Aguascalientes\n",
              "2    DroughtMonitorSite.code.NadmData        223  ...    0.00  Aguascalientes\n",
              "3    DroughtMonitorSite.code.NadmData        222  ...    0.00  Aguascalientes\n",
              "4    DroughtMonitorSite.code.NadmData        221  ...    0.00  Aguascalientes\n",
              "..                                ...        ...  ...     ...             ...\n",
              "220  DroughtMonitorSite.code.NadmData          5  ...   96.02       Zacatecas\n",
              "221  DroughtMonitorSite.code.NadmData          4  ...   96.14       Zacatecas\n",
              "222  DroughtMonitorSite.code.NadmData          3  ...   96.14       Zacatecas\n",
              "223  DroughtMonitorSite.code.NadmData          2  ...   96.14       Zacatecas\n",
              "224  DroughtMonitorSite.code.NadmData          1  ...   96.14       Zacatecas\n",
              "\n",
              "[7200 rows x 11 columns]"
            ]
          },
          "metadata": {
            "tags": []
          },
          "execution_count": 97
        }
      ]
    },
    {
      "cell_type": "markdown",
      "metadata": {
        "id": "m4k_zK2ULloL"
      },
      "source": [
        "Ya con la fase de extracción completada, podemos guardar nuestros datos en un archivo de tipo `csv`. Este archivo nos será de ayuda en caso de que quisiéramos regresar a la versión inicial de los datos. "
      ]
    },
    {
      "cell_type": "code",
      "metadata": {
        "id": "e-Hd5CD4L-gB"
      },
      "source": [
        "df_sequias_raw.to_csv(\"Sequias_Mexico_raw.csv\")"
      ],
      "execution_count": 98,
      "outputs": []
    },
    {
      "cell_type": "markdown",
      "metadata": {
        "id": "G3QrveHHWHlZ"
      },
      "source": [
        "#### Datos estrés agrícola\n"
      ]
    },
    {
      "cell_type": "markdown",
      "metadata": {
        "id": "skASDNApNeK-"
      },
      "source": [
        "Pandas no puede leer `'csv'` desde string, `'pd.read_csv'` sólo funciona con archivos de tipo objeto. Por lo tanto, se debe crear un archivo utilizando  `'io.StringIO(response.content.decode('utf-8'))'`.\n"
      ]
    },
    {
      "cell_type": "code",
      "metadata": {
        "id": "AYq1tdPaOUPQ",
        "colab": {
          "base_uri": "https://localhost:8080/",
          "height": 0
        },
        "outputId": "170e33ff-42cd-41b7-d0a6-d7e97bb8d93f"
      },
      "source": [
        "response = requests.get('http://www.fao.org/giews/earthobservation/asis/data/country/MEX/MAP_ASI/DATA/ASI_Dekad_Season1_data.csv')\n",
        "\n",
        "file_object = io.StringIO(response.content.decode('utf-8'))\n",
        "df_IEA_raw = pd.read_csv(file_object)\n",
        "df_IEA_raw"
      ],
      "execution_count": 99,
      "outputs": [
        {
          "output_type": "execute_result",
          "data": {
            "text/html": [
              "<div>\n",
              "<style scoped>\n",
              "    .dataframe tbody tr th:only-of-type {\n",
              "        vertical-align: middle;\n",
              "    }\n",
              "\n",
              "    .dataframe tbody tr th {\n",
              "        vertical-align: top;\n",
              "    }\n",
              "\n",
              "    .dataframe thead th {\n",
              "        text-align: right;\n",
              "    }\n",
              "</style>\n",
              "<table border=\"1\" class=\"dataframe\">\n",
              "  <thead>\n",
              "    <tr style=\"text-align: right;\">\n",
              "      <th></th>\n",
              "      <th>Indicator</th>\n",
              "      <th>Country</th>\n",
              "      <th>ADM1_CODE</th>\n",
              "      <th>Province</th>\n",
              "      <th>Land_Type</th>\n",
              "      <th>Date</th>\n",
              "      <th>Data</th>\n",
              "      <th>Year</th>\n",
              "      <th>Month</th>\n",
              "      <th>Dekad</th>\n",
              "      <th>Unit</th>\n",
              "      <th>Source</th>\n",
              "    </tr>\n",
              "  </thead>\n",
              "  <tbody>\n",
              "    <tr>\n",
              "      <th>0</th>\n",
              "      <td>Agricultural Stress Index (ASI)</td>\n",
              "      <td>Mexico</td>\n",
              "      <td>2028</td>\n",
              "      <td>Aguascalientes</td>\n",
              "      <td>Crop Area</td>\n",
              "      <td>1984-01-01</td>\n",
              "      <td>0.000</td>\n",
              "      <td>1984</td>\n",
              "      <td>1</td>\n",
              "      <td>1</td>\n",
              "      <td>% of area with Mean VHI below 35</td>\n",
              "      <td>FAO-ASIS</td>\n",
              "    </tr>\n",
              "    <tr>\n",
              "      <th>1</th>\n",
              "      <td>Agricultural Stress Index (ASI)</td>\n",
              "      <td>Mexico</td>\n",
              "      <td>2028</td>\n",
              "      <td>Aguascalientes</td>\n",
              "      <td>Crop Area</td>\n",
              "      <td>1984-01-11</td>\n",
              "      <td>0.000</td>\n",
              "      <td>1984</td>\n",
              "      <td>1</td>\n",
              "      <td>2</td>\n",
              "      <td>% of area with Mean VHI below 35</td>\n",
              "      <td>FAO-ASIS</td>\n",
              "    </tr>\n",
              "    <tr>\n",
              "      <th>2</th>\n",
              "      <td>Agricultural Stress Index (ASI)</td>\n",
              "      <td>Mexico</td>\n",
              "      <td>2028</td>\n",
              "      <td>Aguascalientes</td>\n",
              "      <td>Crop Area</td>\n",
              "      <td>1984-01-21</td>\n",
              "      <td>0.000</td>\n",
              "      <td>1984</td>\n",
              "      <td>1</td>\n",
              "      <td>3</td>\n",
              "      <td>% of area with Mean VHI below 35</td>\n",
              "      <td>FAO-ASIS</td>\n",
              "    </tr>\n",
              "    <tr>\n",
              "      <th>3</th>\n",
              "      <td>Agricultural Stress Index (ASI)</td>\n",
              "      <td>Mexico</td>\n",
              "      <td>2028</td>\n",
              "      <td>Aguascalientes</td>\n",
              "      <td>Crop Area</td>\n",
              "      <td>1984-02-01</td>\n",
              "      <td>0.000</td>\n",
              "      <td>1984</td>\n",
              "      <td>2</td>\n",
              "      <td>1</td>\n",
              "      <td>% of area with Mean VHI below 35</td>\n",
              "      <td>FAO-ASIS</td>\n",
              "    </tr>\n",
              "    <tr>\n",
              "      <th>4</th>\n",
              "      <td>Agricultural Stress Index (ASI)</td>\n",
              "      <td>Mexico</td>\n",
              "      <td>2028</td>\n",
              "      <td>Aguascalientes</td>\n",
              "      <td>Crop Area</td>\n",
              "      <td>1984-02-11</td>\n",
              "      <td>0.000</td>\n",
              "      <td>1984</td>\n",
              "      <td>2</td>\n",
              "      <td>2</td>\n",
              "      <td>% of area with Mean VHI below 35</td>\n",
              "      <td>FAO-ASIS</td>\n",
              "    </tr>\n",
              "    <tr>\n",
              "      <th>...</th>\n",
              "      <td>...</td>\n",
              "      <td>...</td>\n",
              "      <td>...</td>\n",
              "      <td>...</td>\n",
              "      <td>...</td>\n",
              "      <td>...</td>\n",
              "      <td>...</td>\n",
              "      <td>...</td>\n",
              "      <td>...</td>\n",
              "      <td>...</td>\n",
              "      <td>...</td>\n",
              "      <td>...</td>\n",
              "    </tr>\n",
              "    <tr>\n",
              "      <th>41106</th>\n",
              "      <td>Agricultural Stress Index (ASI)</td>\n",
              "      <td>Mexico</td>\n",
              "      <td>2055</td>\n",
              "      <td>Tamaulipas</td>\n",
              "      <td>Crop Area</td>\n",
              "      <td>2021-08-01</td>\n",
              "      <td>0.789</td>\n",
              "      <td>2021</td>\n",
              "      <td>8</td>\n",
              "      <td>1</td>\n",
              "      <td>% of area with Mean VHI below 35</td>\n",
              "      <td>FAO-ASIS</td>\n",
              "    </tr>\n",
              "    <tr>\n",
              "      <th>41107</th>\n",
              "      <td>Agricultural Stress Index (ASI)</td>\n",
              "      <td>Mexico</td>\n",
              "      <td>2056</td>\n",
              "      <td>Tlaxcala</td>\n",
              "      <td>Crop Area</td>\n",
              "      <td>2021-08-01</td>\n",
              "      <td>0.163</td>\n",
              "      <td>2021</td>\n",
              "      <td>8</td>\n",
              "      <td>1</td>\n",
              "      <td>% of area with Mean VHI below 35</td>\n",
              "      <td>FAO-ASIS</td>\n",
              "    </tr>\n",
              "    <tr>\n",
              "      <th>41108</th>\n",
              "      <td>Agricultural Stress Index (ASI)</td>\n",
              "      <td>Mexico</td>\n",
              "      <td>2057</td>\n",
              "      <td>Veracruz</td>\n",
              "      <td>Crop Area</td>\n",
              "      <td>2021-08-01</td>\n",
              "      <td>0.906</td>\n",
              "      <td>2021</td>\n",
              "      <td>8</td>\n",
              "      <td>1</td>\n",
              "      <td>% of area with Mean VHI below 35</td>\n",
              "      <td>FAO-ASIS</td>\n",
              "    </tr>\n",
              "    <tr>\n",
              "      <th>41109</th>\n",
              "      <td>Agricultural Stress Index (ASI)</td>\n",
              "      <td>Mexico</td>\n",
              "      <td>2058</td>\n",
              "      <td>Yucatan</td>\n",
              "      <td>Crop Area</td>\n",
              "      <td>2021-08-01</td>\n",
              "      <td>0.693</td>\n",
              "      <td>2021</td>\n",
              "      <td>8</td>\n",
              "      <td>1</td>\n",
              "      <td>% of area with Mean VHI below 35</td>\n",
              "      <td>FAO-ASIS</td>\n",
              "    </tr>\n",
              "    <tr>\n",
              "      <th>41110</th>\n",
              "      <td>Agricultural Stress Index (ASI)</td>\n",
              "      <td>Mexico</td>\n",
              "      <td>2059</td>\n",
              "      <td>Zacatecas</td>\n",
              "      <td>Crop Area</td>\n",
              "      <td>2021-08-01</td>\n",
              "      <td>0.539</td>\n",
              "      <td>2021</td>\n",
              "      <td>8</td>\n",
              "      <td>1</td>\n",
              "      <td>% of area with Mean VHI below 35</td>\n",
              "      <td>FAO-ASIS</td>\n",
              "    </tr>\n",
              "  </tbody>\n",
              "</table>\n",
              "<p>41111 rows × 12 columns</p>\n",
              "</div>"
            ],
            "text/plain": [
              "                             Indicator  ...    Source\n",
              "0      Agricultural Stress Index (ASI)  ...  FAO-ASIS\n",
              "1      Agricultural Stress Index (ASI)  ...  FAO-ASIS\n",
              "2      Agricultural Stress Index (ASI)  ...  FAO-ASIS\n",
              "3      Agricultural Stress Index (ASI)  ...  FAO-ASIS\n",
              "4      Agricultural Stress Index (ASI)  ...  FAO-ASIS\n",
              "...                                ...  ...       ...\n",
              "41106  Agricultural Stress Index (ASI)  ...  FAO-ASIS\n",
              "41107  Agricultural Stress Index (ASI)  ...  FAO-ASIS\n",
              "41108  Agricultural Stress Index (ASI)  ...  FAO-ASIS\n",
              "41109  Agricultural Stress Index (ASI)  ...  FAO-ASIS\n",
              "41110  Agricultural Stress Index (ASI)  ...  FAO-ASIS\n",
              "\n",
              "[41111 rows x 12 columns]"
            ]
          },
          "metadata": {
            "tags": []
          },
          "execution_count": 99
        }
      ]
    },
    {
      "cell_type": "markdown",
      "metadata": {
        "id": "LUaIs4D6Uto_"
      },
      "source": [
        "De la misma manera que con los datos de sequia, almacenamos este dataset puro."
      ]
    },
    {
      "cell_type": "code",
      "metadata": {
        "id": "1FgokdtdUC6H"
      },
      "source": [
        "df_IEA_raw.to_csv(\"IEA_Mexico_raw.csv\")"
      ],
      "execution_count": 100,
      "outputs": []
    },
    {
      "cell_type": "markdown",
      "metadata": {
        "id": "cOCdlnyoV52H"
      },
      "source": [
        "#### Datos de temperatura media mensual"
      ]
    },
    {
      "cell_type": "markdown",
      "metadata": {
        "id": "bdngBANIWQjk"
      },
      "source": [
        "El link de descarga proporciona un zip con un archivo para cada año de 1985 a 2021. Se obtendrán los datos directamente del enlace utilizando las librerías:  \n",
        "*   `urllib`: para abrir el enlace.\n",
        "*   `io`: para manipular el objeto sin tener que descargarlo a nuestro drive.\n",
        "*   `zipfile`: para descomprimirlo. "
      ]
    },
    {
      "cell_type": "code",
      "metadata": {
        "colab": {
          "base_uri": "https://localhost:8080/",
          "height": 0
        },
        "id": "c5mylUTcV5mP",
        "outputId": "6ab61815-b06f-4adf-8cd5-0fb43d44a1c6"
      },
      "source": [
        "# Asignamos el enlace\n",
        "resp_temp = urlopen('http://datos.conagua.gob.mx/DatosAbiertos/Temperatura_Promedio_Excel.zip')\n",
        "# Descomprimimos el enlace\n",
        "zipfile_temp = ZipFile(BytesIO(resp_temp.read()))\n",
        "# Obtenemos la lista de archivos contenidos en el zip \n",
        "lista_archivos_temp = zipfile_temp.namelist()\n",
        "# Los archivos están contenidos dentro de otra carpeta en el zip, por ello se elimina el nombre de la carpeta\n",
        "lista_archivos_temp.pop(0)"
      ],
      "execution_count": 101,
      "outputs": [
        {
          "output_type": "execute_result",
          "data": {
            "application/vnd.google.colaboratory.intrinsic+json": {
              "type": "string"
            },
            "text/plain": [
              "'Temperatura_Promedio_Excel/'"
            ]
          },
          "metadata": {
            "tags": []
          },
          "execution_count": 101
        }
      ]
    },
    {
      "cell_type": "markdown",
      "metadata": {
        "id": "VvWrjaB9Wm_s"
      },
      "source": [
        "Ahora podemos iterar sobre la lista de archivos y crear un dataframe conjunto. Se agrega un identificador `Year` para poder distinguir entre los datos. "
      ]
    },
    {
      "cell_type": "code",
      "metadata": {
        "id": "wG4DKL2gWnsV",
        "colab": {
          "base_uri": "https://localhost:8080/",
          "height": 0
        },
        "outputId": "2cf0001d-21e3-4291-b6a1-f34e07e3ebe5"
      },
      "source": [
        "# Iniciamos el DataFrame\n",
        "df_temperatura_media = pd.DataFrame()\n",
        "# Iteramos sobre la lista de archivos para crear un DataFrame conjunto\n",
        "for archivo in lista_archivos_temp:\n",
        "    df = pd.read_excel(zipfile_temp.open(archivo),skiprows=1)\n",
        "    #  Añadimos el año de los datos\n",
        "    df[\"Year\"] = lista_archivos_temp.index(archivo)+1985\n",
        "    df_temperatura_media = df_temperatura_media.append(df)\n",
        "df_temperatura_media"
      ],
      "execution_count": 102,
      "outputs": [
        {
          "output_type": "execute_result",
          "data": {
            "text/html": [
              "<div>\n",
              "<style scoped>\n",
              "    .dataframe tbody tr th:only-of-type {\n",
              "        vertical-align: middle;\n",
              "    }\n",
              "\n",
              "    .dataframe tbody tr th {\n",
              "        vertical-align: top;\n",
              "    }\n",
              "\n",
              "    .dataframe thead th {\n",
              "        text-align: right;\n",
              "    }\n",
              "</style>\n",
              "<table border=\"1\" class=\"dataframe\">\n",
              "  <thead>\n",
              "    <tr style=\"text-align: right;\">\n",
              "      <th></th>\n",
              "      <th>ENTIDAD</th>\n",
              "      <th>ENE</th>\n",
              "      <th>FEB</th>\n",
              "      <th>MAR</th>\n",
              "      <th>ABR</th>\n",
              "      <th>MAY</th>\n",
              "      <th>JUN</th>\n",
              "      <th>JUL</th>\n",
              "      <th>AGO</th>\n",
              "      <th>SEP</th>\n",
              "      <th>OCT</th>\n",
              "      <th>NOV</th>\n",
              "      <th>DIC</th>\n",
              "      <th>ANUAL</th>\n",
              "      <th>Year</th>\n",
              "    </tr>\n",
              "  </thead>\n",
              "  <tbody>\n",
              "    <tr>\n",
              "      <th>0</th>\n",
              "      <td>AGUASCALIENTES</td>\n",
              "      <td>11.967094</td>\n",
              "      <td>14.325850</td>\n",
              "      <td>17.051892</td>\n",
              "      <td>17.757925</td>\n",
              "      <td>21.183229</td>\n",
              "      <td>19.555818</td>\n",
              "      <td>18.122211</td>\n",
              "      <td>18.662660</td>\n",
              "      <td>18.876058</td>\n",
              "      <td>17.812996</td>\n",
              "      <td>14.964776</td>\n",
              "      <td>13.291935</td>\n",
              "      <td>16.964370</td>\n",
              "      <td>1985</td>\n",
              "    </tr>\n",
              "    <tr>\n",
              "      <th>1</th>\n",
              "      <td>BAJA CALIFORNIA</td>\n",
              "      <td>11.052290</td>\n",
              "      <td>12.020371</td>\n",
              "      <td>13.327013</td>\n",
              "      <td>17.784793</td>\n",
              "      <td>19.014780</td>\n",
              "      <td>22.829886</td>\n",
              "      <td>26.029444</td>\n",
              "      <td>25.755290</td>\n",
              "      <td>21.776102</td>\n",
              "      <td>19.454984</td>\n",
              "      <td>14.226904</td>\n",
              "      <td>12.896353</td>\n",
              "      <td>18.014017</td>\n",
              "      <td>1985</td>\n",
              "    </tr>\n",
              "    <tr>\n",
              "      <th>2</th>\n",
              "      <td>BAJA CALIFORNIA SUR</td>\n",
              "      <td>15.702536</td>\n",
              "      <td>16.341758</td>\n",
              "      <td>18.869057</td>\n",
              "      <td>20.618486</td>\n",
              "      <td>22.771742</td>\n",
              "      <td>25.078030</td>\n",
              "      <td>27.942791</td>\n",
              "      <td>28.599667</td>\n",
              "      <td>27.457056</td>\n",
              "      <td>24.077373</td>\n",
              "      <td>20.218419</td>\n",
              "      <td>17.895560</td>\n",
              "      <td>22.131040</td>\n",
              "      <td>1985</td>\n",
              "    </tr>\n",
              "    <tr>\n",
              "      <th>3</th>\n",
              "      <td>CAMPECHE</td>\n",
              "      <td>22.932142</td>\n",
              "      <td>24.354781</td>\n",
              "      <td>26.765947</td>\n",
              "      <td>27.195333</td>\n",
              "      <td>28.384986</td>\n",
              "      <td>28.042711</td>\n",
              "      <td>27.602259</td>\n",
              "      <td>27.689912</td>\n",
              "      <td>27.225265</td>\n",
              "      <td>26.546207</td>\n",
              "      <td>25.555455</td>\n",
              "      <td>24.349107</td>\n",
              "      <td>26.387009</td>\n",
              "      <td>1985</td>\n",
              "    </tr>\n",
              "    <tr>\n",
              "      <th>4</th>\n",
              "      <td>COAHUILA</td>\n",
              "      <td>8.438872</td>\n",
              "      <td>12.069164</td>\n",
              "      <td>18.016687</td>\n",
              "      <td>19.857930</td>\n",
              "      <td>23.492708</td>\n",
              "      <td>24.373270</td>\n",
              "      <td>24.376498</td>\n",
              "      <td>24.823414</td>\n",
              "      <td>23.656209</td>\n",
              "      <td>20.346794</td>\n",
              "      <td>18.211811</td>\n",
              "      <td>13.224615</td>\n",
              "      <td>19.240664</td>\n",
              "      <td>1985</td>\n",
              "    </tr>\n",
              "    <tr>\n",
              "      <th>...</th>\n",
              "      <td>...</td>\n",
              "      <td>...</td>\n",
              "      <td>...</td>\n",
              "      <td>...</td>\n",
              "      <td>...</td>\n",
              "      <td>...</td>\n",
              "      <td>...</td>\n",
              "      <td>...</td>\n",
              "      <td>...</td>\n",
              "      <td>...</td>\n",
              "      <td>...</td>\n",
              "      <td>...</td>\n",
              "      <td>...</td>\n",
              "      <td>...</td>\n",
              "      <td>...</td>\n",
              "    </tr>\n",
              "    <tr>\n",
              "      <th>28</th>\n",
              "      <td>TLAXCALA</td>\n",
              "      <td>12.600000</td>\n",
              "      <td>13.000000</td>\n",
              "      <td>16.200000</td>\n",
              "      <td>16.800000</td>\n",
              "      <td>16.900000</td>\n",
              "      <td>16.000000</td>\n",
              "      <td>NaN</td>\n",
              "      <td>NaN</td>\n",
              "      <td>NaN</td>\n",
              "      <td>NaN</td>\n",
              "      <td>NaN</td>\n",
              "      <td>NaN</td>\n",
              "      <td>NaN</td>\n",
              "      <td>2021</td>\n",
              "    </tr>\n",
              "    <tr>\n",
              "      <th>29</th>\n",
              "      <td>VERACRUZ</td>\n",
              "      <td>19.000000</td>\n",
              "      <td>19.900000</td>\n",
              "      <td>22.500000</td>\n",
              "      <td>24.900000</td>\n",
              "      <td>25.800000</td>\n",
              "      <td>25.100000</td>\n",
              "      <td>NaN</td>\n",
              "      <td>NaN</td>\n",
              "      <td>NaN</td>\n",
              "      <td>NaN</td>\n",
              "      <td>NaN</td>\n",
              "      <td>NaN</td>\n",
              "      <td>NaN</td>\n",
              "      <td>2021</td>\n",
              "    </tr>\n",
              "    <tr>\n",
              "      <th>30</th>\n",
              "      <td>YUCATÁN</td>\n",
              "      <td>23.300000</td>\n",
              "      <td>24.700000</td>\n",
              "      <td>26.600000</td>\n",
              "      <td>29.100000</td>\n",
              "      <td>29.500000</td>\n",
              "      <td>28.600000</td>\n",
              "      <td>NaN</td>\n",
              "      <td>NaN</td>\n",
              "      <td>NaN</td>\n",
              "      <td>NaN</td>\n",
              "      <td>NaN</td>\n",
              "      <td>NaN</td>\n",
              "      <td>NaN</td>\n",
              "      <td>2021</td>\n",
              "    </tr>\n",
              "    <tr>\n",
              "      <th>31</th>\n",
              "      <td>ZACATECAS</td>\n",
              "      <td>13.000000</td>\n",
              "      <td>15.500000</td>\n",
              "      <td>18.200000</td>\n",
              "      <td>19.900000</td>\n",
              "      <td>21.600000</td>\n",
              "      <td>21.200000</td>\n",
              "      <td>NaN</td>\n",
              "      <td>NaN</td>\n",
              "      <td>NaN</td>\n",
              "      <td>NaN</td>\n",
              "      <td>NaN</td>\n",
              "      <td>NaN</td>\n",
              "      <td>NaN</td>\n",
              "      <td>2021</td>\n",
              "    </tr>\n",
              "    <tr>\n",
              "      <th>32</th>\n",
              "      <td>NACIONAL</td>\n",
              "      <td>16.400000</td>\n",
              "      <td>18.000000</td>\n",
              "      <td>20.300000</td>\n",
              "      <td>23.000000</td>\n",
              "      <td>24.800000</td>\n",
              "      <td>26.000000</td>\n",
              "      <td>NaN</td>\n",
              "      <td>NaN</td>\n",
              "      <td>NaN</td>\n",
              "      <td>NaN</td>\n",
              "      <td>NaN</td>\n",
              "      <td>NaN</td>\n",
              "      <td>NaN</td>\n",
              "      <td>2021</td>\n",
              "    </tr>\n",
              "  </tbody>\n",
              "</table>\n",
              "<p>1221 rows × 15 columns</p>\n",
              "</div>"
            ],
            "text/plain": [
              "                ENTIDAD        ENE        FEB  ...        DIC      ANUAL  Year\n",
              "0        AGUASCALIENTES  11.967094  14.325850  ...  13.291935  16.964370  1985\n",
              "1       BAJA CALIFORNIA  11.052290  12.020371  ...  12.896353  18.014017  1985\n",
              "2   BAJA CALIFORNIA SUR  15.702536  16.341758  ...  17.895560  22.131040  1985\n",
              "3              CAMPECHE  22.932142  24.354781  ...  24.349107  26.387009  1985\n",
              "4              COAHUILA   8.438872  12.069164  ...  13.224615  19.240664  1985\n",
              "..                  ...        ...        ...  ...        ...        ...   ...\n",
              "28             TLAXCALA  12.600000  13.000000  ...        NaN        NaN  2021\n",
              "29             VERACRUZ  19.000000  19.900000  ...        NaN        NaN  2021\n",
              "30              YUCATÁN  23.300000  24.700000  ...        NaN        NaN  2021\n",
              "31            ZACATECAS  13.000000  15.500000  ...        NaN        NaN  2021\n",
              "32             NACIONAL  16.400000  18.000000  ...        NaN        NaN  2021\n",
              "\n",
              "[1221 rows x 15 columns]"
            ]
          },
          "metadata": {
            "tags": []
          },
          "execution_count": 102
        }
      ]
    },
    {
      "cell_type": "code",
      "metadata": {
        "id": "7s3X9iDNW0Dj"
      },
      "source": [
        "#Guardamos los datos en un csv\n",
        "df_temperatura_media.to_csv(\"Temperatura_Media_Mexico_raw.csv\")"
      ],
      "execution_count": 103,
      "outputs": []
    },
    {
      "cell_type": "markdown",
      "metadata": {
        "id": "ivOJB1SgW5yE"
      },
      "source": [
        "#### Datos de precipitación"
      ]
    },
    {
      "cell_type": "markdown",
      "metadata": {
        "id": "WoVE7nqgW_b_"
      },
      "source": [
        "El link de descarga proporciona un zip con un archivo para cada año de 1985 a 2021; por ende repetiremos el mismo procedimiento utilizado para extracción de datos de temperaturas. "
      ]
    },
    {
      "cell_type": "code",
      "metadata": {
        "id": "GyXX0RpMC49j"
      },
      "source": [
        "# Asignamos el enlace\n",
        "resp_preci = urlopen('http://201.116.60.46/DatosAbiertos/Precipitacion.zip')\n",
        "# Descomprimimos el enlace\n",
        "zipfile_preci = ZipFile(BytesIO(resp_preci.read()))\n",
        "# Obtenemos la lista de archivos contenidos en el zip \n",
        "lista_archivos_preci = zipfile_preci.namelist()\n",
        "# Los archivos están contenidos dentro de otra carpeta en el zip, por ello se elimina el nombre de la carpeta\n",
        "lista_archivos_preci.pop(0)\n",
        "# Hay un archivo repetido para el 2020 que está incompleto, se tiene que eliminar\n",
        "lista_archivos_preci.pop(35)\n",
        "\n",
        "# Iniciamos el DataFrame\n",
        "df_precipitacion= pd.DataFrame()\n",
        "# Iteramos sobre la lista de archivos para crear un DataFrame conjunto\n",
        "for archivo in lista_archivos_preci:\n",
        "    df = pd.read_excel(zipfile_preci.open(archivo),skiprows=1)\n",
        "    #  Añadimos el año de los datos\n",
        "    df[\"Year\"] = lista_archivos_preci.index(archivo)+1985\n",
        "    df_precipitacion = df_precipitacion.append(df)"
      ],
      "execution_count": 104,
      "outputs": []
    },
    {
      "cell_type": "code",
      "metadata": {
        "id": "d72ROMFVXjja"
      },
      "source": [
        "#Guardamos los datos en un csv\n",
        "df_precipitacion.to_csv(\"Precipitacion_Media_Mexico_raw.csv\")"
      ],
      "execution_count": 105,
      "outputs": []
    },
    {
      "cell_type": "markdown",
      "metadata": {
        "id": "9Q8sqMKC72cd"
      },
      "source": [
        "## Análisis exploratorio de los datos"
      ]
    },
    {
      "cell_type": "markdown",
      "metadata": {
        "id": "0gqp2rJUkTVJ"
      },
      "source": [
        "#### Exploración a dataframe de sequías"
      ]
    },
    {
      "cell_type": "markdown",
      "metadata": {
        "id": "Pbk7bVi5kcbs"
      },
      "source": [
        "Para hacer una exploración rápida de nuestros datos utilizaremos el método `info()` y las funciones `head()` y `tail()`"
      ]
    },
    {
      "cell_type": "code",
      "metadata": {
        "colab": {
          "base_uri": "https://localhost:8080/"
        },
        "id": "Wo9ZbyBGlK6r",
        "outputId": "9dfcab18-8c5d-442a-97f4-e66a6011366c"
      },
      "source": [
        "df_sequias_raw.info()"
      ],
      "execution_count": 106,
      "outputs": [
        {
          "output_type": "stream",
          "text": [
            "<class 'pandas.core.frame.DataFrame'>\n",
            "Int64Index: 7200 entries, 0 to 224\n",
            "Data columns (total 11 columns):\n",
            " #   Column     Non-Null Count  Dtype  \n",
            "---  ------     --------------  -----  \n",
            " 0   __type     7200 non-null   object \n",
            " 1   ReleaseID  7200 non-null   int64  \n",
            " 2   Date       7200 non-null   object \n",
            " 3   FileDate   7200 non-null   object \n",
            " 4   D0         7200 non-null   float64\n",
            " 5   D1         7200 non-null   float64\n",
            " 6   D2         7200 non-null   float64\n",
            " 7   D3         7200 non-null   float64\n",
            " 8   D4         7200 non-null   float64\n",
            " 9   None       7200 non-null   float64\n",
            " 10  Entidad    7200 non-null   object \n",
            "dtypes: float64(6), int64(1), object(4)\n",
            "memory usage: 675.0+ KB\n"
          ],
          "name": "stdout"
        }
      ]
    },
    {
      "cell_type": "code",
      "metadata": {
        "colab": {
          "base_uri": "https://localhost:8080/",
          "height": 0
        },
        "id": "uJYcbNndlZBH",
        "outputId": "87f24807-77d0-4303-9369-8b4a6dc1bcd3"
      },
      "source": [
        "df_sequias_raw.head()"
      ],
      "execution_count": 107,
      "outputs": [
        {
          "output_type": "execute_result",
          "data": {
            "text/html": [
              "<div>\n",
              "<style scoped>\n",
              "    .dataframe tbody tr th:only-of-type {\n",
              "        vertical-align: middle;\n",
              "    }\n",
              "\n",
              "    .dataframe tbody tr th {\n",
              "        vertical-align: top;\n",
              "    }\n",
              "\n",
              "    .dataframe thead th {\n",
              "        text-align: right;\n",
              "    }\n",
              "</style>\n",
              "<table border=\"1\" class=\"dataframe\">\n",
              "  <thead>\n",
              "    <tr style=\"text-align: right;\">\n",
              "      <th></th>\n",
              "      <th>__type</th>\n",
              "      <th>ReleaseID</th>\n",
              "      <th>Date</th>\n",
              "      <th>FileDate</th>\n",
              "      <th>D0</th>\n",
              "      <th>D1</th>\n",
              "      <th>D2</th>\n",
              "      <th>D3</th>\n",
              "      <th>D4</th>\n",
              "      <th>None</th>\n",
              "      <th>Entidad</th>\n",
              "    </tr>\n",
              "  </thead>\n",
              "  <tbody>\n",
              "    <tr>\n",
              "      <th>0</th>\n",
              "      <td>DroughtMonitorSite.code.NadmData</td>\n",
              "      <td>225</td>\n",
              "      <td>2021-07-31</td>\n",
              "      <td>20210731</td>\n",
              "      <td>0.00</td>\n",
              "      <td>0.00</td>\n",
              "      <td>0.00</td>\n",
              "      <td>0.0</td>\n",
              "      <td>0.0</td>\n",
              "      <td>100.00</td>\n",
              "      <td>Aguascalientes</td>\n",
              "    </tr>\n",
              "    <tr>\n",
              "      <th>1</th>\n",
              "      <td>DroughtMonitorSite.code.NadmData</td>\n",
              "      <td>224</td>\n",
              "      <td>2021-06-30</td>\n",
              "      <td>20210630</td>\n",
              "      <td>37.64</td>\n",
              "      <td>3.54</td>\n",
              "      <td>0.00</td>\n",
              "      <td>0.0</td>\n",
              "      <td>0.0</td>\n",
              "      <td>58.82</td>\n",
              "      <td>Aguascalientes</td>\n",
              "    </tr>\n",
              "    <tr>\n",
              "      <th>2</th>\n",
              "      <td>DroughtMonitorSite.code.NadmData</td>\n",
              "      <td>223</td>\n",
              "      <td>2021-05-31</td>\n",
              "      <td>20210531</td>\n",
              "      <td>0.00</td>\n",
              "      <td>73.87</td>\n",
              "      <td>26.13</td>\n",
              "      <td>0.0</td>\n",
              "      <td>0.0</td>\n",
              "      <td>0.00</td>\n",
              "      <td>Aguascalientes</td>\n",
              "    </tr>\n",
              "    <tr>\n",
              "      <th>3</th>\n",
              "      <td>DroughtMonitorSite.code.NadmData</td>\n",
              "      <td>222</td>\n",
              "      <td>2021-04-30</td>\n",
              "      <td>20210430</td>\n",
              "      <td>0.00</td>\n",
              "      <td>51.55</td>\n",
              "      <td>48.45</td>\n",
              "      <td>0.0</td>\n",
              "      <td>0.0</td>\n",
              "      <td>0.00</td>\n",
              "      <td>Aguascalientes</td>\n",
              "    </tr>\n",
              "    <tr>\n",
              "      <th>4</th>\n",
              "      <td>DroughtMonitorSite.code.NadmData</td>\n",
              "      <td>221</td>\n",
              "      <td>2021-03-31</td>\n",
              "      <td>20210331</td>\n",
              "      <td>0.00</td>\n",
              "      <td>75.85</td>\n",
              "      <td>24.15</td>\n",
              "      <td>0.0</td>\n",
              "      <td>0.0</td>\n",
              "      <td>0.00</td>\n",
              "      <td>Aguascalientes</td>\n",
              "    </tr>\n",
              "  </tbody>\n",
              "</table>\n",
              "</div>"
            ],
            "text/plain": [
              "                             __type  ReleaseID  ...    None         Entidad\n",
              "0  DroughtMonitorSite.code.NadmData        225  ...  100.00  Aguascalientes\n",
              "1  DroughtMonitorSite.code.NadmData        224  ...   58.82  Aguascalientes\n",
              "2  DroughtMonitorSite.code.NadmData        223  ...    0.00  Aguascalientes\n",
              "3  DroughtMonitorSite.code.NadmData        222  ...    0.00  Aguascalientes\n",
              "4  DroughtMonitorSite.code.NadmData        221  ...    0.00  Aguascalientes\n",
              "\n",
              "[5 rows x 11 columns]"
            ]
          },
          "metadata": {
            "tags": []
          },
          "execution_count": 107
        }
      ]
    },
    {
      "cell_type": "code",
      "metadata": {
        "colab": {
          "base_uri": "https://localhost:8080/",
          "height": 0
        },
        "id": "uTk_SBdPlcXY",
        "outputId": "106a722c-88f1-4233-936b-8830e521c6bf"
      },
      "source": [
        "df_sequias_raw.tail()"
      ],
      "execution_count": 108,
      "outputs": [
        {
          "output_type": "execute_result",
          "data": {
            "text/html": [
              "<div>\n",
              "<style scoped>\n",
              "    .dataframe tbody tr th:only-of-type {\n",
              "        vertical-align: middle;\n",
              "    }\n",
              "\n",
              "    .dataframe tbody tr th {\n",
              "        vertical-align: top;\n",
              "    }\n",
              "\n",
              "    .dataframe thead th {\n",
              "        text-align: right;\n",
              "    }\n",
              "</style>\n",
              "<table border=\"1\" class=\"dataframe\">\n",
              "  <thead>\n",
              "    <tr style=\"text-align: right;\">\n",
              "      <th></th>\n",
              "      <th>__type</th>\n",
              "      <th>ReleaseID</th>\n",
              "      <th>Date</th>\n",
              "      <th>FileDate</th>\n",
              "      <th>D0</th>\n",
              "      <th>D1</th>\n",
              "      <th>D2</th>\n",
              "      <th>D3</th>\n",
              "      <th>D4</th>\n",
              "      <th>None</th>\n",
              "      <th>Entidad</th>\n",
              "    </tr>\n",
              "  </thead>\n",
              "  <tbody>\n",
              "    <tr>\n",
              "      <th>220</th>\n",
              "      <td>DroughtMonitorSite.code.NadmData</td>\n",
              "      <td>5</td>\n",
              "      <td>2003-03-31</td>\n",
              "      <td>20030331</td>\n",
              "      <td>3.90</td>\n",
              "      <td>0.08</td>\n",
              "      <td>0.0</td>\n",
              "      <td>0.0</td>\n",
              "      <td>0.0</td>\n",
              "      <td>96.02</td>\n",
              "      <td>Zacatecas</td>\n",
              "    </tr>\n",
              "    <tr>\n",
              "      <th>221</th>\n",
              "      <td>DroughtMonitorSite.code.NadmData</td>\n",
              "      <td>4</td>\n",
              "      <td>2003-02-28</td>\n",
              "      <td>20030228</td>\n",
              "      <td>3.83</td>\n",
              "      <td>0.03</td>\n",
              "      <td>0.0</td>\n",
              "      <td>0.0</td>\n",
              "      <td>0.0</td>\n",
              "      <td>96.14</td>\n",
              "      <td>Zacatecas</td>\n",
              "    </tr>\n",
              "    <tr>\n",
              "      <th>222</th>\n",
              "      <td>DroughtMonitorSite.code.NadmData</td>\n",
              "      <td>3</td>\n",
              "      <td>2003-01-31</td>\n",
              "      <td>20030131</td>\n",
              "      <td>3.83</td>\n",
              "      <td>0.03</td>\n",
              "      <td>0.0</td>\n",
              "      <td>0.0</td>\n",
              "      <td>0.0</td>\n",
              "      <td>96.14</td>\n",
              "      <td>Zacatecas</td>\n",
              "    </tr>\n",
              "    <tr>\n",
              "      <th>223</th>\n",
              "      <td>DroughtMonitorSite.code.NadmData</td>\n",
              "      <td>2</td>\n",
              "      <td>2002-12-31</td>\n",
              "      <td>20021231</td>\n",
              "      <td>3.83</td>\n",
              "      <td>0.03</td>\n",
              "      <td>0.0</td>\n",
              "      <td>0.0</td>\n",
              "      <td>0.0</td>\n",
              "      <td>96.14</td>\n",
              "      <td>Zacatecas</td>\n",
              "    </tr>\n",
              "    <tr>\n",
              "      <th>224</th>\n",
              "      <td>DroughtMonitorSite.code.NadmData</td>\n",
              "      <td>1</td>\n",
              "      <td>2002-11-30</td>\n",
              "      <td>20021130</td>\n",
              "      <td>3.83</td>\n",
              "      <td>0.03</td>\n",
              "      <td>0.0</td>\n",
              "      <td>0.0</td>\n",
              "      <td>0.0</td>\n",
              "      <td>96.14</td>\n",
              "      <td>Zacatecas</td>\n",
              "    </tr>\n",
              "  </tbody>\n",
              "</table>\n",
              "</div>"
            ],
            "text/plain": [
              "                               __type  ReleaseID  ...   None    Entidad\n",
              "220  DroughtMonitorSite.code.NadmData          5  ...  96.02  Zacatecas\n",
              "221  DroughtMonitorSite.code.NadmData          4  ...  96.14  Zacatecas\n",
              "222  DroughtMonitorSite.code.NadmData          3  ...  96.14  Zacatecas\n",
              "223  DroughtMonitorSite.code.NadmData          2  ...  96.14  Zacatecas\n",
              "224  DroughtMonitorSite.code.NadmData          1  ...  96.14  Zacatecas\n",
              "\n",
              "[5 rows x 11 columns]"
            ]
          },
          "metadata": {
            "tags": []
          },
          "execution_count": 108
        }
      ]
    },
    {
      "cell_type": "code",
      "metadata": {
        "colab": {
          "base_uri": "https://localhost:8080/",
          "height": 0
        },
        "id": "AoTnoV00lk2g",
        "outputId": "7331acfb-392f-46d5-ece2-8b8d02d88e71"
      },
      "source": [
        "df_sequias_raw.describe()"
      ],
      "execution_count": 109,
      "outputs": [
        {
          "output_type": "execute_result",
          "data": {
            "text/html": [
              "<div>\n",
              "<style scoped>\n",
              "    .dataframe tbody tr th:only-of-type {\n",
              "        vertical-align: middle;\n",
              "    }\n",
              "\n",
              "    .dataframe tbody tr th {\n",
              "        vertical-align: top;\n",
              "    }\n",
              "\n",
              "    .dataframe thead th {\n",
              "        text-align: right;\n",
              "    }\n",
              "</style>\n",
              "<table border=\"1\" class=\"dataframe\">\n",
              "  <thead>\n",
              "    <tr style=\"text-align: right;\">\n",
              "      <th></th>\n",
              "      <th>ReleaseID</th>\n",
              "      <th>D0</th>\n",
              "      <th>D1</th>\n",
              "      <th>D2</th>\n",
              "      <th>D3</th>\n",
              "      <th>D4</th>\n",
              "      <th>None</th>\n",
              "    </tr>\n",
              "  </thead>\n",
              "  <tbody>\n",
              "    <tr>\n",
              "      <th>count</th>\n",
              "      <td>7200.000000</td>\n",
              "      <td>7200.000000</td>\n",
              "      <td>7200.000000</td>\n",
              "      <td>7200.000000</td>\n",
              "      <td>7200.000000</td>\n",
              "      <td>7200.000000</td>\n",
              "      <td>7200.000000</td>\n",
              "    </tr>\n",
              "    <tr>\n",
              "      <th>mean</th>\n",
              "      <td>113.000000</td>\n",
              "      <td>21.152092</td>\n",
              "      <td>11.436035</td>\n",
              "      <td>5.424350</td>\n",
              "      <td>1.981671</td>\n",
              "      <td>0.311225</td>\n",
              "      <td>58.463218</td>\n",
              "    </tr>\n",
              "    <tr>\n",
              "      <th>std</th>\n",
              "      <td>64.955775</td>\n",
              "      <td>24.238689</td>\n",
              "      <td>19.857668</td>\n",
              "      <td>14.814493</td>\n",
              "      <td>9.182008</td>\n",
              "      <td>3.367680</td>\n",
              "      <td>38.361178</td>\n",
              "    </tr>\n",
              "    <tr>\n",
              "      <th>min</th>\n",
              "      <td>1.000000</td>\n",
              "      <td>0.000000</td>\n",
              "      <td>0.000000</td>\n",
              "      <td>0.000000</td>\n",
              "      <td>0.000000</td>\n",
              "      <td>0.000000</td>\n",
              "      <td>0.000000</td>\n",
              "    </tr>\n",
              "    <tr>\n",
              "      <th>25%</th>\n",
              "      <td>57.000000</td>\n",
              "      <td>0.000000</td>\n",
              "      <td>0.000000</td>\n",
              "      <td>0.000000</td>\n",
              "      <td>0.000000</td>\n",
              "      <td>0.000000</td>\n",
              "      <td>19.967500</td>\n",
              "    </tr>\n",
              "    <tr>\n",
              "      <th>50%</th>\n",
              "      <td>113.000000</td>\n",
              "      <td>13.285000</td>\n",
              "      <td>0.030000</td>\n",
              "      <td>0.000000</td>\n",
              "      <td>0.000000</td>\n",
              "      <td>0.000000</td>\n",
              "      <td>68.285000</td>\n",
              "    </tr>\n",
              "    <tr>\n",
              "      <th>75%</th>\n",
              "      <td>169.000000</td>\n",
              "      <td>33.755000</td>\n",
              "      <td>15.830000</td>\n",
              "      <td>0.400000</td>\n",
              "      <td>0.000000</td>\n",
              "      <td>0.000000</td>\n",
              "      <td>97.722500</td>\n",
              "    </tr>\n",
              "    <tr>\n",
              "      <th>max</th>\n",
              "      <td>225.000000</td>\n",
              "      <td>100.000000</td>\n",
              "      <td>100.000000</td>\n",
              "      <td>100.000000</td>\n",
              "      <td>100.000000</td>\n",
              "      <td>91.990000</td>\n",
              "      <td>100.000000</td>\n",
              "    </tr>\n",
              "  </tbody>\n",
              "</table>\n",
              "</div>"
            ],
            "text/plain": [
              "         ReleaseID           D0  ...           D4         None\n",
              "count  7200.000000  7200.000000  ...  7200.000000  7200.000000\n",
              "mean    113.000000    21.152092  ...     0.311225    58.463218\n",
              "std      64.955775    24.238689  ...     3.367680    38.361178\n",
              "min       1.000000     0.000000  ...     0.000000     0.000000\n",
              "25%      57.000000     0.000000  ...     0.000000    19.967500\n",
              "50%     113.000000    13.285000  ...     0.000000    68.285000\n",
              "75%     169.000000    33.755000  ...     0.000000    97.722500\n",
              "max     225.000000   100.000000  ...    91.990000   100.000000\n",
              "\n",
              "[8 rows x 7 columns]"
            ]
          },
          "metadata": {
            "tags": []
          },
          "execution_count": 109
        }
      ]
    },
    {
      "cell_type": "markdown",
      "metadata": {
        "id": "Y5Rafw2ilnEg"
      },
      "source": [
        "Podemos observar que el DataFrame que obtuvimos tiene 11 columnas y un total de 7200 entradas. Las columnas del DataFrame son las siguientes:\n",
        "- `__type`: Esta columna tiene el mismo valor para todas las entradas (`DroughtMonitorSite.code.NadmData`), pensamos que podría indicar el origen de los datos, es decir, en donde el archivo original con los datos está localizado. Es de tipo `object` y mediante la exploración rápida podemos indicar que solo contiene strings.\n",
        "- `ReleaseID`: Es una secuencia que empieza en el número 1 y termina en el 224, en donde el 1 está asignado al registro con la fecha más antigua y va incrementando en uno hasta llegar a la fecha más reciente. Es de `int64`.\n",
        "- `Date`: Como su nombre lo indica, la columna almacena la fecha en formato `\"%y-%m-%d\"`. Aunque representa la fecha en un formato válido, el tipo de dato de la columna es  `object` y siempre contiene la fecha en el formato anteriormente mencionado.\n",
        "- `FileDate`: Esta columna representa la fecha como un string y sin ningún tipo de separadores. El tipo de dato es `object` y siempre mantiene el mismo formato.\n",
        "- `None`: Indica el porcentaje del área que **no** está siendo afectada por sequía del estado. Su rango de valores es de 0 a 100. Es de tipo `float64`.\n",
        "- `D0`, `D1`, `D2`, `D3`, `D4`: Estas columnas contienen el porcentaje de área de cada estado que ha sufrido de cada tipo de sequía en la fecha indicada. Estas cinco columnas son del tipo `float64`. El rango de valores que estas columnas pueden tener es entre 0 y 100, ya que indican porcentajes.\n",
        "- `Entidad`: Esta columna es la que agregamos en el paso de extracción para poder identificar a qué estado correspondían los datos, ya con la exploración que acabamos de realizar nos dimos cuenta que de no haber agregado esta columna, los datos serían imposibles de distinguirse entre sí."
      ]
    },
    {
      "cell_type": "markdown",
      "metadata": {
        "id": "gXSjLHcomFQY"
      },
      "source": [
        "Parece que todo está correcto con nuestros datos y que no hay ningún `Nan` en nuestro DataFrame, pero para estar seguros, ejecutaremos la siguiente celda:"
      ]
    },
    {
      "cell_type": "code",
      "metadata": {
        "colab": {
          "base_uri": "https://localhost:8080/"
        },
        "id": "fbHRE7HimDb_",
        "outputId": "ef0d781c-3dd1-43d7-8ac8-c13955286ac5"
      },
      "source": [
        "df_sequias_raw.isnull().values.any()"
      ],
      "execution_count": 110,
      "outputs": [
        {
          "output_type": "execute_result",
          "data": {
            "text/plain": [
              "False"
            ]
          },
          "metadata": {
            "tags": []
          },
          "execution_count": 110
        }
      ]
    },
    {
      "cell_type": "markdown",
      "metadata": {
        "id": "TS6liZuFmPBd"
      },
      "source": [
        "#### Exploración a dataframe de estrés agrícola"
      ]
    },
    {
      "cell_type": "markdown",
      "metadata": {
        "id": "W6895le3mTqo"
      },
      "source": [
        "Realizamos una exploración inicial para concocer los datos que se van a manejar, el tipo de dato, si existen valores `Nan`, etc. "
      ]
    },
    {
      "cell_type": "code",
      "metadata": {
        "colab": {
          "base_uri": "https://localhost:8080/"
        },
        "id": "45Soq1eDoSf0",
        "outputId": "8becbc60-97ce-4bce-9aa3-f2e1fb63118b"
      },
      "source": [
        "df_IEA_raw.info()"
      ],
      "execution_count": 111,
      "outputs": [
        {
          "output_type": "stream",
          "text": [
            "<class 'pandas.core.frame.DataFrame'>\n",
            "RangeIndex: 41111 entries, 0 to 41110\n",
            "Data columns (total 12 columns):\n",
            " #   Column     Non-Null Count  Dtype  \n",
            "---  ------     --------------  -----  \n",
            " 0   Indicator  41111 non-null  object \n",
            " 1   Country    41111 non-null  object \n",
            " 2   ADM1_CODE  41111 non-null  int64  \n",
            " 3   Province   41111 non-null  object \n",
            " 4   Land_Type  41111 non-null  object \n",
            " 5   Date       41111 non-null  object \n",
            " 6   Data       41111 non-null  float64\n",
            " 7   Year       41111 non-null  int64  \n",
            " 8   Month      41111 non-null  int64  \n",
            " 9   Dekad      41111 non-null  int64  \n",
            " 10  Unit       41111 non-null  object \n",
            " 11  Source     41111 non-null  object \n",
            "dtypes: float64(1), int64(4), object(7)\n",
            "memory usage: 3.8+ MB\n"
          ],
          "name": "stdout"
        }
      ]
    },
    {
      "cell_type": "code",
      "metadata": {
        "colab": {
          "base_uri": "https://localhost:8080/",
          "height": 0
        },
        "id": "4HlX6ReNoSf1",
        "outputId": "94942667-33f4-4557-af15-f100b5ecabf5"
      },
      "source": [
        "df_IEA_raw.head()"
      ],
      "execution_count": 112,
      "outputs": [
        {
          "output_type": "execute_result",
          "data": {
            "text/html": [
              "<div>\n",
              "<style scoped>\n",
              "    .dataframe tbody tr th:only-of-type {\n",
              "        vertical-align: middle;\n",
              "    }\n",
              "\n",
              "    .dataframe tbody tr th {\n",
              "        vertical-align: top;\n",
              "    }\n",
              "\n",
              "    .dataframe thead th {\n",
              "        text-align: right;\n",
              "    }\n",
              "</style>\n",
              "<table border=\"1\" class=\"dataframe\">\n",
              "  <thead>\n",
              "    <tr style=\"text-align: right;\">\n",
              "      <th></th>\n",
              "      <th>Indicator</th>\n",
              "      <th>Country</th>\n",
              "      <th>ADM1_CODE</th>\n",
              "      <th>Province</th>\n",
              "      <th>Land_Type</th>\n",
              "      <th>Date</th>\n",
              "      <th>Data</th>\n",
              "      <th>Year</th>\n",
              "      <th>Month</th>\n",
              "      <th>Dekad</th>\n",
              "      <th>Unit</th>\n",
              "      <th>Source</th>\n",
              "    </tr>\n",
              "  </thead>\n",
              "  <tbody>\n",
              "    <tr>\n",
              "      <th>0</th>\n",
              "      <td>Agricultural Stress Index (ASI)</td>\n",
              "      <td>Mexico</td>\n",
              "      <td>2028</td>\n",
              "      <td>Aguascalientes</td>\n",
              "      <td>Crop Area</td>\n",
              "      <td>1984-01-01</td>\n",
              "      <td>0.0</td>\n",
              "      <td>1984</td>\n",
              "      <td>1</td>\n",
              "      <td>1</td>\n",
              "      <td>% of area with Mean VHI below 35</td>\n",
              "      <td>FAO-ASIS</td>\n",
              "    </tr>\n",
              "    <tr>\n",
              "      <th>1</th>\n",
              "      <td>Agricultural Stress Index (ASI)</td>\n",
              "      <td>Mexico</td>\n",
              "      <td>2028</td>\n",
              "      <td>Aguascalientes</td>\n",
              "      <td>Crop Area</td>\n",
              "      <td>1984-01-11</td>\n",
              "      <td>0.0</td>\n",
              "      <td>1984</td>\n",
              "      <td>1</td>\n",
              "      <td>2</td>\n",
              "      <td>% of area with Mean VHI below 35</td>\n",
              "      <td>FAO-ASIS</td>\n",
              "    </tr>\n",
              "    <tr>\n",
              "      <th>2</th>\n",
              "      <td>Agricultural Stress Index (ASI)</td>\n",
              "      <td>Mexico</td>\n",
              "      <td>2028</td>\n",
              "      <td>Aguascalientes</td>\n",
              "      <td>Crop Area</td>\n",
              "      <td>1984-01-21</td>\n",
              "      <td>0.0</td>\n",
              "      <td>1984</td>\n",
              "      <td>1</td>\n",
              "      <td>3</td>\n",
              "      <td>% of area with Mean VHI below 35</td>\n",
              "      <td>FAO-ASIS</td>\n",
              "    </tr>\n",
              "    <tr>\n",
              "      <th>3</th>\n",
              "      <td>Agricultural Stress Index (ASI)</td>\n",
              "      <td>Mexico</td>\n",
              "      <td>2028</td>\n",
              "      <td>Aguascalientes</td>\n",
              "      <td>Crop Area</td>\n",
              "      <td>1984-02-01</td>\n",
              "      <td>0.0</td>\n",
              "      <td>1984</td>\n",
              "      <td>2</td>\n",
              "      <td>1</td>\n",
              "      <td>% of area with Mean VHI below 35</td>\n",
              "      <td>FAO-ASIS</td>\n",
              "    </tr>\n",
              "    <tr>\n",
              "      <th>4</th>\n",
              "      <td>Agricultural Stress Index (ASI)</td>\n",
              "      <td>Mexico</td>\n",
              "      <td>2028</td>\n",
              "      <td>Aguascalientes</td>\n",
              "      <td>Crop Area</td>\n",
              "      <td>1984-02-11</td>\n",
              "      <td>0.0</td>\n",
              "      <td>1984</td>\n",
              "      <td>2</td>\n",
              "      <td>2</td>\n",
              "      <td>% of area with Mean VHI below 35</td>\n",
              "      <td>FAO-ASIS</td>\n",
              "    </tr>\n",
              "  </tbody>\n",
              "</table>\n",
              "</div>"
            ],
            "text/plain": [
              "                         Indicator  ...    Source\n",
              "0  Agricultural Stress Index (ASI)  ...  FAO-ASIS\n",
              "1  Agricultural Stress Index (ASI)  ...  FAO-ASIS\n",
              "2  Agricultural Stress Index (ASI)  ...  FAO-ASIS\n",
              "3  Agricultural Stress Index (ASI)  ...  FAO-ASIS\n",
              "4  Agricultural Stress Index (ASI)  ...  FAO-ASIS\n",
              "\n",
              "[5 rows x 12 columns]"
            ]
          },
          "metadata": {
            "tags": []
          },
          "execution_count": 112
        }
      ]
    },
    {
      "cell_type": "code",
      "metadata": {
        "colab": {
          "base_uri": "https://localhost:8080/",
          "height": 0
        },
        "id": "2vGAnXD3oSf1",
        "outputId": "638e7fdd-422a-4855-b969-7a3691627061"
      },
      "source": [
        "df_IEA_raw.tail()"
      ],
      "execution_count": 113,
      "outputs": [
        {
          "output_type": "execute_result",
          "data": {
            "text/html": [
              "<div>\n",
              "<style scoped>\n",
              "    .dataframe tbody tr th:only-of-type {\n",
              "        vertical-align: middle;\n",
              "    }\n",
              "\n",
              "    .dataframe tbody tr th {\n",
              "        vertical-align: top;\n",
              "    }\n",
              "\n",
              "    .dataframe thead th {\n",
              "        text-align: right;\n",
              "    }\n",
              "</style>\n",
              "<table border=\"1\" class=\"dataframe\">\n",
              "  <thead>\n",
              "    <tr style=\"text-align: right;\">\n",
              "      <th></th>\n",
              "      <th>Indicator</th>\n",
              "      <th>Country</th>\n",
              "      <th>ADM1_CODE</th>\n",
              "      <th>Province</th>\n",
              "      <th>Land_Type</th>\n",
              "      <th>Date</th>\n",
              "      <th>Data</th>\n",
              "      <th>Year</th>\n",
              "      <th>Month</th>\n",
              "      <th>Dekad</th>\n",
              "      <th>Unit</th>\n",
              "      <th>Source</th>\n",
              "    </tr>\n",
              "  </thead>\n",
              "  <tbody>\n",
              "    <tr>\n",
              "      <th>41106</th>\n",
              "      <td>Agricultural Stress Index (ASI)</td>\n",
              "      <td>Mexico</td>\n",
              "      <td>2055</td>\n",
              "      <td>Tamaulipas</td>\n",
              "      <td>Crop Area</td>\n",
              "      <td>2021-08-01</td>\n",
              "      <td>0.789</td>\n",
              "      <td>2021</td>\n",
              "      <td>8</td>\n",
              "      <td>1</td>\n",
              "      <td>% of area with Mean VHI below 35</td>\n",
              "      <td>FAO-ASIS</td>\n",
              "    </tr>\n",
              "    <tr>\n",
              "      <th>41107</th>\n",
              "      <td>Agricultural Stress Index (ASI)</td>\n",
              "      <td>Mexico</td>\n",
              "      <td>2056</td>\n",
              "      <td>Tlaxcala</td>\n",
              "      <td>Crop Area</td>\n",
              "      <td>2021-08-01</td>\n",
              "      <td>0.163</td>\n",
              "      <td>2021</td>\n",
              "      <td>8</td>\n",
              "      <td>1</td>\n",
              "      <td>% of area with Mean VHI below 35</td>\n",
              "      <td>FAO-ASIS</td>\n",
              "    </tr>\n",
              "    <tr>\n",
              "      <th>41108</th>\n",
              "      <td>Agricultural Stress Index (ASI)</td>\n",
              "      <td>Mexico</td>\n",
              "      <td>2057</td>\n",
              "      <td>Veracruz</td>\n",
              "      <td>Crop Area</td>\n",
              "      <td>2021-08-01</td>\n",
              "      <td>0.906</td>\n",
              "      <td>2021</td>\n",
              "      <td>8</td>\n",
              "      <td>1</td>\n",
              "      <td>% of area with Mean VHI below 35</td>\n",
              "      <td>FAO-ASIS</td>\n",
              "    </tr>\n",
              "    <tr>\n",
              "      <th>41109</th>\n",
              "      <td>Agricultural Stress Index (ASI)</td>\n",
              "      <td>Mexico</td>\n",
              "      <td>2058</td>\n",
              "      <td>Yucatan</td>\n",
              "      <td>Crop Area</td>\n",
              "      <td>2021-08-01</td>\n",
              "      <td>0.693</td>\n",
              "      <td>2021</td>\n",
              "      <td>8</td>\n",
              "      <td>1</td>\n",
              "      <td>% of area with Mean VHI below 35</td>\n",
              "      <td>FAO-ASIS</td>\n",
              "    </tr>\n",
              "    <tr>\n",
              "      <th>41110</th>\n",
              "      <td>Agricultural Stress Index (ASI)</td>\n",
              "      <td>Mexico</td>\n",
              "      <td>2059</td>\n",
              "      <td>Zacatecas</td>\n",
              "      <td>Crop Area</td>\n",
              "      <td>2021-08-01</td>\n",
              "      <td>0.539</td>\n",
              "      <td>2021</td>\n",
              "      <td>8</td>\n",
              "      <td>1</td>\n",
              "      <td>% of area with Mean VHI below 35</td>\n",
              "      <td>FAO-ASIS</td>\n",
              "    </tr>\n",
              "  </tbody>\n",
              "</table>\n",
              "</div>"
            ],
            "text/plain": [
              "                             Indicator  ...    Source\n",
              "41106  Agricultural Stress Index (ASI)  ...  FAO-ASIS\n",
              "41107  Agricultural Stress Index (ASI)  ...  FAO-ASIS\n",
              "41108  Agricultural Stress Index (ASI)  ...  FAO-ASIS\n",
              "41109  Agricultural Stress Index (ASI)  ...  FAO-ASIS\n",
              "41110  Agricultural Stress Index (ASI)  ...  FAO-ASIS\n",
              "\n",
              "[5 rows x 12 columns]"
            ]
          },
          "metadata": {
            "tags": []
          },
          "execution_count": 113
        }
      ]
    },
    {
      "cell_type": "code",
      "metadata": {
        "colab": {
          "base_uri": "https://localhost:8080/",
          "height": 0
        },
        "id": "IuZ5wWzmoSf2",
        "outputId": "39b56da2-d10d-4dd1-c58e-d98ffc8e1280"
      },
      "source": [
        "df_IEA_raw.describe()"
      ],
      "execution_count": 114,
      "outputs": [
        {
          "output_type": "execute_result",
          "data": {
            "text/html": [
              "<div>\n",
              "<style scoped>\n",
              "    .dataframe tbody tr th:only-of-type {\n",
              "        vertical-align: middle;\n",
              "    }\n",
              "\n",
              "    .dataframe tbody tr th {\n",
              "        vertical-align: top;\n",
              "    }\n",
              "\n",
              "    .dataframe thead th {\n",
              "        text-align: right;\n",
              "    }\n",
              "</style>\n",
              "<table border=\"1\" class=\"dataframe\">\n",
              "  <thead>\n",
              "    <tr style=\"text-align: right;\">\n",
              "      <th></th>\n",
              "      <th>ADM1_CODE</th>\n",
              "      <th>Data</th>\n",
              "      <th>Year</th>\n",
              "      <th>Month</th>\n",
              "      <th>Dekad</th>\n",
              "    </tr>\n",
              "  </thead>\n",
              "  <tbody>\n",
              "    <tr>\n",
              "      <th>count</th>\n",
              "      <td>41111.000000</td>\n",
              "      <td>41111.000000</td>\n",
              "      <td>41111.00000</td>\n",
              "      <td>41111.000000</td>\n",
              "      <td>41111.000000</td>\n",
              "    </tr>\n",
              "    <tr>\n",
              "      <th>mean</th>\n",
              "      <td>2043.565688</td>\n",
              "      <td>12.856698</td>\n",
              "      <td>2002.30296</td>\n",
              "      <td>6.555350</td>\n",
              "      <td>1.995743</td>\n",
              "    </tr>\n",
              "    <tr>\n",
              "      <th>std</th>\n",
              "      <td>9.086080</td>\n",
              "      <td>21.697550</td>\n",
              "      <td>10.85091</td>\n",
              "      <td>3.433717</td>\n",
              "      <td>0.815894</td>\n",
              "    </tr>\n",
              "    <tr>\n",
              "      <th>min</th>\n",
              "      <td>2028.000000</td>\n",
              "      <td>0.000000</td>\n",
              "      <td>1984.00000</td>\n",
              "      <td>1.000000</td>\n",
              "      <td>1.000000</td>\n",
              "    </tr>\n",
              "    <tr>\n",
              "      <th>25%</th>\n",
              "      <td>2036.000000</td>\n",
              "      <td>0.063000</td>\n",
              "      <td>1993.00000</td>\n",
              "      <td>4.000000</td>\n",
              "      <td>1.000000</td>\n",
              "    </tr>\n",
              "    <tr>\n",
              "      <th>50%</th>\n",
              "      <td>2044.000000</td>\n",
              "      <td>2.405000</td>\n",
              "      <td>2002.00000</td>\n",
              "      <td>7.000000</td>\n",
              "      <td>2.000000</td>\n",
              "    </tr>\n",
              "    <tr>\n",
              "      <th>75%</th>\n",
              "      <td>2051.000000</td>\n",
              "      <td>14.991500</td>\n",
              "      <td>2012.00000</td>\n",
              "      <td>10.000000</td>\n",
              "      <td>3.000000</td>\n",
              "    </tr>\n",
              "    <tr>\n",
              "      <th>max</th>\n",
              "      <td>2059.000000</td>\n",
              "      <td>100.000000</td>\n",
              "      <td>2021.00000</td>\n",
              "      <td>12.000000</td>\n",
              "      <td>3.000000</td>\n",
              "    </tr>\n",
              "  </tbody>\n",
              "</table>\n",
              "</div>"
            ],
            "text/plain": [
              "          ADM1_CODE          Data         Year         Month         Dekad\n",
              "count  41111.000000  41111.000000  41111.00000  41111.000000  41111.000000\n",
              "mean    2043.565688     12.856698   2002.30296      6.555350      1.995743\n",
              "std        9.086080     21.697550     10.85091      3.433717      0.815894\n",
              "min     2028.000000      0.000000   1984.00000      1.000000      1.000000\n",
              "25%     2036.000000      0.063000   1993.00000      4.000000      1.000000\n",
              "50%     2044.000000      2.405000   2002.00000      7.000000      2.000000\n",
              "75%     2051.000000     14.991500   2012.00000     10.000000      3.000000\n",
              "max     2059.000000    100.000000   2021.00000     12.000000      3.000000"
            ]
          },
          "metadata": {
            "tags": []
          },
          "execution_count": 114
        }
      ]
    },
    {
      "cell_type": "code",
      "metadata": {
        "colab": {
          "base_uri": "https://localhost:8080/"
        },
        "id": "XKcTxTUIrNkK",
        "outputId": "2c740a4a-68c9-46a1-b65b-c430c4323633"
      },
      "source": [
        "df_IEA_raw.isnull().values.any()"
      ],
      "execution_count": 115,
      "outputs": [
        {
          "output_type": "execute_result",
          "data": {
            "text/plain": [
              "False"
            ]
          },
          "metadata": {
            "tags": []
          },
          "execution_count": 115
        }
      ]
    },
    {
      "cell_type": "markdown",
      "metadata": {
        "id": "6VsGcOH1otxk"
      },
      "source": [
        "Se puede observar lo siguiente:\n",
        "* El DataFrame contine 41079 entradas y 12 columnas. \n",
        "* Existen 5 columnas tipo object. \n",
        "* La fecha no sólo está en una columna; si no que además se repite el año y mes en otras dos columnas. \n",
        "* La variable Dekad divide la información del mes en tres periodos. \n",
        "* El valor del promedio de la columnaData es 12.86.\n",
        "* No existen datos faltantes."
      ]
    },
    {
      "cell_type": "markdown",
      "metadata": {
        "id": "MKTZoNwTqGMB"
      },
      "source": [
        "#### Exploración a dataframe de temperatura media mensual"
      ]
    },
    {
      "cell_type": "markdown",
      "metadata": {
        "id": "zGS63ThpqGMB"
      },
      "source": [
        "Realizamos una exploración inicial para concocer los datos que se van a manejar, el tipo de dato, si exiten valores `Nan`, etc. "
      ]
    },
    {
      "cell_type": "code",
      "metadata": {
        "colab": {
          "base_uri": "https://localhost:8080/"
        },
        "id": "TskbaMt_qGMC",
        "outputId": "290c4db1-aa70-4b15-b27d-edfd8f685397"
      },
      "source": [
        "df_temperatura_media.info()"
      ],
      "execution_count": 116,
      "outputs": [
        {
          "output_type": "stream",
          "text": [
            "<class 'pandas.core.frame.DataFrame'>\n",
            "Int64Index: 1221 entries, 0 to 32\n",
            "Data columns (total 15 columns):\n",
            " #   Column   Non-Null Count  Dtype  \n",
            "---  ------   --------------  -----  \n",
            " 0   ENTIDAD  1221 non-null   object \n",
            " 1   ENE      1221 non-null   float64\n",
            " 2   FEB      1221 non-null   float64\n",
            " 3   MAR      1221 non-null   float64\n",
            " 4   ABR      1221 non-null   float64\n",
            " 5   MAY      1221 non-null   float64\n",
            " 6   JUN      1221 non-null   float64\n",
            " 7   JUL      1188 non-null   float64\n",
            " 8   AGO      1188 non-null   float64\n",
            " 9   SEP      1188 non-null   float64\n",
            " 10  OCT      1188 non-null   float64\n",
            " 11  NOV      1188 non-null   float64\n",
            " 12  DIC      1188 non-null   float64\n",
            " 13  ANUAL    1188 non-null   float64\n",
            " 14  Year     1221 non-null   int64  \n",
            "dtypes: float64(13), int64(1), object(1)\n",
            "memory usage: 152.6+ KB\n"
          ],
          "name": "stdout"
        }
      ]
    },
    {
      "cell_type": "code",
      "metadata": {
        "id": "jGFUy3oDqGMD",
        "colab": {
          "base_uri": "https://localhost:8080/",
          "height": 0
        },
        "outputId": "8558745e-5933-40c3-e6a9-57c6c9f28998"
      },
      "source": [
        "df_temperatura_media.head()"
      ],
      "execution_count": 117,
      "outputs": [
        {
          "output_type": "execute_result",
          "data": {
            "text/html": [
              "<div>\n",
              "<style scoped>\n",
              "    .dataframe tbody tr th:only-of-type {\n",
              "        vertical-align: middle;\n",
              "    }\n",
              "\n",
              "    .dataframe tbody tr th {\n",
              "        vertical-align: top;\n",
              "    }\n",
              "\n",
              "    .dataframe thead th {\n",
              "        text-align: right;\n",
              "    }\n",
              "</style>\n",
              "<table border=\"1\" class=\"dataframe\">\n",
              "  <thead>\n",
              "    <tr style=\"text-align: right;\">\n",
              "      <th></th>\n",
              "      <th>ENTIDAD</th>\n",
              "      <th>ENE</th>\n",
              "      <th>FEB</th>\n",
              "      <th>MAR</th>\n",
              "      <th>ABR</th>\n",
              "      <th>MAY</th>\n",
              "      <th>JUN</th>\n",
              "      <th>JUL</th>\n",
              "      <th>AGO</th>\n",
              "      <th>SEP</th>\n",
              "      <th>OCT</th>\n",
              "      <th>NOV</th>\n",
              "      <th>DIC</th>\n",
              "      <th>ANUAL</th>\n",
              "      <th>Year</th>\n",
              "    </tr>\n",
              "  </thead>\n",
              "  <tbody>\n",
              "    <tr>\n",
              "      <th>0</th>\n",
              "      <td>AGUASCALIENTES</td>\n",
              "      <td>11.967094</td>\n",
              "      <td>14.325850</td>\n",
              "      <td>17.051892</td>\n",
              "      <td>17.757925</td>\n",
              "      <td>21.183229</td>\n",
              "      <td>19.555818</td>\n",
              "      <td>18.122211</td>\n",
              "      <td>18.662660</td>\n",
              "      <td>18.876058</td>\n",
              "      <td>17.812996</td>\n",
              "      <td>14.964776</td>\n",
              "      <td>13.291935</td>\n",
              "      <td>16.964370</td>\n",
              "      <td>1985</td>\n",
              "    </tr>\n",
              "    <tr>\n",
              "      <th>1</th>\n",
              "      <td>BAJA CALIFORNIA</td>\n",
              "      <td>11.052290</td>\n",
              "      <td>12.020371</td>\n",
              "      <td>13.327013</td>\n",
              "      <td>17.784793</td>\n",
              "      <td>19.014780</td>\n",
              "      <td>22.829886</td>\n",
              "      <td>26.029444</td>\n",
              "      <td>25.755290</td>\n",
              "      <td>21.776102</td>\n",
              "      <td>19.454984</td>\n",
              "      <td>14.226904</td>\n",
              "      <td>12.896353</td>\n",
              "      <td>18.014017</td>\n",
              "      <td>1985</td>\n",
              "    </tr>\n",
              "    <tr>\n",
              "      <th>2</th>\n",
              "      <td>BAJA CALIFORNIA SUR</td>\n",
              "      <td>15.702536</td>\n",
              "      <td>16.341758</td>\n",
              "      <td>18.869057</td>\n",
              "      <td>20.618486</td>\n",
              "      <td>22.771742</td>\n",
              "      <td>25.078030</td>\n",
              "      <td>27.942791</td>\n",
              "      <td>28.599667</td>\n",
              "      <td>27.457056</td>\n",
              "      <td>24.077373</td>\n",
              "      <td>20.218419</td>\n",
              "      <td>17.895560</td>\n",
              "      <td>22.131040</td>\n",
              "      <td>1985</td>\n",
              "    </tr>\n",
              "    <tr>\n",
              "      <th>3</th>\n",
              "      <td>CAMPECHE</td>\n",
              "      <td>22.932142</td>\n",
              "      <td>24.354781</td>\n",
              "      <td>26.765947</td>\n",
              "      <td>27.195333</td>\n",
              "      <td>28.384986</td>\n",
              "      <td>28.042711</td>\n",
              "      <td>27.602259</td>\n",
              "      <td>27.689912</td>\n",
              "      <td>27.225265</td>\n",
              "      <td>26.546207</td>\n",
              "      <td>25.555455</td>\n",
              "      <td>24.349107</td>\n",
              "      <td>26.387009</td>\n",
              "      <td>1985</td>\n",
              "    </tr>\n",
              "    <tr>\n",
              "      <th>4</th>\n",
              "      <td>COAHUILA</td>\n",
              "      <td>8.438872</td>\n",
              "      <td>12.069164</td>\n",
              "      <td>18.016687</td>\n",
              "      <td>19.857930</td>\n",
              "      <td>23.492708</td>\n",
              "      <td>24.373270</td>\n",
              "      <td>24.376498</td>\n",
              "      <td>24.823414</td>\n",
              "      <td>23.656209</td>\n",
              "      <td>20.346794</td>\n",
              "      <td>18.211811</td>\n",
              "      <td>13.224615</td>\n",
              "      <td>19.240664</td>\n",
              "      <td>1985</td>\n",
              "    </tr>\n",
              "  </tbody>\n",
              "</table>\n",
              "</div>"
            ],
            "text/plain": [
              "               ENTIDAD        ENE        FEB  ...        DIC      ANUAL  Year\n",
              "0       AGUASCALIENTES  11.967094  14.325850  ...  13.291935  16.964370  1985\n",
              "1      BAJA CALIFORNIA  11.052290  12.020371  ...  12.896353  18.014017  1985\n",
              "2  BAJA CALIFORNIA SUR  15.702536  16.341758  ...  17.895560  22.131040  1985\n",
              "3             CAMPECHE  22.932142  24.354781  ...  24.349107  26.387009  1985\n",
              "4             COAHUILA   8.438872  12.069164  ...  13.224615  19.240664  1985\n",
              "\n",
              "[5 rows x 15 columns]"
            ]
          },
          "metadata": {
            "tags": []
          },
          "execution_count": 117
        }
      ]
    },
    {
      "cell_type": "code",
      "metadata": {
        "id": "mU_gVlf0qGME",
        "colab": {
          "base_uri": "https://localhost:8080/",
          "height": 0
        },
        "outputId": "af787c8d-8bb6-4424-d6fd-00755a7493d6"
      },
      "source": [
        "df_temperatura_media.tail()"
      ],
      "execution_count": 118,
      "outputs": [
        {
          "output_type": "execute_result",
          "data": {
            "text/html": [
              "<div>\n",
              "<style scoped>\n",
              "    .dataframe tbody tr th:only-of-type {\n",
              "        vertical-align: middle;\n",
              "    }\n",
              "\n",
              "    .dataframe tbody tr th {\n",
              "        vertical-align: top;\n",
              "    }\n",
              "\n",
              "    .dataframe thead th {\n",
              "        text-align: right;\n",
              "    }\n",
              "</style>\n",
              "<table border=\"1\" class=\"dataframe\">\n",
              "  <thead>\n",
              "    <tr style=\"text-align: right;\">\n",
              "      <th></th>\n",
              "      <th>ENTIDAD</th>\n",
              "      <th>ENE</th>\n",
              "      <th>FEB</th>\n",
              "      <th>MAR</th>\n",
              "      <th>ABR</th>\n",
              "      <th>MAY</th>\n",
              "      <th>JUN</th>\n",
              "      <th>JUL</th>\n",
              "      <th>AGO</th>\n",
              "      <th>SEP</th>\n",
              "      <th>OCT</th>\n",
              "      <th>NOV</th>\n",
              "      <th>DIC</th>\n",
              "      <th>ANUAL</th>\n",
              "      <th>Year</th>\n",
              "    </tr>\n",
              "  </thead>\n",
              "  <tbody>\n",
              "    <tr>\n",
              "      <th>28</th>\n",
              "      <td>TLAXCALA</td>\n",
              "      <td>12.6</td>\n",
              "      <td>13.0</td>\n",
              "      <td>16.2</td>\n",
              "      <td>16.8</td>\n",
              "      <td>16.9</td>\n",
              "      <td>16.0</td>\n",
              "      <td>NaN</td>\n",
              "      <td>NaN</td>\n",
              "      <td>NaN</td>\n",
              "      <td>NaN</td>\n",
              "      <td>NaN</td>\n",
              "      <td>NaN</td>\n",
              "      <td>NaN</td>\n",
              "      <td>2021</td>\n",
              "    </tr>\n",
              "    <tr>\n",
              "      <th>29</th>\n",
              "      <td>VERACRUZ</td>\n",
              "      <td>19.0</td>\n",
              "      <td>19.9</td>\n",
              "      <td>22.5</td>\n",
              "      <td>24.9</td>\n",
              "      <td>25.8</td>\n",
              "      <td>25.1</td>\n",
              "      <td>NaN</td>\n",
              "      <td>NaN</td>\n",
              "      <td>NaN</td>\n",
              "      <td>NaN</td>\n",
              "      <td>NaN</td>\n",
              "      <td>NaN</td>\n",
              "      <td>NaN</td>\n",
              "      <td>2021</td>\n",
              "    </tr>\n",
              "    <tr>\n",
              "      <th>30</th>\n",
              "      <td>YUCATÁN</td>\n",
              "      <td>23.3</td>\n",
              "      <td>24.7</td>\n",
              "      <td>26.6</td>\n",
              "      <td>29.1</td>\n",
              "      <td>29.5</td>\n",
              "      <td>28.6</td>\n",
              "      <td>NaN</td>\n",
              "      <td>NaN</td>\n",
              "      <td>NaN</td>\n",
              "      <td>NaN</td>\n",
              "      <td>NaN</td>\n",
              "      <td>NaN</td>\n",
              "      <td>NaN</td>\n",
              "      <td>2021</td>\n",
              "    </tr>\n",
              "    <tr>\n",
              "      <th>31</th>\n",
              "      <td>ZACATECAS</td>\n",
              "      <td>13.0</td>\n",
              "      <td>15.5</td>\n",
              "      <td>18.2</td>\n",
              "      <td>19.9</td>\n",
              "      <td>21.6</td>\n",
              "      <td>21.2</td>\n",
              "      <td>NaN</td>\n",
              "      <td>NaN</td>\n",
              "      <td>NaN</td>\n",
              "      <td>NaN</td>\n",
              "      <td>NaN</td>\n",
              "      <td>NaN</td>\n",
              "      <td>NaN</td>\n",
              "      <td>2021</td>\n",
              "    </tr>\n",
              "    <tr>\n",
              "      <th>32</th>\n",
              "      <td>NACIONAL</td>\n",
              "      <td>16.4</td>\n",
              "      <td>18.0</td>\n",
              "      <td>20.3</td>\n",
              "      <td>23.0</td>\n",
              "      <td>24.8</td>\n",
              "      <td>26.0</td>\n",
              "      <td>NaN</td>\n",
              "      <td>NaN</td>\n",
              "      <td>NaN</td>\n",
              "      <td>NaN</td>\n",
              "      <td>NaN</td>\n",
              "      <td>NaN</td>\n",
              "      <td>NaN</td>\n",
              "      <td>2021</td>\n",
              "    </tr>\n",
              "  </tbody>\n",
              "</table>\n",
              "</div>"
            ],
            "text/plain": [
              "      ENTIDAD   ENE   FEB   MAR   ABR   MAY  ...  SEP  OCT  NOV  DIC  ANUAL  Year\n",
              "28   TLAXCALA  12.6  13.0  16.2  16.8  16.9  ...  NaN  NaN  NaN  NaN    NaN  2021\n",
              "29   VERACRUZ  19.0  19.9  22.5  24.9  25.8  ...  NaN  NaN  NaN  NaN    NaN  2021\n",
              "30    YUCATÁN  23.3  24.7  26.6  29.1  29.5  ...  NaN  NaN  NaN  NaN    NaN  2021\n",
              "31  ZACATECAS  13.0  15.5  18.2  19.9  21.6  ...  NaN  NaN  NaN  NaN    NaN  2021\n",
              "32   NACIONAL  16.4  18.0  20.3  23.0  24.8  ...  NaN  NaN  NaN  NaN    NaN  2021\n",
              "\n",
              "[5 rows x 15 columns]"
            ]
          },
          "metadata": {
            "tags": []
          },
          "execution_count": 118
        }
      ]
    },
    {
      "cell_type": "code",
      "metadata": {
        "id": "M__8LkyAqGME",
        "colab": {
          "base_uri": "https://localhost:8080/",
          "height": 0
        },
        "outputId": "b3ab9e75-0444-44cf-f17e-cac30d22ee44"
      },
      "source": [
        "df_temperatura_media.describe()"
      ],
      "execution_count": 119,
      "outputs": [
        {
          "output_type": "execute_result",
          "data": {
            "text/html": [
              "<div>\n",
              "<style scoped>\n",
              "    .dataframe tbody tr th:only-of-type {\n",
              "        vertical-align: middle;\n",
              "    }\n",
              "\n",
              "    .dataframe tbody tr th {\n",
              "        vertical-align: top;\n",
              "    }\n",
              "\n",
              "    .dataframe thead th {\n",
              "        text-align: right;\n",
              "    }\n",
              "</style>\n",
              "<table border=\"1\" class=\"dataframe\">\n",
              "  <thead>\n",
              "    <tr style=\"text-align: right;\">\n",
              "      <th></th>\n",
              "      <th>ENE</th>\n",
              "      <th>FEB</th>\n",
              "      <th>MAR</th>\n",
              "      <th>ABR</th>\n",
              "      <th>MAY</th>\n",
              "      <th>JUN</th>\n",
              "      <th>JUL</th>\n",
              "      <th>AGO</th>\n",
              "      <th>SEP</th>\n",
              "      <th>OCT</th>\n",
              "      <th>NOV</th>\n",
              "      <th>DIC</th>\n",
              "      <th>ANUAL</th>\n",
              "      <th>Year</th>\n",
              "    </tr>\n",
              "  </thead>\n",
              "  <tbody>\n",
              "    <tr>\n",
              "      <th>count</th>\n",
              "      <td>1221.000000</td>\n",
              "      <td>1221.000000</td>\n",
              "      <td>1221.000000</td>\n",
              "      <td>1221.000000</td>\n",
              "      <td>1221.000000</td>\n",
              "      <td>1221.000000</td>\n",
              "      <td>1188.000000</td>\n",
              "      <td>1188.000000</td>\n",
              "      <td>1188.000000</td>\n",
              "      <td>1188.000000</td>\n",
              "      <td>1188.000000</td>\n",
              "      <td>1188.000000</td>\n",
              "      <td>1188.000000</td>\n",
              "      <td>1221.000000</td>\n",
              "    </tr>\n",
              "    <tr>\n",
              "      <th>mean</th>\n",
              "      <td>16.871352</td>\n",
              "      <td>18.301274</td>\n",
              "      <td>20.140313</td>\n",
              "      <td>22.288041</td>\n",
              "      <td>23.891609</td>\n",
              "      <td>24.395373</td>\n",
              "      <td>23.905459</td>\n",
              "      <td>23.925035</td>\n",
              "      <td>23.202057</td>\n",
              "      <td>21.644840</td>\n",
              "      <td>19.319347</td>\n",
              "      <td>17.319272</td>\n",
              "      <td>21.257711</td>\n",
              "      <td>2003.000000</td>\n",
              "    </tr>\n",
              "    <tr>\n",
              "      <th>std</th>\n",
              "      <td>4.356450</td>\n",
              "      <td>4.102967</td>\n",
              "      <td>3.811737</td>\n",
              "      <td>3.632412</td>\n",
              "      <td>3.516766</td>\n",
              "      <td>3.806361</td>\n",
              "      <td>4.160679</td>\n",
              "      <td>4.174072</td>\n",
              "      <td>4.041078</td>\n",
              "      <td>4.006098</td>\n",
              "      <td>4.132910</td>\n",
              "      <td>4.383636</td>\n",
              "      <td>3.655193</td>\n",
              "      <td>10.681453</td>\n",
              "    </tr>\n",
              "    <tr>\n",
              "      <th>min</th>\n",
              "      <td>6.419064</td>\n",
              "      <td>8.603275</td>\n",
              "      <td>10.925501</td>\n",
              "      <td>13.811973</td>\n",
              "      <td>14.726868</td>\n",
              "      <td>14.906667</td>\n",
              "      <td>13.980651</td>\n",
              "      <td>14.396887</td>\n",
              "      <td>13.933203</td>\n",
              "      <td>12.652495</td>\n",
              "      <td>10.773559</td>\n",
              "      <td>7.008619</td>\n",
              "      <td>13.300635</td>\n",
              "      <td>1985.000000</td>\n",
              "    </tr>\n",
              "    <tr>\n",
              "      <th>25%</th>\n",
              "      <td>13.221114</td>\n",
              "      <td>14.874926</td>\n",
              "      <td>17.071843</td>\n",
              "      <td>19.468571</td>\n",
              "      <td>21.474979</td>\n",
              "      <td>21.772048</td>\n",
              "      <td>20.536859</td>\n",
              "      <td>20.500452</td>\n",
              "      <td>19.862789</td>\n",
              "      <td>18.236420</td>\n",
              "      <td>15.821406</td>\n",
              "      <td>13.664925</td>\n",
              "      <td>18.100000</td>\n",
              "      <td>1994.000000</td>\n",
              "    </tr>\n",
              "    <tr>\n",
              "      <th>50%</th>\n",
              "      <td>16.146529</td>\n",
              "      <td>17.869867</td>\n",
              "      <td>19.750687</td>\n",
              "      <td>22.200000</td>\n",
              "      <td>24.000152</td>\n",
              "      <td>24.896061</td>\n",
              "      <td>24.501683</td>\n",
              "      <td>24.499667</td>\n",
              "      <td>23.494198</td>\n",
              "      <td>21.600000</td>\n",
              "      <td>18.922142</td>\n",
              "      <td>16.685390</td>\n",
              "      <td>21.388295</td>\n",
              "      <td>2003.000000</td>\n",
              "    </tr>\n",
              "    <tr>\n",
              "      <th>75%</th>\n",
              "      <td>20.800000</td>\n",
              "      <td>21.900000</td>\n",
              "      <td>23.400000</td>\n",
              "      <td>25.100000</td>\n",
              "      <td>26.700000</td>\n",
              "      <td>27.694455</td>\n",
              "      <td>27.506783</td>\n",
              "      <td>27.595637</td>\n",
              "      <td>26.868140</td>\n",
              "      <td>25.289810</td>\n",
              "      <td>23.221496</td>\n",
              "      <td>21.200000</td>\n",
              "      <td>24.618137</td>\n",
              "      <td>2012.000000</td>\n",
              "    </tr>\n",
              "    <tr>\n",
              "      <th>max</th>\n",
              "      <td>25.900000</td>\n",
              "      <td>26.700000</td>\n",
              "      <td>28.400000</td>\n",
              "      <td>31.100000</td>\n",
              "      <td>31.500000</td>\n",
              "      <td>31.500000</td>\n",
              "      <td>31.900000</td>\n",
              "      <td>32.500000</td>\n",
              "      <td>30.549925</td>\n",
              "      <td>29.700000</td>\n",
              "      <td>28.000000</td>\n",
              "      <td>26.900000</td>\n",
              "      <td>28.100000</td>\n",
              "      <td>2021.000000</td>\n",
              "    </tr>\n",
              "  </tbody>\n",
              "</table>\n",
              "</div>"
            ],
            "text/plain": [
              "               ENE          FEB  ...        ANUAL         Year\n",
              "count  1221.000000  1221.000000  ...  1188.000000  1221.000000\n",
              "mean     16.871352    18.301274  ...    21.257711  2003.000000\n",
              "std       4.356450     4.102967  ...     3.655193    10.681453\n",
              "min       6.419064     8.603275  ...    13.300635  1985.000000\n",
              "25%      13.221114    14.874926  ...    18.100000  1994.000000\n",
              "50%      16.146529    17.869867  ...    21.388295  2003.000000\n",
              "75%      20.800000    21.900000  ...    24.618137  2012.000000\n",
              "max      25.900000    26.700000  ...    28.100000  2021.000000\n",
              "\n",
              "[8 rows x 14 columns]"
            ]
          },
          "metadata": {
            "tags": []
          },
          "execution_count": 119
        }
      ]
    },
    {
      "cell_type": "code",
      "metadata": {
        "id": "yVICGhiArT7k",
        "colab": {
          "base_uri": "https://localhost:8080/"
        },
        "outputId": "fbe2b62c-32da-41f1-9903-16947676e413"
      },
      "source": [
        "df_temperatura_media.isnull().values.any()"
      ],
      "execution_count": 120,
      "outputs": [
        {
          "output_type": "execute_result",
          "data": {
            "text/plain": [
              "True"
            ]
          },
          "metadata": {
            "tags": []
          },
          "execution_count": 120
        }
      ]
    },
    {
      "cell_type": "markdown",
      "metadata": {
        "id": "eBO9u_jFqGMF"
      },
      "source": [
        "Se puede observar lo siguiente:\n",
        "* El DataFrame contine 1221 entradas y 15 columnas. \n",
        "* La mayoría de las columnas son tipo float. \n",
        "* El orden de las filas es por estados y por años, es decir; un año tiene 32 filas representando a cada estado. \n",
        "* La menor temperatura se ha presentado en Enero. \n",
        "* Existen datos NaN. "
      ]
    },
    {
      "cell_type": "markdown",
      "metadata": {
        "id": "EJsVsm51zT8-"
      },
      "source": [
        "#### Exploración a dataframe de precipitación"
      ]
    },
    {
      "cell_type": "markdown",
      "metadata": {
        "id": "H2qzl-LBzT8_"
      },
      "source": [
        "Realizamos una exploración inicial para concocer los datos que se van a manejar, el tipo de dato, si exiten valores `Nan`, etc. "
      ]
    },
    {
      "cell_type": "code",
      "metadata": {
        "id": "LWgeWErRzT8_",
        "colab": {
          "base_uri": "https://localhost:8080/"
        },
        "outputId": "9b997959-08fa-45df-a882-f512894d52db"
      },
      "source": [
        "df_precipitacion.info()"
      ],
      "execution_count": 121,
      "outputs": [
        {
          "output_type": "stream",
          "text": [
            "<class 'pandas.core.frame.DataFrame'>\n",
            "Int64Index: 1221 entries, 0 to 32\n",
            "Data columns (total 15 columns):\n",
            " #   Column   Non-Null Count  Dtype  \n",
            "---  ------   --------------  -----  \n",
            " 0   ENTIDAD  1221 non-null   object \n",
            " 1   ENE      1221 non-null   float64\n",
            " 2   FEB      1221 non-null   float64\n",
            " 3   MAR      1221 non-null   float64\n",
            " 4   ABR      1221 non-null   float64\n",
            " 5   MAY      1221 non-null   float64\n",
            " 6   JUN      1221 non-null   float64\n",
            " 7   JUL      1188 non-null   float64\n",
            " 8   AGO      1188 non-null   float64\n",
            " 9   SEP      1188 non-null   float64\n",
            " 10  OCT      1188 non-null   float64\n",
            " 11  NOV      1188 non-null   float64\n",
            " 12  DIC      1188 non-null   float64\n",
            " 13  ANUAL    1188 non-null   float64\n",
            " 14  Year     1221 non-null   int64  \n",
            "dtypes: float64(13), int64(1), object(1)\n",
            "memory usage: 152.6+ KB\n"
          ],
          "name": "stdout"
        }
      ]
    },
    {
      "cell_type": "code",
      "metadata": {
        "id": "s4-TrgddzT8_",
        "colab": {
          "base_uri": "https://localhost:8080/",
          "height": 0
        },
        "outputId": "8486acb3-4dc1-4e19-c808-0e21c4cb11ef"
      },
      "source": [
        "df_precipitacion.head()"
      ],
      "execution_count": 122,
      "outputs": [
        {
          "output_type": "execute_result",
          "data": {
            "text/html": [
              "<div>\n",
              "<style scoped>\n",
              "    .dataframe tbody tr th:only-of-type {\n",
              "        vertical-align: middle;\n",
              "    }\n",
              "\n",
              "    .dataframe tbody tr th {\n",
              "        vertical-align: top;\n",
              "    }\n",
              "\n",
              "    .dataframe thead th {\n",
              "        text-align: right;\n",
              "    }\n",
              "</style>\n",
              "<table border=\"1\" class=\"dataframe\">\n",
              "  <thead>\n",
              "    <tr style=\"text-align: right;\">\n",
              "      <th></th>\n",
              "      <th>ENTIDAD</th>\n",
              "      <th>ENE</th>\n",
              "      <th>FEB</th>\n",
              "      <th>MAR</th>\n",
              "      <th>ABR</th>\n",
              "      <th>MAY</th>\n",
              "      <th>JUN</th>\n",
              "      <th>JUL</th>\n",
              "      <th>AGO</th>\n",
              "      <th>SEP</th>\n",
              "      <th>OCT</th>\n",
              "      <th>NOV</th>\n",
              "      <th>DIC</th>\n",
              "      <th>ANUAL</th>\n",
              "      <th>Year</th>\n",
              "    </tr>\n",
              "  </thead>\n",
              "  <tbody>\n",
              "    <tr>\n",
              "      <th>0</th>\n",
              "      <td>AGUASCALIENTES</td>\n",
              "      <td>4.914729</td>\n",
              "      <td>1.588740</td>\n",
              "      <td>1.947601</td>\n",
              "      <td>17.612315</td>\n",
              "      <td>21.458081</td>\n",
              "      <td>137.052753</td>\n",
              "      <td>85.398249</td>\n",
              "      <td>68.346737</td>\n",
              "      <td>47.644807</td>\n",
              "      <td>50.720046</td>\n",
              "      <td>4.287958</td>\n",
              "      <td>23.386522</td>\n",
              "      <td>464.358537</td>\n",
              "      <td>1985</td>\n",
              "    </tr>\n",
              "    <tr>\n",
              "      <th>1</th>\n",
              "      <td>BAJA CALIFORNIA</td>\n",
              "      <td>12.150562</td>\n",
              "      <td>23.625055</td>\n",
              "      <td>9.962204</td>\n",
              "      <td>3.723647</td>\n",
              "      <td>0.017576</td>\n",
              "      <td>0.343847</td>\n",
              "      <td>0.770047</td>\n",
              "      <td>0.000000</td>\n",
              "      <td>13.504450</td>\n",
              "      <td>17.268965</td>\n",
              "      <td>64.455974</td>\n",
              "      <td>28.568834</td>\n",
              "      <td>174.391162</td>\n",
              "      <td>1985</td>\n",
              "    </tr>\n",
              "    <tr>\n",
              "      <th>2</th>\n",
              "      <td>BAJA CALIFORNIA SUR</td>\n",
              "      <td>30.304723</td>\n",
              "      <td>0.058778</td>\n",
              "      <td>0.334605</td>\n",
              "      <td>0.259919</td>\n",
              "      <td>0.128790</td>\n",
              "      <td>0.331742</td>\n",
              "      <td>19.552045</td>\n",
              "      <td>22.872792</td>\n",
              "      <td>18.475133</td>\n",
              "      <td>15.577332</td>\n",
              "      <td>6.605846</td>\n",
              "      <td>1.133051</td>\n",
              "      <td>115.634756</td>\n",
              "      <td>1985</td>\n",
              "    </tr>\n",
              "    <tr>\n",
              "      <th>3</th>\n",
              "      <td>CAMPECHE</td>\n",
              "      <td>20.943153</td>\n",
              "      <td>26.685829</td>\n",
              "      <td>16.509803</td>\n",
              "      <td>4.248756</td>\n",
              "      <td>233.420941</td>\n",
              "      <td>124.723530</td>\n",
              "      <td>142.713987</td>\n",
              "      <td>194.129643</td>\n",
              "      <td>154.579157</td>\n",
              "      <td>32.833140</td>\n",
              "      <td>60.179980</td>\n",
              "      <td>4.037611</td>\n",
              "      <td>1015.005528</td>\n",
              "      <td>1985</td>\n",
              "    </tr>\n",
              "    <tr>\n",
              "      <th>4</th>\n",
              "      <td>COAHUILA</td>\n",
              "      <td>40.714546</td>\n",
              "      <td>6.152208</td>\n",
              "      <td>4.887759</td>\n",
              "      <td>43.611932</td>\n",
              "      <td>46.949689</td>\n",
              "      <td>46.314182</td>\n",
              "      <td>20.239590</td>\n",
              "      <td>29.999508</td>\n",
              "      <td>44.317659</td>\n",
              "      <td>41.583808</td>\n",
              "      <td>8.830908</td>\n",
              "      <td>6.715672</td>\n",
              "      <td>340.317462</td>\n",
              "      <td>1985</td>\n",
              "    </tr>\n",
              "  </tbody>\n",
              "</table>\n",
              "</div>"
            ],
            "text/plain": [
              "               ENTIDAD        ENE        FEB  ...        DIC        ANUAL  Year\n",
              "0       AGUASCALIENTES   4.914729   1.588740  ...  23.386522   464.358537  1985\n",
              "1      BAJA CALIFORNIA  12.150562  23.625055  ...  28.568834   174.391162  1985\n",
              "2  BAJA CALIFORNIA SUR  30.304723   0.058778  ...   1.133051   115.634756  1985\n",
              "3             CAMPECHE  20.943153  26.685829  ...   4.037611  1015.005528  1985\n",
              "4             COAHUILA  40.714546   6.152208  ...   6.715672   340.317462  1985\n",
              "\n",
              "[5 rows x 15 columns]"
            ]
          },
          "metadata": {
            "tags": []
          },
          "execution_count": 122
        }
      ]
    },
    {
      "cell_type": "code",
      "metadata": {
        "id": "iwT7IdhtzT8_",
        "colab": {
          "base_uri": "https://localhost:8080/",
          "height": 0
        },
        "outputId": "f8aa8360-3018-4fe4-df01-1d9382532f46"
      },
      "source": [
        "df_precipitacion.tail()"
      ],
      "execution_count": 123,
      "outputs": [
        {
          "output_type": "execute_result",
          "data": {
            "text/html": [
              "<div>\n",
              "<style scoped>\n",
              "    .dataframe tbody tr th:only-of-type {\n",
              "        vertical-align: middle;\n",
              "    }\n",
              "\n",
              "    .dataframe tbody tr th {\n",
              "        vertical-align: top;\n",
              "    }\n",
              "\n",
              "    .dataframe thead th {\n",
              "        text-align: right;\n",
              "    }\n",
              "</style>\n",
              "<table border=\"1\" class=\"dataframe\">\n",
              "  <thead>\n",
              "    <tr style=\"text-align: right;\">\n",
              "      <th></th>\n",
              "      <th>ENTIDAD</th>\n",
              "      <th>ENE</th>\n",
              "      <th>FEB</th>\n",
              "      <th>MAR</th>\n",
              "      <th>ABR</th>\n",
              "      <th>MAY</th>\n",
              "      <th>JUN</th>\n",
              "      <th>JUL</th>\n",
              "      <th>AGO</th>\n",
              "      <th>SEP</th>\n",
              "      <th>OCT</th>\n",
              "      <th>NOV</th>\n",
              "      <th>DIC</th>\n",
              "      <th>ANUAL</th>\n",
              "      <th>Year</th>\n",
              "    </tr>\n",
              "  </thead>\n",
              "  <tbody>\n",
              "    <tr>\n",
              "      <th>28</th>\n",
              "      <td>TLAXCALA</td>\n",
              "      <td>11.9</td>\n",
              "      <td>0.6</td>\n",
              "      <td>2.0</td>\n",
              "      <td>18.8</td>\n",
              "      <td>77.4</td>\n",
              "      <td>130.7</td>\n",
              "      <td>NaN</td>\n",
              "      <td>NaN</td>\n",
              "      <td>NaN</td>\n",
              "      <td>NaN</td>\n",
              "      <td>NaN</td>\n",
              "      <td>NaN</td>\n",
              "      <td>NaN</td>\n",
              "      <td>2021</td>\n",
              "    </tr>\n",
              "    <tr>\n",
              "      <th>29</th>\n",
              "      <td>VERACRUZ</td>\n",
              "      <td>85.0</td>\n",
              "      <td>25.4</td>\n",
              "      <td>22.7</td>\n",
              "      <td>32.1</td>\n",
              "      <td>103.5</td>\n",
              "      <td>276.7</td>\n",
              "      <td>NaN</td>\n",
              "      <td>NaN</td>\n",
              "      <td>NaN</td>\n",
              "      <td>NaN</td>\n",
              "      <td>NaN</td>\n",
              "      <td>NaN</td>\n",
              "      <td>NaN</td>\n",
              "      <td>2021</td>\n",
              "    </tr>\n",
              "    <tr>\n",
              "      <th>30</th>\n",
              "      <td>YUCATÁN</td>\n",
              "      <td>45.9</td>\n",
              "      <td>55.1</td>\n",
              "      <td>23.0</td>\n",
              "      <td>47.6</td>\n",
              "      <td>118.8</td>\n",
              "      <td>230.9</td>\n",
              "      <td>NaN</td>\n",
              "      <td>NaN</td>\n",
              "      <td>NaN</td>\n",
              "      <td>NaN</td>\n",
              "      <td>NaN</td>\n",
              "      <td>NaN</td>\n",
              "      <td>NaN</td>\n",
              "      <td>2021</td>\n",
              "    </tr>\n",
              "    <tr>\n",
              "      <th>31</th>\n",
              "      <td>ZACATECAS</td>\n",
              "      <td>1.5</td>\n",
              "      <td>0.0</td>\n",
              "      <td>0.0</td>\n",
              "      <td>2.0</td>\n",
              "      <td>17.0</td>\n",
              "      <td>98.0</td>\n",
              "      <td>NaN</td>\n",
              "      <td>NaN</td>\n",
              "      <td>NaN</td>\n",
              "      <td>NaN</td>\n",
              "      <td>NaN</td>\n",
              "      <td>NaN</td>\n",
              "      <td>NaN</td>\n",
              "      <td>2021</td>\n",
              "    </tr>\n",
              "    <tr>\n",
              "      <th>32</th>\n",
              "      <td>NACIONAL</td>\n",
              "      <td>23.7</td>\n",
              "      <td>7.9</td>\n",
              "      <td>8.4</td>\n",
              "      <td>11.0</td>\n",
              "      <td>51.3</td>\n",
              "      <td>137.5</td>\n",
              "      <td>NaN</td>\n",
              "      <td>NaN</td>\n",
              "      <td>NaN</td>\n",
              "      <td>NaN</td>\n",
              "      <td>NaN</td>\n",
              "      <td>NaN</td>\n",
              "      <td>NaN</td>\n",
              "      <td>2021</td>\n",
              "    </tr>\n",
              "  </tbody>\n",
              "</table>\n",
              "</div>"
            ],
            "text/plain": [
              "      ENTIDAD   ENE   FEB   MAR   ABR    MAY  ...  SEP  OCT  NOV  DIC  ANUAL  Year\n",
              "28   TLAXCALA  11.9   0.6   2.0  18.8   77.4  ...  NaN  NaN  NaN  NaN    NaN  2021\n",
              "29   VERACRUZ  85.0  25.4  22.7  32.1  103.5  ...  NaN  NaN  NaN  NaN    NaN  2021\n",
              "30    YUCATÁN  45.9  55.1  23.0  47.6  118.8  ...  NaN  NaN  NaN  NaN    NaN  2021\n",
              "31  ZACATECAS   1.5   0.0   0.0   2.0   17.0  ...  NaN  NaN  NaN  NaN    NaN  2021\n",
              "32   NACIONAL  23.7   7.9   8.4  11.0   51.3  ...  NaN  NaN  NaN  NaN    NaN  2021\n",
              "\n",
              "[5 rows x 15 columns]"
            ]
          },
          "metadata": {
            "tags": []
          },
          "execution_count": 123
        }
      ]
    },
    {
      "cell_type": "code",
      "metadata": {
        "id": "ggc39l8ZzT8_",
        "colab": {
          "base_uri": "https://localhost:8080/",
          "height": 0
        },
        "outputId": "de46323c-97ac-4c40-a0df-2c18673d4825"
      },
      "source": [
        "df_precipitacion.describe()"
      ],
      "execution_count": 124,
      "outputs": [
        {
          "output_type": "execute_result",
          "data": {
            "text/html": [
              "<div>\n",
              "<style scoped>\n",
              "    .dataframe tbody tr th:only-of-type {\n",
              "        vertical-align: middle;\n",
              "    }\n",
              "\n",
              "    .dataframe tbody tr th {\n",
              "        vertical-align: top;\n",
              "    }\n",
              "\n",
              "    .dataframe thead th {\n",
              "        text-align: right;\n",
              "    }\n",
              "</style>\n",
              "<table border=\"1\" class=\"dataframe\">\n",
              "  <thead>\n",
              "    <tr style=\"text-align: right;\">\n",
              "      <th></th>\n",
              "      <th>ENE</th>\n",
              "      <th>FEB</th>\n",
              "      <th>MAR</th>\n",
              "      <th>ABR</th>\n",
              "      <th>MAY</th>\n",
              "      <th>JUN</th>\n",
              "      <th>JUL</th>\n",
              "      <th>AGO</th>\n",
              "      <th>SEP</th>\n",
              "      <th>OCT</th>\n",
              "      <th>NOV</th>\n",
              "      <th>DIC</th>\n",
              "      <th>ANUAL</th>\n",
              "      <th>Year</th>\n",
              "    </tr>\n",
              "  </thead>\n",
              "  <tbody>\n",
              "    <tr>\n",
              "      <th>count</th>\n",
              "      <td>1221.000000</td>\n",
              "      <td>1221.000000</td>\n",
              "      <td>1221.000000</td>\n",
              "      <td>1221.000000</td>\n",
              "      <td>1221.000000</td>\n",
              "      <td>1221.000000</td>\n",
              "      <td>1188.000000</td>\n",
              "      <td>1188.000000</td>\n",
              "      <td>1188.000000</td>\n",
              "      <td>1188.000000</td>\n",
              "      <td>1188.000000</td>\n",
              "      <td>1188.000000</td>\n",
              "      <td>1188.000000</td>\n",
              "      <td>1221.000000</td>\n",
              "    </tr>\n",
              "    <tr>\n",
              "      <th>mean</th>\n",
              "      <td>25.181030</td>\n",
              "      <td>19.159112</td>\n",
              "      <td>16.909325</td>\n",
              "      <td>21.013297</td>\n",
              "      <td>48.512556</td>\n",
              "      <td>129.675665</td>\n",
              "      <td>149.576171</td>\n",
              "      <td>160.540304</td>\n",
              "      <td>167.400812</td>\n",
              "      <td>91.386272</td>\n",
              "      <td>38.894987</td>\n",
              "      <td>24.493705</td>\n",
              "      <td>891.504156</td>\n",
              "      <td>2003.000000</td>\n",
              "    </tr>\n",
              "    <tr>\n",
              "      <th>std</th>\n",
              "      <td>39.853232</td>\n",
              "      <td>28.770772</td>\n",
              "      <td>23.597631</td>\n",
              "      <td>26.503308</td>\n",
              "      <td>52.296224</td>\n",
              "      <td>96.014071</td>\n",
              "      <td>89.757496</td>\n",
              "      <td>102.032835</td>\n",
              "      <td>109.108209</td>\n",
              "      <td>93.413841</td>\n",
              "      <td>54.352255</td>\n",
              "      <td>36.785626</td>\n",
              "      <td>505.327421</td>\n",
              "      <td>10.681453</td>\n",
              "    </tr>\n",
              "    <tr>\n",
              "      <th>min</th>\n",
              "      <td>0.000000</td>\n",
              "      <td>0.000000</td>\n",
              "      <td>0.000000</td>\n",
              "      <td>0.000000</td>\n",
              "      <td>0.000000</td>\n",
              "      <td>0.000000</td>\n",
              "      <td>0.000000</td>\n",
              "      <td>0.000000</td>\n",
              "      <td>0.000000</td>\n",
              "      <td>0.000000</td>\n",
              "      <td>0.000000</td>\n",
              "      <td>0.000000</td>\n",
              "      <td>48.775653</td>\n",
              "      <td>1985.000000</td>\n",
              "    </tr>\n",
              "    <tr>\n",
              "      <th>25%</th>\n",
              "      <td>2.500000</td>\n",
              "      <td>1.485378</td>\n",
              "      <td>1.600000</td>\n",
              "      <td>2.200000</td>\n",
              "      <td>8.090848</td>\n",
              "      <td>59.400000</td>\n",
              "      <td>90.618401</td>\n",
              "      <td>90.771531</td>\n",
              "      <td>87.767943</td>\n",
              "      <td>29.700000</td>\n",
              "      <td>6.176443</td>\n",
              "      <td>2.690000</td>\n",
              "      <td>544.925000</td>\n",
              "      <td>1994.000000</td>\n",
              "    </tr>\n",
              "    <tr>\n",
              "      <th>50%</th>\n",
              "      <td>12.150562</td>\n",
              "      <td>9.140000</td>\n",
              "      <td>8.724494</td>\n",
              "      <td>12.155076</td>\n",
              "      <td>35.000000</td>\n",
              "      <td>113.010000</td>\n",
              "      <td>136.900000</td>\n",
              "      <td>144.800000</td>\n",
              "      <td>146.082629</td>\n",
              "      <td>63.850000</td>\n",
              "      <td>19.515000</td>\n",
              "      <td>11.853484</td>\n",
              "      <td>766.859225</td>\n",
              "      <td>2003.000000</td>\n",
              "    </tr>\n",
              "    <tr>\n",
              "      <th>75%</th>\n",
              "      <td>29.630000</td>\n",
              "      <td>24.500000</td>\n",
              "      <td>22.200000</td>\n",
              "      <td>29.600000</td>\n",
              "      <td>70.800000</td>\n",
              "      <td>182.503579</td>\n",
              "      <td>195.296034</td>\n",
              "      <td>211.092053</td>\n",
              "      <td>220.875000</td>\n",
              "      <td>122.650000</td>\n",
              "      <td>47.550000</td>\n",
              "      <td>31.292159</td>\n",
              "      <td>1141.913786</td>\n",
              "      <td>2012.000000</td>\n",
              "    </tr>\n",
              "    <tr>\n",
              "      <th>max</th>\n",
              "      <td>363.900000</td>\n",
              "      <td>308.700000</td>\n",
              "      <td>306.110000</td>\n",
              "      <td>221.900000</td>\n",
              "      <td>370.982274</td>\n",
              "      <td>691.700000</td>\n",
              "      <td>563.600000</td>\n",
              "      <td>756.700000</td>\n",
              "      <td>851.000000</td>\n",
              "      <td>802.500000</td>\n",
              "      <td>501.300000</td>\n",
              "      <td>460.500000</td>\n",
              "      <td>3366.900000</td>\n",
              "      <td>2021.000000</td>\n",
              "    </tr>\n",
              "  </tbody>\n",
              "</table>\n",
              "</div>"
            ],
            "text/plain": [
              "               ENE          FEB  ...        ANUAL         Year\n",
              "count  1221.000000  1221.000000  ...  1188.000000  1221.000000\n",
              "mean     25.181030    19.159112  ...   891.504156  2003.000000\n",
              "std      39.853232    28.770772  ...   505.327421    10.681453\n",
              "min       0.000000     0.000000  ...    48.775653  1985.000000\n",
              "25%       2.500000     1.485378  ...   544.925000  1994.000000\n",
              "50%      12.150562     9.140000  ...   766.859225  2003.000000\n",
              "75%      29.630000    24.500000  ...  1141.913786  2012.000000\n",
              "max     363.900000   308.700000  ...  3366.900000  2021.000000\n",
              "\n",
              "[8 rows x 14 columns]"
            ]
          },
          "metadata": {
            "tags": []
          },
          "execution_count": 124
        }
      ]
    },
    {
      "cell_type": "code",
      "metadata": {
        "id": "dflUuaI_zT9A",
        "colab": {
          "base_uri": "https://localhost:8080/"
        },
        "outputId": "67998b89-0c65-4950-c947-6b08618cf667"
      },
      "source": [
        "df_precipitacion.isnull().values.any()"
      ],
      "execution_count": 125,
      "outputs": [
        {
          "output_type": "execute_result",
          "data": {
            "text/plain": [
              "True"
            ]
          },
          "metadata": {
            "tags": []
          },
          "execution_count": 125
        }
      ]
    },
    {
      "cell_type": "markdown",
      "metadata": {
        "id": "rZJSQJfJ0-Fa"
      },
      "source": [
        "Se puede observar lo siguiente:\n",
        "* El DataFrame contine 1221 entradas y 15 columnas. \n",
        "* La mayoría de las columnas son tipo float. \n",
        "* El orden de las filas es por estados y por años, es decir; un año tiene 32 filas representando a cada estado. \n",
        "* Existen datos NaN, a primera vista parecen ser solamente del año 2021. "
      ]
    },
    {
      "cell_type": "markdown",
      "metadata": {
        "id": "9ucI8cKZJq0l"
      },
      "source": [
        "## Limpieza de datos"
      ]
    },
    {
      "cell_type": "markdown",
      "metadata": {
        "id": "NuPs3hrJRePH"
      },
      "source": [
        "#### Limpieza de dataframe de sequías"
      ]
    },
    {
      "cell_type": "markdown",
      "metadata": {
        "id": "bKaM0Kq7SFxz"
      },
      "source": [
        "Afortunadamente la fuente de nuestros datos fue muy buena y no regresó ningún `Nan`, lo que si nos dió fueron algunas columnas que no nos son de utilidad para las preguntas que planteamos, por eso, vamos a proceder a eliminar estas columnas:\n",
        "- `__type`\n",
        "- `ReleaseID`\n",
        "- `FileDate`\n"
      ]
    },
    {
      "cell_type": "code",
      "metadata": {
        "colab": {
          "base_uri": "https://localhost:8080/",
          "height": 0
        },
        "id": "2yqMf6QaSJX4",
        "outputId": "644f9f42-0598-403c-a707-75060fda28af"
      },
      "source": [
        "df_sequias_raw = df_sequias_raw.drop([\"__type\",\"ReleaseID\",\"FileDate\"], axis=1)\n",
        "df_sequias_raw"
      ],
      "execution_count": 126,
      "outputs": [
        {
          "output_type": "execute_result",
          "data": {
            "text/html": [
              "<div>\n",
              "<style scoped>\n",
              "    .dataframe tbody tr th:only-of-type {\n",
              "        vertical-align: middle;\n",
              "    }\n",
              "\n",
              "    .dataframe tbody tr th {\n",
              "        vertical-align: top;\n",
              "    }\n",
              "\n",
              "    .dataframe thead th {\n",
              "        text-align: right;\n",
              "    }\n",
              "</style>\n",
              "<table border=\"1\" class=\"dataframe\">\n",
              "  <thead>\n",
              "    <tr style=\"text-align: right;\">\n",
              "      <th></th>\n",
              "      <th>Date</th>\n",
              "      <th>D0</th>\n",
              "      <th>D1</th>\n",
              "      <th>D2</th>\n",
              "      <th>D3</th>\n",
              "      <th>D4</th>\n",
              "      <th>None</th>\n",
              "      <th>Entidad</th>\n",
              "    </tr>\n",
              "  </thead>\n",
              "  <tbody>\n",
              "    <tr>\n",
              "      <th>0</th>\n",
              "      <td>2021-07-31</td>\n",
              "      <td>0.00</td>\n",
              "      <td>0.00</td>\n",
              "      <td>0.00</td>\n",
              "      <td>0.0</td>\n",
              "      <td>0.0</td>\n",
              "      <td>100.00</td>\n",
              "      <td>Aguascalientes</td>\n",
              "    </tr>\n",
              "    <tr>\n",
              "      <th>1</th>\n",
              "      <td>2021-06-30</td>\n",
              "      <td>37.64</td>\n",
              "      <td>3.54</td>\n",
              "      <td>0.00</td>\n",
              "      <td>0.0</td>\n",
              "      <td>0.0</td>\n",
              "      <td>58.82</td>\n",
              "      <td>Aguascalientes</td>\n",
              "    </tr>\n",
              "    <tr>\n",
              "      <th>2</th>\n",
              "      <td>2021-05-31</td>\n",
              "      <td>0.00</td>\n",
              "      <td>73.87</td>\n",
              "      <td>26.13</td>\n",
              "      <td>0.0</td>\n",
              "      <td>0.0</td>\n",
              "      <td>0.00</td>\n",
              "      <td>Aguascalientes</td>\n",
              "    </tr>\n",
              "    <tr>\n",
              "      <th>3</th>\n",
              "      <td>2021-04-30</td>\n",
              "      <td>0.00</td>\n",
              "      <td>51.55</td>\n",
              "      <td>48.45</td>\n",
              "      <td>0.0</td>\n",
              "      <td>0.0</td>\n",
              "      <td>0.00</td>\n",
              "      <td>Aguascalientes</td>\n",
              "    </tr>\n",
              "    <tr>\n",
              "      <th>4</th>\n",
              "      <td>2021-03-31</td>\n",
              "      <td>0.00</td>\n",
              "      <td>75.85</td>\n",
              "      <td>24.15</td>\n",
              "      <td>0.0</td>\n",
              "      <td>0.0</td>\n",
              "      <td>0.00</td>\n",
              "      <td>Aguascalientes</td>\n",
              "    </tr>\n",
              "    <tr>\n",
              "      <th>...</th>\n",
              "      <td>...</td>\n",
              "      <td>...</td>\n",
              "      <td>...</td>\n",
              "      <td>...</td>\n",
              "      <td>...</td>\n",
              "      <td>...</td>\n",
              "      <td>...</td>\n",
              "      <td>...</td>\n",
              "    </tr>\n",
              "    <tr>\n",
              "      <th>220</th>\n",
              "      <td>2003-03-31</td>\n",
              "      <td>3.90</td>\n",
              "      <td>0.08</td>\n",
              "      <td>0.00</td>\n",
              "      <td>0.0</td>\n",
              "      <td>0.0</td>\n",
              "      <td>96.02</td>\n",
              "      <td>Zacatecas</td>\n",
              "    </tr>\n",
              "    <tr>\n",
              "      <th>221</th>\n",
              "      <td>2003-02-28</td>\n",
              "      <td>3.83</td>\n",
              "      <td>0.03</td>\n",
              "      <td>0.00</td>\n",
              "      <td>0.0</td>\n",
              "      <td>0.0</td>\n",
              "      <td>96.14</td>\n",
              "      <td>Zacatecas</td>\n",
              "    </tr>\n",
              "    <tr>\n",
              "      <th>222</th>\n",
              "      <td>2003-01-31</td>\n",
              "      <td>3.83</td>\n",
              "      <td>0.03</td>\n",
              "      <td>0.00</td>\n",
              "      <td>0.0</td>\n",
              "      <td>0.0</td>\n",
              "      <td>96.14</td>\n",
              "      <td>Zacatecas</td>\n",
              "    </tr>\n",
              "    <tr>\n",
              "      <th>223</th>\n",
              "      <td>2002-12-31</td>\n",
              "      <td>3.83</td>\n",
              "      <td>0.03</td>\n",
              "      <td>0.00</td>\n",
              "      <td>0.0</td>\n",
              "      <td>0.0</td>\n",
              "      <td>96.14</td>\n",
              "      <td>Zacatecas</td>\n",
              "    </tr>\n",
              "    <tr>\n",
              "      <th>224</th>\n",
              "      <td>2002-11-30</td>\n",
              "      <td>3.83</td>\n",
              "      <td>0.03</td>\n",
              "      <td>0.00</td>\n",
              "      <td>0.0</td>\n",
              "      <td>0.0</td>\n",
              "      <td>96.14</td>\n",
              "      <td>Zacatecas</td>\n",
              "    </tr>\n",
              "  </tbody>\n",
              "</table>\n",
              "<p>7200 rows × 8 columns</p>\n",
              "</div>"
            ],
            "text/plain": [
              "           Date     D0     D1     D2   D3   D4    None         Entidad\n",
              "0    2021-07-31   0.00   0.00   0.00  0.0  0.0  100.00  Aguascalientes\n",
              "1    2021-06-30  37.64   3.54   0.00  0.0  0.0   58.82  Aguascalientes\n",
              "2    2021-05-31   0.00  73.87  26.13  0.0  0.0    0.00  Aguascalientes\n",
              "3    2021-04-30   0.00  51.55  48.45  0.0  0.0    0.00  Aguascalientes\n",
              "4    2021-03-31   0.00  75.85  24.15  0.0  0.0    0.00  Aguascalientes\n",
              "..          ...    ...    ...    ...  ...  ...     ...             ...\n",
              "220  2003-03-31   3.90   0.08   0.00  0.0  0.0   96.02       Zacatecas\n",
              "221  2003-02-28   3.83   0.03   0.00  0.0  0.0   96.14       Zacatecas\n",
              "222  2003-01-31   3.83   0.03   0.00  0.0  0.0   96.14       Zacatecas\n",
              "223  2002-12-31   3.83   0.03   0.00  0.0  0.0   96.14       Zacatecas\n",
              "224  2002-11-30   3.83   0.03   0.00  0.0  0.0   96.14       Zacatecas\n",
              "\n",
              "[7200 rows x 8 columns]"
            ]
          },
          "metadata": {
            "tags": []
          },
          "execution_count": 126
        }
      ]
    },
    {
      "cell_type": "markdown",
      "metadata": {
        "id": "_DPFfqKfagmW"
      },
      "source": [
        "Por otra parte, se observó que el **índice** no era correcto, pues termina en el valor 224, aunque realmente el DataFrame tiene 7200 entradas. Por ello, se procedió a **reiniciarlo**."
      ]
    },
    {
      "cell_type": "code",
      "metadata": {
        "colab": {
          "base_uri": "https://localhost:8080/",
          "height": 0
        },
        "id": "5BXFu0xXahGg",
        "outputId": "4b4e4284-c2fb-48e5-c8da-c10fde73c336"
      },
      "source": [
        "df_sequias_raw.reset_index(drop=True, inplace=True)\n",
        "df_sequias_raw"
      ],
      "execution_count": 127,
      "outputs": [
        {
          "output_type": "execute_result",
          "data": {
            "text/html": [
              "<div>\n",
              "<style scoped>\n",
              "    .dataframe tbody tr th:only-of-type {\n",
              "        vertical-align: middle;\n",
              "    }\n",
              "\n",
              "    .dataframe tbody tr th {\n",
              "        vertical-align: top;\n",
              "    }\n",
              "\n",
              "    .dataframe thead th {\n",
              "        text-align: right;\n",
              "    }\n",
              "</style>\n",
              "<table border=\"1\" class=\"dataframe\">\n",
              "  <thead>\n",
              "    <tr style=\"text-align: right;\">\n",
              "      <th></th>\n",
              "      <th>Date</th>\n",
              "      <th>D0</th>\n",
              "      <th>D1</th>\n",
              "      <th>D2</th>\n",
              "      <th>D3</th>\n",
              "      <th>D4</th>\n",
              "      <th>None</th>\n",
              "      <th>Entidad</th>\n",
              "    </tr>\n",
              "  </thead>\n",
              "  <tbody>\n",
              "    <tr>\n",
              "      <th>0</th>\n",
              "      <td>2021-07-31</td>\n",
              "      <td>0.00</td>\n",
              "      <td>0.00</td>\n",
              "      <td>0.00</td>\n",
              "      <td>0.0</td>\n",
              "      <td>0.0</td>\n",
              "      <td>100.00</td>\n",
              "      <td>Aguascalientes</td>\n",
              "    </tr>\n",
              "    <tr>\n",
              "      <th>1</th>\n",
              "      <td>2021-06-30</td>\n",
              "      <td>37.64</td>\n",
              "      <td>3.54</td>\n",
              "      <td>0.00</td>\n",
              "      <td>0.0</td>\n",
              "      <td>0.0</td>\n",
              "      <td>58.82</td>\n",
              "      <td>Aguascalientes</td>\n",
              "    </tr>\n",
              "    <tr>\n",
              "      <th>2</th>\n",
              "      <td>2021-05-31</td>\n",
              "      <td>0.00</td>\n",
              "      <td>73.87</td>\n",
              "      <td>26.13</td>\n",
              "      <td>0.0</td>\n",
              "      <td>0.0</td>\n",
              "      <td>0.00</td>\n",
              "      <td>Aguascalientes</td>\n",
              "    </tr>\n",
              "    <tr>\n",
              "      <th>3</th>\n",
              "      <td>2021-04-30</td>\n",
              "      <td>0.00</td>\n",
              "      <td>51.55</td>\n",
              "      <td>48.45</td>\n",
              "      <td>0.0</td>\n",
              "      <td>0.0</td>\n",
              "      <td>0.00</td>\n",
              "      <td>Aguascalientes</td>\n",
              "    </tr>\n",
              "    <tr>\n",
              "      <th>4</th>\n",
              "      <td>2021-03-31</td>\n",
              "      <td>0.00</td>\n",
              "      <td>75.85</td>\n",
              "      <td>24.15</td>\n",
              "      <td>0.0</td>\n",
              "      <td>0.0</td>\n",
              "      <td>0.00</td>\n",
              "      <td>Aguascalientes</td>\n",
              "    </tr>\n",
              "    <tr>\n",
              "      <th>...</th>\n",
              "      <td>...</td>\n",
              "      <td>...</td>\n",
              "      <td>...</td>\n",
              "      <td>...</td>\n",
              "      <td>...</td>\n",
              "      <td>...</td>\n",
              "      <td>...</td>\n",
              "      <td>...</td>\n",
              "    </tr>\n",
              "    <tr>\n",
              "      <th>7195</th>\n",
              "      <td>2003-03-31</td>\n",
              "      <td>3.90</td>\n",
              "      <td>0.08</td>\n",
              "      <td>0.00</td>\n",
              "      <td>0.0</td>\n",
              "      <td>0.0</td>\n",
              "      <td>96.02</td>\n",
              "      <td>Zacatecas</td>\n",
              "    </tr>\n",
              "    <tr>\n",
              "      <th>7196</th>\n",
              "      <td>2003-02-28</td>\n",
              "      <td>3.83</td>\n",
              "      <td>0.03</td>\n",
              "      <td>0.00</td>\n",
              "      <td>0.0</td>\n",
              "      <td>0.0</td>\n",
              "      <td>96.14</td>\n",
              "      <td>Zacatecas</td>\n",
              "    </tr>\n",
              "    <tr>\n",
              "      <th>7197</th>\n",
              "      <td>2003-01-31</td>\n",
              "      <td>3.83</td>\n",
              "      <td>0.03</td>\n",
              "      <td>0.00</td>\n",
              "      <td>0.0</td>\n",
              "      <td>0.0</td>\n",
              "      <td>96.14</td>\n",
              "      <td>Zacatecas</td>\n",
              "    </tr>\n",
              "    <tr>\n",
              "      <th>7198</th>\n",
              "      <td>2002-12-31</td>\n",
              "      <td>3.83</td>\n",
              "      <td>0.03</td>\n",
              "      <td>0.00</td>\n",
              "      <td>0.0</td>\n",
              "      <td>0.0</td>\n",
              "      <td>96.14</td>\n",
              "      <td>Zacatecas</td>\n",
              "    </tr>\n",
              "    <tr>\n",
              "      <th>7199</th>\n",
              "      <td>2002-11-30</td>\n",
              "      <td>3.83</td>\n",
              "      <td>0.03</td>\n",
              "      <td>0.00</td>\n",
              "      <td>0.0</td>\n",
              "      <td>0.0</td>\n",
              "      <td>96.14</td>\n",
              "      <td>Zacatecas</td>\n",
              "    </tr>\n",
              "  </tbody>\n",
              "</table>\n",
              "<p>7200 rows × 8 columns</p>\n",
              "</div>"
            ],
            "text/plain": [
              "            Date     D0     D1     D2   D3   D4    None         Entidad\n",
              "0     2021-07-31   0.00   0.00   0.00  0.0  0.0  100.00  Aguascalientes\n",
              "1     2021-06-30  37.64   3.54   0.00  0.0  0.0   58.82  Aguascalientes\n",
              "2     2021-05-31   0.00  73.87  26.13  0.0  0.0    0.00  Aguascalientes\n",
              "3     2021-04-30   0.00  51.55  48.45  0.0  0.0    0.00  Aguascalientes\n",
              "4     2021-03-31   0.00  75.85  24.15  0.0  0.0    0.00  Aguascalientes\n",
              "...          ...    ...    ...    ...  ...  ...     ...             ...\n",
              "7195  2003-03-31   3.90   0.08   0.00  0.0  0.0   96.02       Zacatecas\n",
              "7196  2003-02-28   3.83   0.03   0.00  0.0  0.0   96.14       Zacatecas\n",
              "7197  2003-01-31   3.83   0.03   0.00  0.0  0.0   96.14       Zacatecas\n",
              "7198  2002-12-31   3.83   0.03   0.00  0.0  0.0   96.14       Zacatecas\n",
              "7199  2002-11-30   3.83   0.03   0.00  0.0  0.0   96.14       Zacatecas\n",
              "\n",
              "[7200 rows x 8 columns]"
            ]
          },
          "metadata": {
            "tags": []
          },
          "execution_count": 127
        }
      ]
    },
    {
      "cell_type": "markdown",
      "metadata": {
        "id": "-fBoFOYYSmc2"
      },
      "source": [
        "Ya con nuestros datos limpios y solamente con las columnas que nos interesan, podemos pasar a la fase de procesamiento para ver si se necesita alguna transformación para nuestro DataFrame."
      ]
    },
    {
      "cell_type": "markdown",
      "metadata": {
        "id": "EgEHVfKtRzsw"
      },
      "source": [
        "#### Limpieza de dataframe de estrés agrícola"
      ]
    },
    {
      "cell_type": "markdown",
      "metadata": {
        "id": "v_N6ge8dTSGq"
      },
      "source": [
        "En nuestro DataFrame tenemos columnas que no aportan nada a la hora de responder nuestras preguntas, por eso serán eliminadas:\n",
        "- `Indicator`. El DataFrame solo contiene un tipo de dato relacionado al estrés agrícola, es por eso que esta columna se hace innecesaria.\n",
        "- `Country`. Todos los datos son de México y además se tiene el campo de estado, lo cual es lo que nos interesa saber a la hora de responder nuestras preguntas.\n",
        "- `AMD1_CODE`.\n",
        "- `Land_type`. Al ser datos de estrés agrícola, el único tipo de área es de cultivo, por lo que es redundante tener esta columna.\n",
        "- `Date`. Esta columna se hace irrelevante ya que tenemos `Year` y `Month` lo que nos es mejor para el propósito de este proyecto.\n",
        "- `Unit`. Ya se ha especificado el valor y unidades del estrés agrícola en la investigación previa, por lo que no es necesario tener esta columna.\n",
        "- `Source`. Todos los datos vienen de la misma fuente y además ya se ha citado en la investigación previa, por lo que se puede omitir esta columna. "
      ]
    },
    {
      "cell_type": "code",
      "metadata": {
        "id": "B0Sbd6zVTTOZ"
      },
      "source": [
        "df_IEA_clean = df_IEA_raw.drop([\"Indicator\",\"Country\",\"ADM1_CODE\",\"Land_Type\",\"Date\",\"Unit\",\"Source\", \"Dekad\"], axis=1)"
      ],
      "execution_count": 128,
      "outputs": []
    },
    {
      "cell_type": "markdown",
      "metadata": {
        "id": "PvRs3L9ccJOw"
      },
      "source": [
        "Por último paso corresponde reiniciar el índice:"
      ]
    },
    {
      "cell_type": "code",
      "metadata": {
        "id": "o5tTDamUcM-K",
        "colab": {
          "base_uri": "https://localhost:8080/",
          "height": 0
        },
        "outputId": "038deb32-62c0-4d65-caf7-d750192a3be9"
      },
      "source": [
        "df_IEA_clean.reset_index(drop=True, inplace=True)\n",
        "df_IEA_clean"
      ],
      "execution_count": 129,
      "outputs": [
        {
          "output_type": "execute_result",
          "data": {
            "text/html": [
              "<div>\n",
              "<style scoped>\n",
              "    .dataframe tbody tr th:only-of-type {\n",
              "        vertical-align: middle;\n",
              "    }\n",
              "\n",
              "    .dataframe tbody tr th {\n",
              "        vertical-align: top;\n",
              "    }\n",
              "\n",
              "    .dataframe thead th {\n",
              "        text-align: right;\n",
              "    }\n",
              "</style>\n",
              "<table border=\"1\" class=\"dataframe\">\n",
              "  <thead>\n",
              "    <tr style=\"text-align: right;\">\n",
              "      <th></th>\n",
              "      <th>Province</th>\n",
              "      <th>Data</th>\n",
              "      <th>Year</th>\n",
              "      <th>Month</th>\n",
              "    </tr>\n",
              "  </thead>\n",
              "  <tbody>\n",
              "    <tr>\n",
              "      <th>0</th>\n",
              "      <td>Aguascalientes</td>\n",
              "      <td>0.000</td>\n",
              "      <td>1984</td>\n",
              "      <td>1</td>\n",
              "    </tr>\n",
              "    <tr>\n",
              "      <th>1</th>\n",
              "      <td>Aguascalientes</td>\n",
              "      <td>0.000</td>\n",
              "      <td>1984</td>\n",
              "      <td>1</td>\n",
              "    </tr>\n",
              "    <tr>\n",
              "      <th>2</th>\n",
              "      <td>Aguascalientes</td>\n",
              "      <td>0.000</td>\n",
              "      <td>1984</td>\n",
              "      <td>1</td>\n",
              "    </tr>\n",
              "    <tr>\n",
              "      <th>3</th>\n",
              "      <td>Aguascalientes</td>\n",
              "      <td>0.000</td>\n",
              "      <td>1984</td>\n",
              "      <td>2</td>\n",
              "    </tr>\n",
              "    <tr>\n",
              "      <th>4</th>\n",
              "      <td>Aguascalientes</td>\n",
              "      <td>0.000</td>\n",
              "      <td>1984</td>\n",
              "      <td>2</td>\n",
              "    </tr>\n",
              "    <tr>\n",
              "      <th>...</th>\n",
              "      <td>...</td>\n",
              "      <td>...</td>\n",
              "      <td>...</td>\n",
              "      <td>...</td>\n",
              "    </tr>\n",
              "    <tr>\n",
              "      <th>41106</th>\n",
              "      <td>Tamaulipas</td>\n",
              "      <td>0.789</td>\n",
              "      <td>2021</td>\n",
              "      <td>8</td>\n",
              "    </tr>\n",
              "    <tr>\n",
              "      <th>41107</th>\n",
              "      <td>Tlaxcala</td>\n",
              "      <td>0.163</td>\n",
              "      <td>2021</td>\n",
              "      <td>8</td>\n",
              "    </tr>\n",
              "    <tr>\n",
              "      <th>41108</th>\n",
              "      <td>Veracruz</td>\n",
              "      <td>0.906</td>\n",
              "      <td>2021</td>\n",
              "      <td>8</td>\n",
              "    </tr>\n",
              "    <tr>\n",
              "      <th>41109</th>\n",
              "      <td>Yucatan</td>\n",
              "      <td>0.693</td>\n",
              "      <td>2021</td>\n",
              "      <td>8</td>\n",
              "    </tr>\n",
              "    <tr>\n",
              "      <th>41110</th>\n",
              "      <td>Zacatecas</td>\n",
              "      <td>0.539</td>\n",
              "      <td>2021</td>\n",
              "      <td>8</td>\n",
              "    </tr>\n",
              "  </tbody>\n",
              "</table>\n",
              "<p>41111 rows × 4 columns</p>\n",
              "</div>"
            ],
            "text/plain": [
              "             Province   Data  Year  Month\n",
              "0      Aguascalientes  0.000  1984      1\n",
              "1      Aguascalientes  0.000  1984      1\n",
              "2      Aguascalientes  0.000  1984      1\n",
              "3      Aguascalientes  0.000  1984      2\n",
              "4      Aguascalientes  0.000  1984      2\n",
              "...               ...    ...   ...    ...\n",
              "41106      Tamaulipas  0.789  2021      8\n",
              "41107        Tlaxcala  0.163  2021      8\n",
              "41108        Veracruz  0.906  2021      8\n",
              "41109         Yucatan  0.693  2021      8\n",
              "41110       Zacatecas  0.539  2021      8\n",
              "\n",
              "[41111 rows x 4 columns]"
            ]
          },
          "metadata": {
            "tags": []
          },
          "execution_count": 129
        }
      ]
    },
    {
      "cell_type": "markdown",
      "metadata": {
        "id": "q3H6Dl-tR0aw"
      },
      "source": [
        "#### Limpieza de dataframe de temperatura media mensual"
      ]
    },
    {
      "cell_type": "markdown",
      "metadata": {
        "id": "NA1StlS7gAaF"
      },
      "source": [
        "Primero reestructuramos el DataFrame utilizando la función `melt`. Convertimos las columnas correspondientes a cada mes y `ANUAL` en filas. Esto para poder eliminar con mayor facilidad los valores nulos. "
      ]
    },
    {
      "cell_type": "code",
      "metadata": {
        "id": "z433OhSi1bEE",
        "colab": {
          "base_uri": "https://localhost:8080/",
          "height": 0
        },
        "outputId": "2b4444a6-68f0-4f29-e842-2bdcaff8cff9"
      },
      "source": [
        "temperatura_media_mensual = df_temperatura_media.melt(id_vars=['ENTIDAD','Year'],var_name=\"Mes\",value_name=\"Temperatura\")\n",
        "\n",
        "temperatura_media_mensual"
      ],
      "execution_count": 130,
      "outputs": [
        {
          "output_type": "execute_result",
          "data": {
            "text/html": [
              "<div>\n",
              "<style scoped>\n",
              "    .dataframe tbody tr th:only-of-type {\n",
              "        vertical-align: middle;\n",
              "    }\n",
              "\n",
              "    .dataframe tbody tr th {\n",
              "        vertical-align: top;\n",
              "    }\n",
              "\n",
              "    .dataframe thead th {\n",
              "        text-align: right;\n",
              "    }\n",
              "</style>\n",
              "<table border=\"1\" class=\"dataframe\">\n",
              "  <thead>\n",
              "    <tr style=\"text-align: right;\">\n",
              "      <th></th>\n",
              "      <th>ENTIDAD</th>\n",
              "      <th>Year</th>\n",
              "      <th>Mes</th>\n",
              "      <th>Temperatura</th>\n",
              "    </tr>\n",
              "  </thead>\n",
              "  <tbody>\n",
              "    <tr>\n",
              "      <th>0</th>\n",
              "      <td>AGUASCALIENTES</td>\n",
              "      <td>1985</td>\n",
              "      <td>ENE</td>\n",
              "      <td>11.967094</td>\n",
              "    </tr>\n",
              "    <tr>\n",
              "      <th>1</th>\n",
              "      <td>BAJA CALIFORNIA</td>\n",
              "      <td>1985</td>\n",
              "      <td>ENE</td>\n",
              "      <td>11.052290</td>\n",
              "    </tr>\n",
              "    <tr>\n",
              "      <th>2</th>\n",
              "      <td>BAJA CALIFORNIA SUR</td>\n",
              "      <td>1985</td>\n",
              "      <td>ENE</td>\n",
              "      <td>15.702536</td>\n",
              "    </tr>\n",
              "    <tr>\n",
              "      <th>3</th>\n",
              "      <td>CAMPECHE</td>\n",
              "      <td>1985</td>\n",
              "      <td>ENE</td>\n",
              "      <td>22.932142</td>\n",
              "    </tr>\n",
              "    <tr>\n",
              "      <th>4</th>\n",
              "      <td>COAHUILA</td>\n",
              "      <td>1985</td>\n",
              "      <td>ENE</td>\n",
              "      <td>8.438872</td>\n",
              "    </tr>\n",
              "    <tr>\n",
              "      <th>...</th>\n",
              "      <td>...</td>\n",
              "      <td>...</td>\n",
              "      <td>...</td>\n",
              "      <td>...</td>\n",
              "    </tr>\n",
              "    <tr>\n",
              "      <th>15868</th>\n",
              "      <td>TLAXCALA</td>\n",
              "      <td>2021</td>\n",
              "      <td>ANUAL</td>\n",
              "      <td>NaN</td>\n",
              "    </tr>\n",
              "    <tr>\n",
              "      <th>15869</th>\n",
              "      <td>VERACRUZ</td>\n",
              "      <td>2021</td>\n",
              "      <td>ANUAL</td>\n",
              "      <td>NaN</td>\n",
              "    </tr>\n",
              "    <tr>\n",
              "      <th>15870</th>\n",
              "      <td>YUCATÁN</td>\n",
              "      <td>2021</td>\n",
              "      <td>ANUAL</td>\n",
              "      <td>NaN</td>\n",
              "    </tr>\n",
              "    <tr>\n",
              "      <th>15871</th>\n",
              "      <td>ZACATECAS</td>\n",
              "      <td>2021</td>\n",
              "      <td>ANUAL</td>\n",
              "      <td>NaN</td>\n",
              "    </tr>\n",
              "    <tr>\n",
              "      <th>15872</th>\n",
              "      <td>NACIONAL</td>\n",
              "      <td>2021</td>\n",
              "      <td>ANUAL</td>\n",
              "      <td>NaN</td>\n",
              "    </tr>\n",
              "  </tbody>\n",
              "</table>\n",
              "<p>15873 rows × 4 columns</p>\n",
              "</div>"
            ],
            "text/plain": [
              "                   ENTIDAD  Year    Mes  Temperatura\n",
              "0           AGUASCALIENTES  1985    ENE    11.967094\n",
              "1          BAJA CALIFORNIA  1985    ENE    11.052290\n",
              "2      BAJA CALIFORNIA SUR  1985    ENE    15.702536\n",
              "3                 CAMPECHE  1985    ENE    22.932142\n",
              "4                 COAHUILA  1985    ENE     8.438872\n",
              "...                    ...   ...    ...          ...\n",
              "15868             TLAXCALA  2021  ANUAL          NaN\n",
              "15869             VERACRUZ  2021  ANUAL          NaN\n",
              "15870              YUCATÁN  2021  ANUAL          NaN\n",
              "15871            ZACATECAS  2021  ANUAL          NaN\n",
              "15872             NACIONAL  2021  ANUAL          NaN\n",
              "\n",
              "[15873 rows x 4 columns]"
            ]
          },
          "metadata": {
            "tags": []
          },
          "execution_count": 130
        }
      ]
    },
    {
      "cell_type": "markdown",
      "metadata": {
        "id": "Pha2q-NPhUt3"
      },
      "source": [
        "Comprobamos la cantidad de valores nulos: "
      ]
    },
    {
      "cell_type": "code",
      "metadata": {
        "id": "kg6BbSTI7LnM",
        "colab": {
          "base_uri": "https://localhost:8080/"
        },
        "outputId": "b0042a52-eea7-41ff-ca95-d72410de7580"
      },
      "source": [
        "temperatura_media_mensual.isna().sum()"
      ],
      "execution_count": 131,
      "outputs": [
        {
          "output_type": "execute_result",
          "data": {
            "text/plain": [
              "ENTIDAD          0\n",
              "Year             0\n",
              "Mes              0\n",
              "Temperatura    231\n",
              "dtype: int64"
            ]
          },
          "metadata": {
            "tags": []
          },
          "execution_count": 131
        }
      ]
    },
    {
      "cell_type": "markdown",
      "metadata": {
        "id": "u_dS66XNhcT5"
      },
      "source": [
        "Eliminamos los valores nulos y comprobamos: "
      ]
    },
    {
      "cell_type": "code",
      "metadata": {
        "id": "szH9FJPT7FiB",
        "colab": {
          "base_uri": "https://localhost:8080/"
        },
        "outputId": "8187ea6a-ed0f-439c-c514-2be518adc1c0"
      },
      "source": [
        "temperatura_media_mensual = temperatura_media_mensual.dropna()\n",
        "\n",
        "temperatura_media_mensual.isna().sum()\n"
      ],
      "execution_count": 132,
      "outputs": [
        {
          "output_type": "execute_result",
          "data": {
            "text/plain": [
              "ENTIDAD        0\n",
              "Year           0\n",
              "Mes            0\n",
              "Temperatura    0\n",
              "dtype: int64"
            ]
          },
          "metadata": {
            "tags": []
          },
          "execution_count": 132
        }
      ]
    },
    {
      "cell_type": "markdown",
      "metadata": {
        "id": "gB5TOXC6ib3n"
      },
      "source": [
        "Finalmente, observamos que es necesario reiniciar el índice.  "
      ]
    },
    {
      "cell_type": "code",
      "metadata": {
        "id": "6_j7be5eiPCN",
        "colab": {
          "base_uri": "https://localhost:8080/",
          "height": 0
        },
        "outputId": "bb99e398-b35e-4874-97ee-c4952c95d3bf"
      },
      "source": [
        "temperatura_media_mensual.reset_index(inplace=True,drop=True)\n",
        "\n",
        "temperatura_media_mensual"
      ],
      "execution_count": 133,
      "outputs": [
        {
          "output_type": "execute_result",
          "data": {
            "text/html": [
              "<div>\n",
              "<style scoped>\n",
              "    .dataframe tbody tr th:only-of-type {\n",
              "        vertical-align: middle;\n",
              "    }\n",
              "\n",
              "    .dataframe tbody tr th {\n",
              "        vertical-align: top;\n",
              "    }\n",
              "\n",
              "    .dataframe thead th {\n",
              "        text-align: right;\n",
              "    }\n",
              "</style>\n",
              "<table border=\"1\" class=\"dataframe\">\n",
              "  <thead>\n",
              "    <tr style=\"text-align: right;\">\n",
              "      <th></th>\n",
              "      <th>ENTIDAD</th>\n",
              "      <th>Year</th>\n",
              "      <th>Mes</th>\n",
              "      <th>Temperatura</th>\n",
              "    </tr>\n",
              "  </thead>\n",
              "  <tbody>\n",
              "    <tr>\n",
              "      <th>0</th>\n",
              "      <td>AGUASCALIENTES</td>\n",
              "      <td>1985</td>\n",
              "      <td>ENE</td>\n",
              "      <td>11.967094</td>\n",
              "    </tr>\n",
              "    <tr>\n",
              "      <th>1</th>\n",
              "      <td>BAJA CALIFORNIA</td>\n",
              "      <td>1985</td>\n",
              "      <td>ENE</td>\n",
              "      <td>11.052290</td>\n",
              "    </tr>\n",
              "    <tr>\n",
              "      <th>2</th>\n",
              "      <td>BAJA CALIFORNIA SUR</td>\n",
              "      <td>1985</td>\n",
              "      <td>ENE</td>\n",
              "      <td>15.702536</td>\n",
              "    </tr>\n",
              "    <tr>\n",
              "      <th>3</th>\n",
              "      <td>CAMPECHE</td>\n",
              "      <td>1985</td>\n",
              "      <td>ENE</td>\n",
              "      <td>22.932142</td>\n",
              "    </tr>\n",
              "    <tr>\n",
              "      <th>4</th>\n",
              "      <td>COAHUILA</td>\n",
              "      <td>1985</td>\n",
              "      <td>ENE</td>\n",
              "      <td>8.438872</td>\n",
              "    </tr>\n",
              "    <tr>\n",
              "      <th>...</th>\n",
              "      <td>...</td>\n",
              "      <td>...</td>\n",
              "      <td>...</td>\n",
              "      <td>...</td>\n",
              "    </tr>\n",
              "    <tr>\n",
              "      <th>15637</th>\n",
              "      <td>TLAXCALA</td>\n",
              "      <td>2020</td>\n",
              "      <td>ANUAL</td>\n",
              "      <td>15.300000</td>\n",
              "    </tr>\n",
              "    <tr>\n",
              "      <th>15638</th>\n",
              "      <td>VERACRUZ</td>\n",
              "      <td>2020</td>\n",
              "      <td>ANUAL</td>\n",
              "      <td>23.300000</td>\n",
              "    </tr>\n",
              "    <tr>\n",
              "      <th>15639</th>\n",
              "      <td>YUCATÁN</td>\n",
              "      <td>2020</td>\n",
              "      <td>ANUAL</td>\n",
              "      <td>27.300000</td>\n",
              "    </tr>\n",
              "    <tr>\n",
              "      <th>15640</th>\n",
              "      <td>ZACATECAS</td>\n",
              "      <td>2020</td>\n",
              "      <td>ANUAL</td>\n",
              "      <td>18.300000</td>\n",
              "    </tr>\n",
              "    <tr>\n",
              "      <th>15641</th>\n",
              "      <td>NACIONAL</td>\n",
              "      <td>2020</td>\n",
              "      <td>ANUAL</td>\n",
              "      <td>22.400000</td>\n",
              "    </tr>\n",
              "  </tbody>\n",
              "</table>\n",
              "<p>15642 rows × 4 columns</p>\n",
              "</div>"
            ],
            "text/plain": [
              "                   ENTIDAD  Year    Mes  Temperatura\n",
              "0           AGUASCALIENTES  1985    ENE    11.967094\n",
              "1          BAJA CALIFORNIA  1985    ENE    11.052290\n",
              "2      BAJA CALIFORNIA SUR  1985    ENE    15.702536\n",
              "3                 CAMPECHE  1985    ENE    22.932142\n",
              "4                 COAHUILA  1985    ENE     8.438872\n",
              "...                    ...   ...    ...          ...\n",
              "15637             TLAXCALA  2020  ANUAL    15.300000\n",
              "15638             VERACRUZ  2020  ANUAL    23.300000\n",
              "15639              YUCATÁN  2020  ANUAL    27.300000\n",
              "15640            ZACATECAS  2020  ANUAL    18.300000\n",
              "15641             NACIONAL  2020  ANUAL    22.400000\n",
              "\n",
              "[15642 rows x 4 columns]"
            ]
          },
          "metadata": {
            "tags": []
          },
          "execution_count": 133
        }
      ]
    },
    {
      "cell_type": "markdown",
      "metadata": {
        "id": "wPbqgPPXR08J"
      },
      "source": [
        "#### Limpieza de dataframe de precipitación"
      ]
    },
    {
      "cell_type": "markdown",
      "metadata": {
        "id": "w2S95JtHZP5k"
      },
      "source": [
        "Reestructuramos el DataFrame utilizando la función `melt` de la misma forma que el DataFrame de Temperatura. "
      ]
    },
    {
      "cell_type": "code",
      "metadata": {
        "id": "tu8Qvpf3ZqCf",
        "colab": {
          "base_uri": "https://localhost:8080/",
          "height": 0
        },
        "outputId": "ab974178-d877-4da9-e619-46c35456e08c"
      },
      "source": [
        "df_precipitacion = df_precipitacion.melt(id_vars=['ENTIDAD','Year'],var_name=\"Mes\",value_name=\"Precipitacion\")\n",
        "\n",
        "df_precipitacion"
      ],
      "execution_count": 134,
      "outputs": [
        {
          "output_type": "execute_result",
          "data": {
            "text/html": [
              "<div>\n",
              "<style scoped>\n",
              "    .dataframe tbody tr th:only-of-type {\n",
              "        vertical-align: middle;\n",
              "    }\n",
              "\n",
              "    .dataframe tbody tr th {\n",
              "        vertical-align: top;\n",
              "    }\n",
              "\n",
              "    .dataframe thead th {\n",
              "        text-align: right;\n",
              "    }\n",
              "</style>\n",
              "<table border=\"1\" class=\"dataframe\">\n",
              "  <thead>\n",
              "    <tr style=\"text-align: right;\">\n",
              "      <th></th>\n",
              "      <th>ENTIDAD</th>\n",
              "      <th>Year</th>\n",
              "      <th>Mes</th>\n",
              "      <th>Precipitacion</th>\n",
              "    </tr>\n",
              "  </thead>\n",
              "  <tbody>\n",
              "    <tr>\n",
              "      <th>0</th>\n",
              "      <td>AGUASCALIENTES</td>\n",
              "      <td>1985</td>\n",
              "      <td>ENE</td>\n",
              "      <td>4.914729</td>\n",
              "    </tr>\n",
              "    <tr>\n",
              "      <th>1</th>\n",
              "      <td>BAJA CALIFORNIA</td>\n",
              "      <td>1985</td>\n",
              "      <td>ENE</td>\n",
              "      <td>12.150562</td>\n",
              "    </tr>\n",
              "    <tr>\n",
              "      <th>2</th>\n",
              "      <td>BAJA CALIFORNIA SUR</td>\n",
              "      <td>1985</td>\n",
              "      <td>ENE</td>\n",
              "      <td>30.304723</td>\n",
              "    </tr>\n",
              "    <tr>\n",
              "      <th>3</th>\n",
              "      <td>CAMPECHE</td>\n",
              "      <td>1985</td>\n",
              "      <td>ENE</td>\n",
              "      <td>20.943153</td>\n",
              "    </tr>\n",
              "    <tr>\n",
              "      <th>4</th>\n",
              "      <td>COAHUILA</td>\n",
              "      <td>1985</td>\n",
              "      <td>ENE</td>\n",
              "      <td>40.714546</td>\n",
              "    </tr>\n",
              "    <tr>\n",
              "      <th>...</th>\n",
              "      <td>...</td>\n",
              "      <td>...</td>\n",
              "      <td>...</td>\n",
              "      <td>...</td>\n",
              "    </tr>\n",
              "    <tr>\n",
              "      <th>15868</th>\n",
              "      <td>TLAXCALA</td>\n",
              "      <td>2021</td>\n",
              "      <td>ANUAL</td>\n",
              "      <td>NaN</td>\n",
              "    </tr>\n",
              "    <tr>\n",
              "      <th>15869</th>\n",
              "      <td>VERACRUZ</td>\n",
              "      <td>2021</td>\n",
              "      <td>ANUAL</td>\n",
              "      <td>NaN</td>\n",
              "    </tr>\n",
              "    <tr>\n",
              "      <th>15870</th>\n",
              "      <td>YUCATÁN</td>\n",
              "      <td>2021</td>\n",
              "      <td>ANUAL</td>\n",
              "      <td>NaN</td>\n",
              "    </tr>\n",
              "    <tr>\n",
              "      <th>15871</th>\n",
              "      <td>ZACATECAS</td>\n",
              "      <td>2021</td>\n",
              "      <td>ANUAL</td>\n",
              "      <td>NaN</td>\n",
              "    </tr>\n",
              "    <tr>\n",
              "      <th>15872</th>\n",
              "      <td>NACIONAL</td>\n",
              "      <td>2021</td>\n",
              "      <td>ANUAL</td>\n",
              "      <td>NaN</td>\n",
              "    </tr>\n",
              "  </tbody>\n",
              "</table>\n",
              "<p>15873 rows × 4 columns</p>\n",
              "</div>"
            ],
            "text/plain": [
              "                   ENTIDAD  Year    Mes  Precipitacion\n",
              "0           AGUASCALIENTES  1985    ENE       4.914729\n",
              "1          BAJA CALIFORNIA  1985    ENE      12.150562\n",
              "2      BAJA CALIFORNIA SUR  1985    ENE      30.304723\n",
              "3                 CAMPECHE  1985    ENE      20.943153\n",
              "4                 COAHUILA  1985    ENE      40.714546\n",
              "...                    ...   ...    ...            ...\n",
              "15868             TLAXCALA  2021  ANUAL            NaN\n",
              "15869             VERACRUZ  2021  ANUAL            NaN\n",
              "15870              YUCATÁN  2021  ANUAL            NaN\n",
              "15871            ZACATECAS  2021  ANUAL            NaN\n",
              "15872             NACIONAL  2021  ANUAL            NaN\n",
              "\n",
              "[15873 rows x 4 columns]"
            ]
          },
          "metadata": {
            "tags": []
          },
          "execution_count": 134
        }
      ]
    },
    {
      "cell_type": "markdown",
      "metadata": {
        "id": "fddBVuxLZwDp"
      },
      "source": [
        "Observamos en busca de las columnas con valores nulos: "
      ]
    },
    {
      "cell_type": "code",
      "metadata": {
        "id": "K0wxZT0LZ0hM",
        "colab": {
          "base_uri": "https://localhost:8080/"
        },
        "outputId": "e542505f-30a0-4a7f-ae03-85fd8cf9c8f1"
      },
      "source": [
        "df_precipitacion.isna().sum()"
      ],
      "execution_count": 135,
      "outputs": [
        {
          "output_type": "execute_result",
          "data": {
            "text/plain": [
              "ENTIDAD            0\n",
              "Year               0\n",
              "Mes                0\n",
              "Precipitacion    231\n",
              "dtype: int64"
            ]
          },
          "metadata": {
            "tags": []
          },
          "execution_count": 135
        }
      ]
    },
    {
      "cell_type": "markdown",
      "metadata": {
        "id": "wlNtDlLWZ52A"
      },
      "source": [
        "Y procedemos a eliminarlos y reiniciar el índice:"
      ]
    },
    {
      "cell_type": "code",
      "metadata": {
        "id": "Xu7PB2SdZ7jt",
        "colab": {
          "base_uri": "https://localhost:8080/",
          "height": 0
        },
        "outputId": "7e5d47a3-7339-4f0f-c2a8-95e3acbb64f7"
      },
      "source": [
        "df_precipitacion = df_precipitacion.dropna()\n",
        "df_precipitacion.reset_index(drop=True, inplace=True)\n",
        "df_precipitacion"
      ],
      "execution_count": 136,
      "outputs": [
        {
          "output_type": "execute_result",
          "data": {
            "text/html": [
              "<div>\n",
              "<style scoped>\n",
              "    .dataframe tbody tr th:only-of-type {\n",
              "        vertical-align: middle;\n",
              "    }\n",
              "\n",
              "    .dataframe tbody tr th {\n",
              "        vertical-align: top;\n",
              "    }\n",
              "\n",
              "    .dataframe thead th {\n",
              "        text-align: right;\n",
              "    }\n",
              "</style>\n",
              "<table border=\"1\" class=\"dataframe\">\n",
              "  <thead>\n",
              "    <tr style=\"text-align: right;\">\n",
              "      <th></th>\n",
              "      <th>ENTIDAD</th>\n",
              "      <th>Year</th>\n",
              "      <th>Mes</th>\n",
              "      <th>Precipitacion</th>\n",
              "    </tr>\n",
              "  </thead>\n",
              "  <tbody>\n",
              "    <tr>\n",
              "      <th>0</th>\n",
              "      <td>AGUASCALIENTES</td>\n",
              "      <td>1985</td>\n",
              "      <td>ENE</td>\n",
              "      <td>4.914729</td>\n",
              "    </tr>\n",
              "    <tr>\n",
              "      <th>1</th>\n",
              "      <td>BAJA CALIFORNIA</td>\n",
              "      <td>1985</td>\n",
              "      <td>ENE</td>\n",
              "      <td>12.150562</td>\n",
              "    </tr>\n",
              "    <tr>\n",
              "      <th>2</th>\n",
              "      <td>BAJA CALIFORNIA SUR</td>\n",
              "      <td>1985</td>\n",
              "      <td>ENE</td>\n",
              "      <td>30.304723</td>\n",
              "    </tr>\n",
              "    <tr>\n",
              "      <th>3</th>\n",
              "      <td>CAMPECHE</td>\n",
              "      <td>1985</td>\n",
              "      <td>ENE</td>\n",
              "      <td>20.943153</td>\n",
              "    </tr>\n",
              "    <tr>\n",
              "      <th>4</th>\n",
              "      <td>COAHUILA</td>\n",
              "      <td>1985</td>\n",
              "      <td>ENE</td>\n",
              "      <td>40.714546</td>\n",
              "    </tr>\n",
              "    <tr>\n",
              "      <th>...</th>\n",
              "      <td>...</td>\n",
              "      <td>...</td>\n",
              "      <td>...</td>\n",
              "      <td>...</td>\n",
              "    </tr>\n",
              "    <tr>\n",
              "      <th>15637</th>\n",
              "      <td>TLAXCALA</td>\n",
              "      <td>2020</td>\n",
              "      <td>ANUAL</td>\n",
              "      <td>538.400000</td>\n",
              "    </tr>\n",
              "    <tr>\n",
              "      <th>15638</th>\n",
              "      <td>VERACRUZ</td>\n",
              "      <td>2020</td>\n",
              "      <td>ANUAL</td>\n",
              "      <td>1548.600000</td>\n",
              "    </tr>\n",
              "    <tr>\n",
              "      <th>15639</th>\n",
              "      <td>YUCATÁN</td>\n",
              "      <td>2020</td>\n",
              "      <td>ANUAL</td>\n",
              "      <td>1802.200000</td>\n",
              "    </tr>\n",
              "    <tr>\n",
              "      <th>15640</th>\n",
              "      <td>ZACATECAS</td>\n",
              "      <td>2020</td>\n",
              "      <td>ANUAL</td>\n",
              "      <td>406.300000</td>\n",
              "    </tr>\n",
              "    <tr>\n",
              "      <th>15641</th>\n",
              "      <td>NACIONAL</td>\n",
              "      <td>2020</td>\n",
              "      <td>ANUAL</td>\n",
              "      <td>722.500000</td>\n",
              "    </tr>\n",
              "  </tbody>\n",
              "</table>\n",
              "<p>15642 rows × 4 columns</p>\n",
              "</div>"
            ],
            "text/plain": [
              "                   ENTIDAD  Year    Mes  Precipitacion\n",
              "0           AGUASCALIENTES  1985    ENE       4.914729\n",
              "1          BAJA CALIFORNIA  1985    ENE      12.150562\n",
              "2      BAJA CALIFORNIA SUR  1985    ENE      30.304723\n",
              "3                 CAMPECHE  1985    ENE      20.943153\n",
              "4                 COAHUILA  1985    ENE      40.714546\n",
              "...                    ...   ...    ...            ...\n",
              "15637             TLAXCALA  2020  ANUAL     538.400000\n",
              "15638             VERACRUZ  2020  ANUAL    1548.600000\n",
              "15639              YUCATÁN  2020  ANUAL    1802.200000\n",
              "15640            ZACATECAS  2020  ANUAL     406.300000\n",
              "15641             NACIONAL  2020  ANUAL     722.500000\n",
              "\n",
              "[15642 rows x 4 columns]"
            ]
          },
          "metadata": {
            "tags": []
          },
          "execution_count": 136
        }
      ]
    },
    {
      "cell_type": "markdown",
      "metadata": {
        "id": "gchcM57UKS25"
      },
      "source": [
        "## Transformación, filtración y ordenamiento de datos"
      ]
    },
    {
      "cell_type": "markdown",
      "metadata": {
        "id": "UamG1fkwd7V3"
      },
      "source": [
        "Hasta hora hemos trabajado con nuestras cuatro fuentes de información por separado, es momento de unirlas y tener un sólo dataframe el cual nos servirá para consultar y obtener hallazgos interesantes. \n",
        "\n",
        "Como primer paso comenzaremos realizando las preparaciones adecuadas a cada dataframe para poderlos unir correctamente. "
      ]
    },
    {
      "cell_type": "markdown",
      "metadata": {
        "id": "H0GwHU-SeNxh"
      },
      "source": [
        "#### Tratamiento al dataframe de sequías"
      ]
    },
    {
      "cell_type": "markdown",
      "metadata": {
        "id": "FRRkzFUveU_e"
      },
      "source": [
        "Reordenamos las columnas para una mayor facilidad de lectura. "
      ]
    },
    {
      "cell_type": "code",
      "metadata": {
        "colab": {
          "base_uri": "https://localhost:8080/",
          "height": 0
        },
        "id": "lLQlmd0_eqr6",
        "outputId": "83ff8417-aa31-4af6-8b3e-20772b9d8475"
      },
      "source": [
        "df_sequias = df_sequias_raw[[\"Date\",\"Entidad\",\"None\",\"D0\",\"D1\",\"D2\",\"D3\",\"D4\"]]\n",
        "\n",
        "df_sequias"
      ],
      "execution_count": 137,
      "outputs": [
        {
          "output_type": "execute_result",
          "data": {
            "text/html": [
              "<div>\n",
              "<style scoped>\n",
              "    .dataframe tbody tr th:only-of-type {\n",
              "        vertical-align: middle;\n",
              "    }\n",
              "\n",
              "    .dataframe tbody tr th {\n",
              "        vertical-align: top;\n",
              "    }\n",
              "\n",
              "    .dataframe thead th {\n",
              "        text-align: right;\n",
              "    }\n",
              "</style>\n",
              "<table border=\"1\" class=\"dataframe\">\n",
              "  <thead>\n",
              "    <tr style=\"text-align: right;\">\n",
              "      <th></th>\n",
              "      <th>Date</th>\n",
              "      <th>Entidad</th>\n",
              "      <th>None</th>\n",
              "      <th>D0</th>\n",
              "      <th>D1</th>\n",
              "      <th>D2</th>\n",
              "      <th>D3</th>\n",
              "      <th>D4</th>\n",
              "    </tr>\n",
              "  </thead>\n",
              "  <tbody>\n",
              "    <tr>\n",
              "      <th>0</th>\n",
              "      <td>2021-07-31</td>\n",
              "      <td>Aguascalientes</td>\n",
              "      <td>100.00</td>\n",
              "      <td>0.00</td>\n",
              "      <td>0.00</td>\n",
              "      <td>0.00</td>\n",
              "      <td>0.0</td>\n",
              "      <td>0.0</td>\n",
              "    </tr>\n",
              "    <tr>\n",
              "      <th>1</th>\n",
              "      <td>2021-06-30</td>\n",
              "      <td>Aguascalientes</td>\n",
              "      <td>58.82</td>\n",
              "      <td>37.64</td>\n",
              "      <td>3.54</td>\n",
              "      <td>0.00</td>\n",
              "      <td>0.0</td>\n",
              "      <td>0.0</td>\n",
              "    </tr>\n",
              "    <tr>\n",
              "      <th>2</th>\n",
              "      <td>2021-05-31</td>\n",
              "      <td>Aguascalientes</td>\n",
              "      <td>0.00</td>\n",
              "      <td>0.00</td>\n",
              "      <td>73.87</td>\n",
              "      <td>26.13</td>\n",
              "      <td>0.0</td>\n",
              "      <td>0.0</td>\n",
              "    </tr>\n",
              "    <tr>\n",
              "      <th>3</th>\n",
              "      <td>2021-04-30</td>\n",
              "      <td>Aguascalientes</td>\n",
              "      <td>0.00</td>\n",
              "      <td>0.00</td>\n",
              "      <td>51.55</td>\n",
              "      <td>48.45</td>\n",
              "      <td>0.0</td>\n",
              "      <td>0.0</td>\n",
              "    </tr>\n",
              "    <tr>\n",
              "      <th>4</th>\n",
              "      <td>2021-03-31</td>\n",
              "      <td>Aguascalientes</td>\n",
              "      <td>0.00</td>\n",
              "      <td>0.00</td>\n",
              "      <td>75.85</td>\n",
              "      <td>24.15</td>\n",
              "      <td>0.0</td>\n",
              "      <td>0.0</td>\n",
              "    </tr>\n",
              "    <tr>\n",
              "      <th>...</th>\n",
              "      <td>...</td>\n",
              "      <td>...</td>\n",
              "      <td>...</td>\n",
              "      <td>...</td>\n",
              "      <td>...</td>\n",
              "      <td>...</td>\n",
              "      <td>...</td>\n",
              "      <td>...</td>\n",
              "    </tr>\n",
              "    <tr>\n",
              "      <th>7195</th>\n",
              "      <td>2003-03-31</td>\n",
              "      <td>Zacatecas</td>\n",
              "      <td>96.02</td>\n",
              "      <td>3.90</td>\n",
              "      <td>0.08</td>\n",
              "      <td>0.00</td>\n",
              "      <td>0.0</td>\n",
              "      <td>0.0</td>\n",
              "    </tr>\n",
              "    <tr>\n",
              "      <th>7196</th>\n",
              "      <td>2003-02-28</td>\n",
              "      <td>Zacatecas</td>\n",
              "      <td>96.14</td>\n",
              "      <td>3.83</td>\n",
              "      <td>0.03</td>\n",
              "      <td>0.00</td>\n",
              "      <td>0.0</td>\n",
              "      <td>0.0</td>\n",
              "    </tr>\n",
              "    <tr>\n",
              "      <th>7197</th>\n",
              "      <td>2003-01-31</td>\n",
              "      <td>Zacatecas</td>\n",
              "      <td>96.14</td>\n",
              "      <td>3.83</td>\n",
              "      <td>0.03</td>\n",
              "      <td>0.00</td>\n",
              "      <td>0.0</td>\n",
              "      <td>0.0</td>\n",
              "    </tr>\n",
              "    <tr>\n",
              "      <th>7198</th>\n",
              "      <td>2002-12-31</td>\n",
              "      <td>Zacatecas</td>\n",
              "      <td>96.14</td>\n",
              "      <td>3.83</td>\n",
              "      <td>0.03</td>\n",
              "      <td>0.00</td>\n",
              "      <td>0.0</td>\n",
              "      <td>0.0</td>\n",
              "    </tr>\n",
              "    <tr>\n",
              "      <th>7199</th>\n",
              "      <td>2002-11-30</td>\n",
              "      <td>Zacatecas</td>\n",
              "      <td>96.14</td>\n",
              "      <td>3.83</td>\n",
              "      <td>0.03</td>\n",
              "      <td>0.00</td>\n",
              "      <td>0.0</td>\n",
              "      <td>0.0</td>\n",
              "    </tr>\n",
              "  </tbody>\n",
              "</table>\n",
              "<p>7200 rows × 8 columns</p>\n",
              "</div>"
            ],
            "text/plain": [
              "            Date         Entidad    None     D0     D1     D2   D3   D4\n",
              "0     2021-07-31  Aguascalientes  100.00   0.00   0.00   0.00  0.0  0.0\n",
              "1     2021-06-30  Aguascalientes   58.82  37.64   3.54   0.00  0.0  0.0\n",
              "2     2021-05-31  Aguascalientes    0.00   0.00  73.87  26.13  0.0  0.0\n",
              "3     2021-04-30  Aguascalientes    0.00   0.00  51.55  48.45  0.0  0.0\n",
              "4     2021-03-31  Aguascalientes    0.00   0.00  75.85  24.15  0.0  0.0\n",
              "...          ...             ...     ...    ...    ...    ...  ...  ...\n",
              "7195  2003-03-31       Zacatecas   96.02   3.90   0.08   0.00  0.0  0.0\n",
              "7196  2003-02-28       Zacatecas   96.14   3.83   0.03   0.00  0.0  0.0\n",
              "7197  2003-01-31       Zacatecas   96.14   3.83   0.03   0.00  0.0  0.0\n",
              "7198  2002-12-31       Zacatecas   96.14   3.83   0.03   0.00  0.0  0.0\n",
              "7199  2002-11-30       Zacatecas   96.14   3.83   0.03   0.00  0.0  0.0\n",
              "\n",
              "[7200 rows x 8 columns]"
            ]
          },
          "metadata": {
            "tags": []
          },
          "execution_count": 137
        }
      ]
    },
    {
      "cell_type": "markdown",
      "metadata": {
        "id": "K2ZT6zrRg3t8"
      },
      "source": [
        "En la limpieza anterior pudimos notar que la columna bajo el nombre de Date es de tipo object, es necesario corregir este problema mediante una transformación."
      ]
    },
    {
      "cell_type": "code",
      "metadata": {
        "colab": {
          "base_uri": "https://localhost:8080/"
        },
        "id": "nqtzLuhxhDrc",
        "outputId": "2bce7ca7-5d3f-4dc8-ccdd-6b42c41ea90a"
      },
      "source": [
        "df_sequias[\"Date\"] = pd.to_datetime(df_sequias[\"Date\"])\n",
        "df_sequias.info()"
      ],
      "execution_count": 138,
      "outputs": [
        {
          "output_type": "stream",
          "text": [
            "<class 'pandas.core.frame.DataFrame'>\n",
            "RangeIndex: 7200 entries, 0 to 7199\n",
            "Data columns (total 8 columns):\n",
            " #   Column   Non-Null Count  Dtype         \n",
            "---  ------   --------------  -----         \n",
            " 0   Date     7200 non-null   datetime64[ns]\n",
            " 1   Entidad  7200 non-null   object        \n",
            " 2   None     7200 non-null   float64       \n",
            " 3   D0       7200 non-null   float64       \n",
            " 4   D1       7200 non-null   float64       \n",
            " 5   D2       7200 non-null   float64       \n",
            " 6   D3       7200 non-null   float64       \n",
            " 7   D4       7200 non-null   float64       \n",
            "dtypes: datetime64[ns](1), float64(6), object(1)\n",
            "memory usage: 450.1+ KB\n"
          ],
          "name": "stdout"
        }
      ]
    },
    {
      "cell_type": "markdown",
      "metadata": {
        "id": "teeV6R4kEABr"
      },
      "source": [
        "Como nos centraremos en el área afectada, definimos una nueva columna llamada 'Area_total_afectada_sequias' utilizando None y, posteriormente, eliminamos None:"
      ]
    },
    {
      "cell_type": "code",
      "metadata": {
        "id": "Lm0JJoqi8Bvs"
      },
      "source": [
        "df_sequias['Area_total_afectada_sequias']=100-df_sequias['None']"
      ],
      "execution_count": 139,
      "outputs": []
    },
    {
      "cell_type": "code",
      "metadata": {
        "id": "N274xQll99X4"
      },
      "source": [
        "df_sequias.drop('None',1,inplace=True)"
      ],
      "execution_count": 140,
      "outputs": []
    },
    {
      "cell_type": "code",
      "metadata": {
        "colab": {
          "base_uri": "https://localhost:8080/",
          "height": 0
        },
        "id": "c26gxWhM8gk7",
        "outputId": "148ddccf-3d9e-4ef4-9676-3fcc80af6997"
      },
      "source": [
        "df_sequias"
      ],
      "execution_count": 141,
      "outputs": [
        {
          "output_type": "execute_result",
          "data": {
            "text/html": [
              "<div>\n",
              "<style scoped>\n",
              "    .dataframe tbody tr th:only-of-type {\n",
              "        vertical-align: middle;\n",
              "    }\n",
              "\n",
              "    .dataframe tbody tr th {\n",
              "        vertical-align: top;\n",
              "    }\n",
              "\n",
              "    .dataframe thead th {\n",
              "        text-align: right;\n",
              "    }\n",
              "</style>\n",
              "<table border=\"1\" class=\"dataframe\">\n",
              "  <thead>\n",
              "    <tr style=\"text-align: right;\">\n",
              "      <th></th>\n",
              "      <th>Date</th>\n",
              "      <th>Entidad</th>\n",
              "      <th>D0</th>\n",
              "      <th>D1</th>\n",
              "      <th>D2</th>\n",
              "      <th>D3</th>\n",
              "      <th>D4</th>\n",
              "      <th>Area_total_afectada_sequias</th>\n",
              "    </tr>\n",
              "  </thead>\n",
              "  <tbody>\n",
              "    <tr>\n",
              "      <th>0</th>\n",
              "      <td>2021-07-31</td>\n",
              "      <td>Aguascalientes</td>\n",
              "      <td>0.00</td>\n",
              "      <td>0.00</td>\n",
              "      <td>0.00</td>\n",
              "      <td>0.0</td>\n",
              "      <td>0.0</td>\n",
              "      <td>0.00</td>\n",
              "    </tr>\n",
              "    <tr>\n",
              "      <th>1</th>\n",
              "      <td>2021-06-30</td>\n",
              "      <td>Aguascalientes</td>\n",
              "      <td>37.64</td>\n",
              "      <td>3.54</td>\n",
              "      <td>0.00</td>\n",
              "      <td>0.0</td>\n",
              "      <td>0.0</td>\n",
              "      <td>41.18</td>\n",
              "    </tr>\n",
              "    <tr>\n",
              "      <th>2</th>\n",
              "      <td>2021-05-31</td>\n",
              "      <td>Aguascalientes</td>\n",
              "      <td>0.00</td>\n",
              "      <td>73.87</td>\n",
              "      <td>26.13</td>\n",
              "      <td>0.0</td>\n",
              "      <td>0.0</td>\n",
              "      <td>100.00</td>\n",
              "    </tr>\n",
              "    <tr>\n",
              "      <th>3</th>\n",
              "      <td>2021-04-30</td>\n",
              "      <td>Aguascalientes</td>\n",
              "      <td>0.00</td>\n",
              "      <td>51.55</td>\n",
              "      <td>48.45</td>\n",
              "      <td>0.0</td>\n",
              "      <td>0.0</td>\n",
              "      <td>100.00</td>\n",
              "    </tr>\n",
              "    <tr>\n",
              "      <th>4</th>\n",
              "      <td>2021-03-31</td>\n",
              "      <td>Aguascalientes</td>\n",
              "      <td>0.00</td>\n",
              "      <td>75.85</td>\n",
              "      <td>24.15</td>\n",
              "      <td>0.0</td>\n",
              "      <td>0.0</td>\n",
              "      <td>100.00</td>\n",
              "    </tr>\n",
              "    <tr>\n",
              "      <th>...</th>\n",
              "      <td>...</td>\n",
              "      <td>...</td>\n",
              "      <td>...</td>\n",
              "      <td>...</td>\n",
              "      <td>...</td>\n",
              "      <td>...</td>\n",
              "      <td>...</td>\n",
              "      <td>...</td>\n",
              "    </tr>\n",
              "    <tr>\n",
              "      <th>7195</th>\n",
              "      <td>2003-03-31</td>\n",
              "      <td>Zacatecas</td>\n",
              "      <td>3.90</td>\n",
              "      <td>0.08</td>\n",
              "      <td>0.00</td>\n",
              "      <td>0.0</td>\n",
              "      <td>0.0</td>\n",
              "      <td>3.98</td>\n",
              "    </tr>\n",
              "    <tr>\n",
              "      <th>7196</th>\n",
              "      <td>2003-02-28</td>\n",
              "      <td>Zacatecas</td>\n",
              "      <td>3.83</td>\n",
              "      <td>0.03</td>\n",
              "      <td>0.00</td>\n",
              "      <td>0.0</td>\n",
              "      <td>0.0</td>\n",
              "      <td>3.86</td>\n",
              "    </tr>\n",
              "    <tr>\n",
              "      <th>7197</th>\n",
              "      <td>2003-01-31</td>\n",
              "      <td>Zacatecas</td>\n",
              "      <td>3.83</td>\n",
              "      <td>0.03</td>\n",
              "      <td>0.00</td>\n",
              "      <td>0.0</td>\n",
              "      <td>0.0</td>\n",
              "      <td>3.86</td>\n",
              "    </tr>\n",
              "    <tr>\n",
              "      <th>7198</th>\n",
              "      <td>2002-12-31</td>\n",
              "      <td>Zacatecas</td>\n",
              "      <td>3.83</td>\n",
              "      <td>0.03</td>\n",
              "      <td>0.00</td>\n",
              "      <td>0.0</td>\n",
              "      <td>0.0</td>\n",
              "      <td>3.86</td>\n",
              "    </tr>\n",
              "    <tr>\n",
              "      <th>7199</th>\n",
              "      <td>2002-11-30</td>\n",
              "      <td>Zacatecas</td>\n",
              "      <td>3.83</td>\n",
              "      <td>0.03</td>\n",
              "      <td>0.00</td>\n",
              "      <td>0.0</td>\n",
              "      <td>0.0</td>\n",
              "      <td>3.86</td>\n",
              "    </tr>\n",
              "  </tbody>\n",
              "</table>\n",
              "<p>7200 rows × 8 columns</p>\n",
              "</div>"
            ],
            "text/plain": [
              "           Date         Entidad     D0  ...   D3   D4  Area_total_afectada_sequias\n",
              "0    2021-07-31  Aguascalientes   0.00  ...  0.0  0.0                         0.00\n",
              "1    2021-06-30  Aguascalientes  37.64  ...  0.0  0.0                        41.18\n",
              "2    2021-05-31  Aguascalientes   0.00  ...  0.0  0.0                       100.00\n",
              "3    2021-04-30  Aguascalientes   0.00  ...  0.0  0.0                       100.00\n",
              "4    2021-03-31  Aguascalientes   0.00  ...  0.0  0.0                       100.00\n",
              "...         ...             ...    ...  ...  ...  ...                          ...\n",
              "7195 2003-03-31       Zacatecas   3.90  ...  0.0  0.0                         3.98\n",
              "7196 2003-02-28       Zacatecas   3.83  ...  0.0  0.0                         3.86\n",
              "7197 2003-01-31       Zacatecas   3.83  ...  0.0  0.0                         3.86\n",
              "7198 2002-12-31       Zacatecas   3.83  ...  0.0  0.0                         3.86\n",
              "7199 2002-11-30       Zacatecas   3.83  ...  0.0  0.0                         3.86\n",
              "\n",
              "[7200 rows x 8 columns]"
            ]
          },
          "metadata": {
            "tags": []
          },
          "execution_count": 141
        }
      ]
    },
    {
      "cell_type": "markdown",
      "metadata": {
        "id": "TLRnY_VIeWZN"
      },
      "source": [
        "#### Tratamiento al dataframe de estrés agrícola"
      ]
    },
    {
      "cell_type": "markdown",
      "metadata": {
        "id": "rZKKwVMqh0LV"
      },
      "source": [
        "Debido a que se tienen hasta 3 datos por mes se decidió hacer un promedio. Para esto se agrupan por Estado o Province, Año y Mes y se obtiene la media."
      ]
    },
    {
      "cell_type": "code",
      "metadata": {
        "id": "8AO-100Xhzrg"
      },
      "source": [
        "g = df_IEA_clean.groupby([\"Province\",\"Year\",\"Month\"])\n",
        "IEA_promediado = g[\"Data\"].mean()\n",
        "IEA_promediado = IEA_promediado.reset_index()"
      ],
      "execution_count": 142,
      "outputs": []
    },
    {
      "cell_type": "markdown",
      "metadata": {
        "id": "VS7sJOq7iyjT"
      },
      "source": [
        "Definimos un diccionario para transformar los meses numéricos a su nombre completo en inglés y lo aplicamos con map sobre la columna Month."
      ]
    },
    {
      "cell_type": "code",
      "metadata": {
        "id": "6EwHdLsAizGO"
      },
      "source": [
        "meses2 = {\n",
        "    1: 'January',\n",
        "    2: 'February',\n",
        "    3: 'March',\n",
        "    4: 'April',\n",
        "    5: 'May',\n",
        "    6: 'June',\n",
        "    7: 'July',\n",
        "    8: 'August',\n",
        "    9: 'September',\n",
        "    10: 'October',\n",
        "    11: 'November',\n",
        "    12: 'December'\n",
        "}\n",
        "\n",
        "IEA_promediado['Month'] = IEA_promediado['Month'].map(meses2)"
      ],
      "execution_count": 143,
      "outputs": []
    },
    {
      "cell_type": "markdown",
      "metadata": {
        "id": "59a1k5nRjaF4"
      },
      "source": [
        "Construimos la columna Fecha utilizando Year y Month:"
      ]
    },
    {
      "cell_type": "code",
      "metadata": {
        "id": "XwlDZue1jkrf"
      },
      "source": [
        "IEA_promediado[\"Fecha\"]=pd.to_datetime(IEA_promediado['Year'].astype(str) + IEA_promediado['Month'], format='%Y%B')"
      ],
      "execution_count": 144,
      "outputs": []
    },
    {
      "cell_type": "markdown",
      "metadata": {
        "id": "--u7OT7ejpoE"
      },
      "source": [
        "Eliminamos las columnas: Year y Month y ordenamos las sobrantes."
      ]
    },
    {
      "cell_type": "code",
      "metadata": {
        "colab": {
          "base_uri": "https://localhost:8080/",
          "height": 0
        },
        "id": "f8XqIGE3jqQK",
        "outputId": "145aaa17-1130-4844-9f0d-037b9b32f172"
      },
      "source": [
        "IEA_promediado = IEA_promediado.drop([\"Year\",\"Month\"], axis=1)\n",
        "IEA_promediado = IEA_promediado[[\"Province\",\"Fecha\",\"Data\"]]\n",
        "IEA_promediado"
      ],
      "execution_count": 145,
      "outputs": [
        {
          "output_type": "execute_result",
          "data": {
            "text/html": [
              "<div>\n",
              "<style scoped>\n",
              "    .dataframe tbody tr th:only-of-type {\n",
              "        vertical-align: middle;\n",
              "    }\n",
              "\n",
              "    .dataframe tbody tr th {\n",
              "        vertical-align: top;\n",
              "    }\n",
              "\n",
              "    .dataframe thead th {\n",
              "        text-align: right;\n",
              "    }\n",
              "</style>\n",
              "<table border=\"1\" class=\"dataframe\">\n",
              "  <thead>\n",
              "    <tr style=\"text-align: right;\">\n",
              "      <th></th>\n",
              "      <th>Province</th>\n",
              "      <th>Fecha</th>\n",
              "      <th>Data</th>\n",
              "    </tr>\n",
              "  </thead>\n",
              "  <tbody>\n",
              "    <tr>\n",
              "      <th>0</th>\n",
              "      <td>Aguascalientes</td>\n",
              "      <td>1984-01-01</td>\n",
              "      <td>0.000000</td>\n",
              "    </tr>\n",
              "    <tr>\n",
              "      <th>1</th>\n",
              "      <td>Aguascalientes</td>\n",
              "      <td>1984-02-01</td>\n",
              "      <td>0.000000</td>\n",
              "    </tr>\n",
              "    <tr>\n",
              "      <th>2</th>\n",
              "      <td>Aguascalientes</td>\n",
              "      <td>1984-03-01</td>\n",
              "      <td>0.000000</td>\n",
              "    </tr>\n",
              "    <tr>\n",
              "      <th>3</th>\n",
              "      <td>Aguascalientes</td>\n",
              "      <td>1984-05-01</td>\n",
              "      <td>0.000000</td>\n",
              "    </tr>\n",
              "    <tr>\n",
              "      <th>4</th>\n",
              "      <td>Aguascalientes</td>\n",
              "      <td>1984-06-01</td>\n",
              "      <td>4.766667</td>\n",
              "    </tr>\n",
              "    <tr>\n",
              "      <th>...</th>\n",
              "      <td>...</td>\n",
              "      <td>...</td>\n",
              "      <td>...</td>\n",
              "    </tr>\n",
              "    <tr>\n",
              "      <th>13962</th>\n",
              "      <td>Zacatecas</td>\n",
              "      <td>2021-04-01</td>\n",
              "      <td>30.952333</td>\n",
              "    </tr>\n",
              "    <tr>\n",
              "      <th>13963</th>\n",
              "      <td>Zacatecas</td>\n",
              "      <td>2021-05-01</td>\n",
              "      <td>34.826667</td>\n",
              "    </tr>\n",
              "    <tr>\n",
              "      <th>13964</th>\n",
              "      <td>Zacatecas</td>\n",
              "      <td>2021-06-01</td>\n",
              "      <td>25.269000</td>\n",
              "    </tr>\n",
              "    <tr>\n",
              "      <th>13965</th>\n",
              "      <td>Zacatecas</td>\n",
              "      <td>2021-07-01</td>\n",
              "      <td>1.150667</td>\n",
              "    </tr>\n",
              "    <tr>\n",
              "      <th>13966</th>\n",
              "      <td>Zacatecas</td>\n",
              "      <td>2021-08-01</td>\n",
              "      <td>0.539000</td>\n",
              "    </tr>\n",
              "  </tbody>\n",
              "</table>\n",
              "<p>13967 rows × 3 columns</p>\n",
              "</div>"
            ],
            "text/plain": [
              "             Province      Fecha       Data\n",
              "0      Aguascalientes 1984-01-01   0.000000\n",
              "1      Aguascalientes 1984-02-01   0.000000\n",
              "2      Aguascalientes 1984-03-01   0.000000\n",
              "3      Aguascalientes 1984-05-01   0.000000\n",
              "4      Aguascalientes 1984-06-01   4.766667\n",
              "...               ...        ...        ...\n",
              "13962       Zacatecas 2021-04-01  30.952333\n",
              "13963       Zacatecas 2021-05-01  34.826667\n",
              "13964       Zacatecas 2021-06-01  25.269000\n",
              "13965       Zacatecas 2021-07-01   1.150667\n",
              "13966       Zacatecas 2021-08-01   0.539000\n",
              "\n",
              "[13967 rows x 3 columns]"
            ]
          },
          "metadata": {
            "tags": []
          },
          "execution_count": 145
        }
      ]
    },
    {
      "cell_type": "markdown",
      "metadata": {
        "id": "_G5eLKgwkSwf"
      },
      "source": [
        "Cambiamos el nombre de algunas columnas y cambiamos el nombre de algunos estados para que coincida con los nombres en los otros DataFrames:"
      ]
    },
    {
      "cell_type": "code",
      "metadata": {
        "colab": {
          "base_uri": "https://localhost:8080/"
        },
        "id": "d_0Ox_kJkUjM",
        "outputId": "51357e39-226c-4b0b-fd1e-2c9d84f83551"
      },
      "source": [
        "IEA_promediado.rename(columns={'Province':'Entidad','Data':'IEA'},inplace=True)\n",
        "IEA_promediado.replace({'Distrito Federal':'Ciudad De Mexico','Mexico':'Estado De Mexico'},regex=True, inplace=True)\n",
        "IEA_promediado['Entidad'].unique()"
      ],
      "execution_count": 146,
      "outputs": [
        {
          "output_type": "execute_result",
          "data": {
            "text/plain": [
              "array(['Aguascalientes', 'Baja California', 'Baja California Sur',\n",
              "       'Campeche', 'Chiapas', 'Chihuahua', 'Coahuila', 'Colima',\n",
              "       'Ciudad De Mexico', 'Durango', 'Guanajuato', 'Guerrero', 'Hidalgo',\n",
              "       'Jalisco', 'Estado De Mexico', 'Michoacan', 'Morelos', 'Nayarit',\n",
              "       'Nuevo Leon', 'Oaxaca', 'Puebla', 'Queretaro', 'Quintana Roo',\n",
              "       'San Luis Potosi', 'Sinaloa', 'Sonora', 'Tabasco', 'Tamaulipas',\n",
              "       'Tlaxcala', 'Veracruz', 'Yucatan', 'Zacatecas'], dtype=object)"
            ]
          },
          "metadata": {
            "tags": []
          },
          "execution_count": 146
        }
      ]
    },
    {
      "cell_type": "markdown",
      "metadata": {
        "id": "chmHo-QDUgI0"
      },
      "source": [
        "Filtramos por fecha para tener datos a partir de Noviembre del 2002 como en los otros Dataframes y lo guardamos. "
      ]
    },
    {
      "cell_type": "code",
      "metadata": {
        "colab": {
          "base_uri": "https://localhost:8080/",
          "height": 0
        },
        "id": "HSrv9yIGHpKq",
        "outputId": "1146a763-da06-4bf5-f637-088ab6881641"
      },
      "source": [
        "IEA = IEA_promediado[(IEA_promediado['Fecha'] > '2002-10-01')].sort_values(by=[\"Entidad\",\"Fecha\"])\n",
        "\n",
        "IEA.reset_index(drop=True,inplace=True)\n",
        "\n",
        "IEA"
      ],
      "execution_count": 147,
      "outputs": [
        {
          "output_type": "execute_result",
          "data": {
            "text/html": [
              "<div>\n",
              "<style scoped>\n",
              "    .dataframe tbody tr th:only-of-type {\n",
              "        vertical-align: middle;\n",
              "    }\n",
              "\n",
              "    .dataframe tbody tr th {\n",
              "        vertical-align: top;\n",
              "    }\n",
              "\n",
              "    .dataframe thead th {\n",
              "        text-align: right;\n",
              "    }\n",
              "</style>\n",
              "<table border=\"1\" class=\"dataframe\">\n",
              "  <thead>\n",
              "    <tr style=\"text-align: right;\">\n",
              "      <th></th>\n",
              "      <th>Entidad</th>\n",
              "      <th>Fecha</th>\n",
              "      <th>IEA</th>\n",
              "    </tr>\n",
              "  </thead>\n",
              "  <tbody>\n",
              "    <tr>\n",
              "      <th>0</th>\n",
              "      <td>Aguascalientes</td>\n",
              "      <td>2002-11-01</td>\n",
              "      <td>0.000000</td>\n",
              "    </tr>\n",
              "    <tr>\n",
              "      <th>1</th>\n",
              "      <td>Aguascalientes</td>\n",
              "      <td>2002-12-01</td>\n",
              "      <td>0.000000</td>\n",
              "    </tr>\n",
              "    <tr>\n",
              "      <th>2</th>\n",
              "      <td>Aguascalientes</td>\n",
              "      <td>2003-01-01</td>\n",
              "      <td>0.000000</td>\n",
              "    </tr>\n",
              "    <tr>\n",
              "      <th>3</th>\n",
              "      <td>Aguascalientes</td>\n",
              "      <td>2003-02-01</td>\n",
              "      <td>0.000000</td>\n",
              "    </tr>\n",
              "    <tr>\n",
              "      <th>4</th>\n",
              "      <td>Aguascalientes</td>\n",
              "      <td>2003-03-01</td>\n",
              "      <td>4.482667</td>\n",
              "    </tr>\n",
              "    <tr>\n",
              "      <th>...</th>\n",
              "      <td>...</td>\n",
              "      <td>...</td>\n",
              "      <td>...</td>\n",
              "    </tr>\n",
              "    <tr>\n",
              "      <th>6978</th>\n",
              "      <td>Zacatecas</td>\n",
              "      <td>2021-04-01</td>\n",
              "      <td>30.952333</td>\n",
              "    </tr>\n",
              "    <tr>\n",
              "      <th>6979</th>\n",
              "      <td>Zacatecas</td>\n",
              "      <td>2021-05-01</td>\n",
              "      <td>34.826667</td>\n",
              "    </tr>\n",
              "    <tr>\n",
              "      <th>6980</th>\n",
              "      <td>Zacatecas</td>\n",
              "      <td>2021-06-01</td>\n",
              "      <td>25.269000</td>\n",
              "    </tr>\n",
              "    <tr>\n",
              "      <th>6981</th>\n",
              "      <td>Zacatecas</td>\n",
              "      <td>2021-07-01</td>\n",
              "      <td>1.150667</td>\n",
              "    </tr>\n",
              "    <tr>\n",
              "      <th>6982</th>\n",
              "      <td>Zacatecas</td>\n",
              "      <td>2021-08-01</td>\n",
              "      <td>0.539000</td>\n",
              "    </tr>\n",
              "  </tbody>\n",
              "</table>\n",
              "<p>6983 rows × 3 columns</p>\n",
              "</div>"
            ],
            "text/plain": [
              "             Entidad      Fecha        IEA\n",
              "0     Aguascalientes 2002-11-01   0.000000\n",
              "1     Aguascalientes 2002-12-01   0.000000\n",
              "2     Aguascalientes 2003-01-01   0.000000\n",
              "3     Aguascalientes 2003-02-01   0.000000\n",
              "4     Aguascalientes 2003-03-01   4.482667\n",
              "...              ...        ...        ...\n",
              "6978       Zacatecas 2021-04-01  30.952333\n",
              "6979       Zacatecas 2021-05-01  34.826667\n",
              "6980       Zacatecas 2021-06-01  25.269000\n",
              "6981       Zacatecas 2021-07-01   1.150667\n",
              "6982       Zacatecas 2021-08-01   0.539000\n",
              "\n",
              "[6983 rows x 3 columns]"
            ]
          },
          "metadata": {
            "tags": []
          },
          "execution_count": 147
        }
      ]
    },
    {
      "cell_type": "markdown",
      "metadata": {
        "id": "RJgx0EOXeXDa"
      },
      "source": [
        "#### Tratamiento al dataframe de temperaturas\n",
        "\n"
      ]
    },
    {
      "cell_type": "markdown",
      "metadata": {
        "id": "fq6EMudt21Ie"
      },
      "source": [
        "\n",
        "\n",
        "\n",
        "Modificamos la forma en que se muestra el nombre de la columa `ENTIDAD`, sus datos y los datos del `Mes`. Para que no estén todos en mayúsculas. "
      ]
    },
    {
      "cell_type": "code",
      "metadata": {
        "id": "-4zsHURB7zDd"
      },
      "source": [
        "temperatura_media_mensual = temperatura_media_mensual.rename(columns=str.title)"
      ],
      "execution_count": 148,
      "outputs": []
    },
    {
      "cell_type": "code",
      "metadata": {
        "colab": {
          "base_uri": "https://localhost:8080/",
          "height": 0
        },
        "id": "ltB1jLbe9Zxh",
        "outputId": "c14181d3-b265-4f56-ebf5-7b502dfa1094"
      },
      "source": [
        "temperatura_media_mensual['Entidad']=temperatura_media_mensual['Entidad'].str.title()\n",
        "temperatura_media_mensual['Mes']=temperatura_media_mensual['Mes'].str.title()\n",
        "\n",
        "temperatura_media_mensual"
      ],
      "execution_count": 149,
      "outputs": [
        {
          "output_type": "execute_result",
          "data": {
            "text/html": [
              "<div>\n",
              "<style scoped>\n",
              "    .dataframe tbody tr th:only-of-type {\n",
              "        vertical-align: middle;\n",
              "    }\n",
              "\n",
              "    .dataframe tbody tr th {\n",
              "        vertical-align: top;\n",
              "    }\n",
              "\n",
              "    .dataframe thead th {\n",
              "        text-align: right;\n",
              "    }\n",
              "</style>\n",
              "<table border=\"1\" class=\"dataframe\">\n",
              "  <thead>\n",
              "    <tr style=\"text-align: right;\">\n",
              "      <th></th>\n",
              "      <th>Entidad</th>\n",
              "      <th>Year</th>\n",
              "      <th>Mes</th>\n",
              "      <th>Temperatura</th>\n",
              "    </tr>\n",
              "  </thead>\n",
              "  <tbody>\n",
              "    <tr>\n",
              "      <th>0</th>\n",
              "      <td>Aguascalientes</td>\n",
              "      <td>1985</td>\n",
              "      <td>Ene</td>\n",
              "      <td>11.967094</td>\n",
              "    </tr>\n",
              "    <tr>\n",
              "      <th>1</th>\n",
              "      <td>Baja California</td>\n",
              "      <td>1985</td>\n",
              "      <td>Ene</td>\n",
              "      <td>11.052290</td>\n",
              "    </tr>\n",
              "    <tr>\n",
              "      <th>2</th>\n",
              "      <td>Baja California Sur</td>\n",
              "      <td>1985</td>\n",
              "      <td>Ene</td>\n",
              "      <td>15.702536</td>\n",
              "    </tr>\n",
              "    <tr>\n",
              "      <th>3</th>\n",
              "      <td>Campeche</td>\n",
              "      <td>1985</td>\n",
              "      <td>Ene</td>\n",
              "      <td>22.932142</td>\n",
              "    </tr>\n",
              "    <tr>\n",
              "      <th>4</th>\n",
              "      <td>Coahuila</td>\n",
              "      <td>1985</td>\n",
              "      <td>Ene</td>\n",
              "      <td>8.438872</td>\n",
              "    </tr>\n",
              "    <tr>\n",
              "      <th>...</th>\n",
              "      <td>...</td>\n",
              "      <td>...</td>\n",
              "      <td>...</td>\n",
              "      <td>...</td>\n",
              "    </tr>\n",
              "    <tr>\n",
              "      <th>15637</th>\n",
              "      <td>Tlaxcala</td>\n",
              "      <td>2020</td>\n",
              "      <td>Anual</td>\n",
              "      <td>15.300000</td>\n",
              "    </tr>\n",
              "    <tr>\n",
              "      <th>15638</th>\n",
              "      <td>Veracruz</td>\n",
              "      <td>2020</td>\n",
              "      <td>Anual</td>\n",
              "      <td>23.300000</td>\n",
              "    </tr>\n",
              "    <tr>\n",
              "      <th>15639</th>\n",
              "      <td>Yucatán</td>\n",
              "      <td>2020</td>\n",
              "      <td>Anual</td>\n",
              "      <td>27.300000</td>\n",
              "    </tr>\n",
              "    <tr>\n",
              "      <th>15640</th>\n",
              "      <td>Zacatecas</td>\n",
              "      <td>2020</td>\n",
              "      <td>Anual</td>\n",
              "      <td>18.300000</td>\n",
              "    </tr>\n",
              "    <tr>\n",
              "      <th>15641</th>\n",
              "      <td>Nacional</td>\n",
              "      <td>2020</td>\n",
              "      <td>Anual</td>\n",
              "      <td>22.400000</td>\n",
              "    </tr>\n",
              "  </tbody>\n",
              "</table>\n",
              "<p>15642 rows × 4 columns</p>\n",
              "</div>"
            ],
            "text/plain": [
              "                   Entidad  Year    Mes  Temperatura\n",
              "0           Aguascalientes  1985    Ene    11.967094\n",
              "1          Baja California  1985    Ene    11.052290\n",
              "2      Baja California Sur  1985    Ene    15.702536\n",
              "3                 Campeche  1985    Ene    22.932142\n",
              "4                 Coahuila  1985    Ene     8.438872\n",
              "...                    ...   ...    ...          ...\n",
              "15637             Tlaxcala  2020  Anual    15.300000\n",
              "15638             Veracruz  2020  Anual    23.300000\n",
              "15639              Yucatán  2020  Anual    27.300000\n",
              "15640            Zacatecas  2020  Anual    18.300000\n",
              "15641             Nacional  2020  Anual    22.400000\n",
              "\n",
              "[15642 rows x 4 columns]"
            ]
          },
          "metadata": {
            "tags": []
          },
          "execution_count": 149
        }
      ]
    },
    {
      "cell_type": "markdown",
      "metadata": {
        "id": "5M-G7bHG2Ts7"
      },
      "source": [
        "Para poder obtener una fecha en un formato adecuado es necesario eliminar los datos `Anual` de cada estado para tener solamente datos de `Enero`-`Diciembre`."
      ]
    },
    {
      "cell_type": "code",
      "metadata": {
        "id": "EOaACbN3B1Hr",
        "colab": {
          "base_uri": "https://localhost:8080/",
          "height": 0
        },
        "outputId": "57cab945-3b80-40a9-9a0d-161160598e85"
      },
      "source": [
        "temperatura_media_mensual = temperatura_media_mensual.loc[temperatura_media_mensual['Mes'] != 'Anual']\n",
        "\n",
        "temperatura_media_mensual"
      ],
      "execution_count": 150,
      "outputs": [
        {
          "output_type": "execute_result",
          "data": {
            "text/html": [
              "<div>\n",
              "<style scoped>\n",
              "    .dataframe tbody tr th:only-of-type {\n",
              "        vertical-align: middle;\n",
              "    }\n",
              "\n",
              "    .dataframe tbody tr th {\n",
              "        vertical-align: top;\n",
              "    }\n",
              "\n",
              "    .dataframe thead th {\n",
              "        text-align: right;\n",
              "    }\n",
              "</style>\n",
              "<table border=\"1\" class=\"dataframe\">\n",
              "  <thead>\n",
              "    <tr style=\"text-align: right;\">\n",
              "      <th></th>\n",
              "      <th>Entidad</th>\n",
              "      <th>Year</th>\n",
              "      <th>Mes</th>\n",
              "      <th>Temperatura</th>\n",
              "    </tr>\n",
              "  </thead>\n",
              "  <tbody>\n",
              "    <tr>\n",
              "      <th>0</th>\n",
              "      <td>Aguascalientes</td>\n",
              "      <td>1985</td>\n",
              "      <td>Ene</td>\n",
              "      <td>11.967094</td>\n",
              "    </tr>\n",
              "    <tr>\n",
              "      <th>1</th>\n",
              "      <td>Baja California</td>\n",
              "      <td>1985</td>\n",
              "      <td>Ene</td>\n",
              "      <td>11.052290</td>\n",
              "    </tr>\n",
              "    <tr>\n",
              "      <th>2</th>\n",
              "      <td>Baja California Sur</td>\n",
              "      <td>1985</td>\n",
              "      <td>Ene</td>\n",
              "      <td>15.702536</td>\n",
              "    </tr>\n",
              "    <tr>\n",
              "      <th>3</th>\n",
              "      <td>Campeche</td>\n",
              "      <td>1985</td>\n",
              "      <td>Ene</td>\n",
              "      <td>22.932142</td>\n",
              "    </tr>\n",
              "    <tr>\n",
              "      <th>4</th>\n",
              "      <td>Coahuila</td>\n",
              "      <td>1985</td>\n",
              "      <td>Ene</td>\n",
              "      <td>8.438872</td>\n",
              "    </tr>\n",
              "    <tr>\n",
              "      <th>...</th>\n",
              "      <td>...</td>\n",
              "      <td>...</td>\n",
              "      <td>...</td>\n",
              "      <td>...</td>\n",
              "    </tr>\n",
              "    <tr>\n",
              "      <th>14449</th>\n",
              "      <td>Tlaxcala</td>\n",
              "      <td>2020</td>\n",
              "      <td>Dic</td>\n",
              "      <td>12.500000</td>\n",
              "    </tr>\n",
              "    <tr>\n",
              "      <th>14450</th>\n",
              "      <td>Veracruz</td>\n",
              "      <td>2020</td>\n",
              "      <td>Dic</td>\n",
              "      <td>18.500000</td>\n",
              "    </tr>\n",
              "    <tr>\n",
              "      <th>14451</th>\n",
              "      <td>Yucatán</td>\n",
              "      <td>2020</td>\n",
              "      <td>Dic</td>\n",
              "      <td>23.200000</td>\n",
              "    </tr>\n",
              "    <tr>\n",
              "      <th>14452</th>\n",
              "      <td>Zacatecas</td>\n",
              "      <td>2020</td>\n",
              "      <td>Dic</td>\n",
              "      <td>13.400000</td>\n",
              "    </tr>\n",
              "    <tr>\n",
              "      <th>14453</th>\n",
              "      <td>Nacional</td>\n",
              "      <td>2020</td>\n",
              "      <td>Dic</td>\n",
              "      <td>16.300000</td>\n",
              "    </tr>\n",
              "  </tbody>\n",
              "</table>\n",
              "<p>14454 rows × 4 columns</p>\n",
              "</div>"
            ],
            "text/plain": [
              "                   Entidad  Year  Mes  Temperatura\n",
              "0           Aguascalientes  1985  Ene    11.967094\n",
              "1          Baja California  1985  Ene    11.052290\n",
              "2      Baja California Sur  1985  Ene    15.702536\n",
              "3                 Campeche  1985  Ene    22.932142\n",
              "4                 Coahuila  1985  Ene     8.438872\n",
              "...                    ...   ...  ...          ...\n",
              "14449             Tlaxcala  2020  Dic    12.500000\n",
              "14450             Veracruz  2020  Dic    18.500000\n",
              "14451              Yucatán  2020  Dic    23.200000\n",
              "14452            Zacatecas  2020  Dic    13.400000\n",
              "14453             Nacional  2020  Dic    16.300000\n",
              "\n",
              "[14454 rows x 4 columns]"
            ]
          },
          "metadata": {
            "tags": []
          },
          "execution_count": 150
        }
      ]
    },
    {
      "cell_type": "markdown",
      "metadata": {
        "id": "71HFFx3U3y4E"
      },
      "source": [
        "Comprobamos que solamente tenemos datos de `Enero`-`Diciembre`. "
      ]
    },
    {
      "cell_type": "code",
      "metadata": {
        "colab": {
          "base_uri": "https://localhost:8080/"
        },
        "id": "FPqrP5xC_asP",
        "outputId": "c671f5ba-5556-4c2b-fecf-a6e88cb77245"
      },
      "source": [
        "temperatura_media_mensual[\"Mes\"].unique()"
      ],
      "execution_count": 151,
      "outputs": [
        {
          "output_type": "execute_result",
          "data": {
            "text/plain": [
              "array(['Ene', 'Feb', 'Mar', 'Abr', 'May', 'Jun', 'Jul', 'Ago', 'Sep',\n",
              "       'Oct', 'Nov', 'Dic'], dtype=object)"
            ]
          },
          "metadata": {
            "tags": []
          },
          "execution_count": 151
        }
      ]
    },
    {
      "cell_type": "markdown",
      "metadata": {
        "id": "JtTF31bR35xQ"
      },
      "source": [
        "Modificamos los nombres mediante un diccionario y `map` para poder convertirlo a fecha con el formato `%Y%B` el cual involucra el año y el nombre completo del mes en inglés.\n",
        "\n"
      ]
    },
    {
      "cell_type": "code",
      "metadata": {
        "id": "Sko9Pw_b-QgL"
      },
      "source": [
        "meses = {\n",
        "    'Ene': 'January',\n",
        "    'Feb': 'February',\n",
        "    'Mar': 'March',\n",
        "    'Abr': 'April',\n",
        "    'May': 'May',\n",
        "    'Jun': 'June',\n",
        "    'Jul': 'July',\n",
        "    'Ago': 'August',\n",
        "    'Sep': 'September',\n",
        "    'Oct': 'October',\n",
        "    'Nov': 'November',\n",
        "    'Dic': 'December'\n",
        "    }"
      ],
      "execution_count": 152,
      "outputs": []
    },
    {
      "cell_type": "code",
      "metadata": {
        "id": "uJWVxwWYCY5S",
        "colab": {
          "base_uri": "https://localhost:8080/"
        },
        "outputId": "e07ed67f-05c1-44a3-9a81-a90b9923c32b"
      },
      "source": [
        "temperatura_media_mensual['Mes'] = temperatura_media_mensual['Mes'].map(meses)"
      ],
      "execution_count": 153,
      "outputs": [
        {
          "output_type": "stream",
          "text": [
            "/usr/local/lib/python3.7/dist-packages/ipykernel_launcher.py:1: SettingWithCopyWarning: \n",
            "A value is trying to be set on a copy of a slice from a DataFrame.\n",
            "Try using .loc[row_indexer,col_indexer] = value instead\n",
            "\n",
            "See the caveats in the documentation: https://pandas.pydata.org/pandas-docs/stable/user_guide/indexing.html#returning-a-view-versus-a-copy\n",
            "  \"\"\"Entry point for launching an IPython kernel.\n"
          ],
          "name": "stderr"
        }
      ]
    },
    {
      "cell_type": "code",
      "metadata": {
        "colab": {
          "base_uri": "https://localhost:8080/",
          "height": 0
        },
        "id": "wGCKOeNSFbys",
        "outputId": "909f6311-21db-4623-c914-45cffe8bd8c3"
      },
      "source": [
        "temperatura_media_mensual"
      ],
      "execution_count": 154,
      "outputs": [
        {
          "output_type": "execute_result",
          "data": {
            "text/html": [
              "<div>\n",
              "<style scoped>\n",
              "    .dataframe tbody tr th:only-of-type {\n",
              "        vertical-align: middle;\n",
              "    }\n",
              "\n",
              "    .dataframe tbody tr th {\n",
              "        vertical-align: top;\n",
              "    }\n",
              "\n",
              "    .dataframe thead th {\n",
              "        text-align: right;\n",
              "    }\n",
              "</style>\n",
              "<table border=\"1\" class=\"dataframe\">\n",
              "  <thead>\n",
              "    <tr style=\"text-align: right;\">\n",
              "      <th></th>\n",
              "      <th>Entidad</th>\n",
              "      <th>Year</th>\n",
              "      <th>Mes</th>\n",
              "      <th>Temperatura</th>\n",
              "    </tr>\n",
              "  </thead>\n",
              "  <tbody>\n",
              "    <tr>\n",
              "      <th>0</th>\n",
              "      <td>Aguascalientes</td>\n",
              "      <td>1985</td>\n",
              "      <td>January</td>\n",
              "      <td>11.967094</td>\n",
              "    </tr>\n",
              "    <tr>\n",
              "      <th>1</th>\n",
              "      <td>Baja California</td>\n",
              "      <td>1985</td>\n",
              "      <td>January</td>\n",
              "      <td>11.052290</td>\n",
              "    </tr>\n",
              "    <tr>\n",
              "      <th>2</th>\n",
              "      <td>Baja California Sur</td>\n",
              "      <td>1985</td>\n",
              "      <td>January</td>\n",
              "      <td>15.702536</td>\n",
              "    </tr>\n",
              "    <tr>\n",
              "      <th>3</th>\n",
              "      <td>Campeche</td>\n",
              "      <td>1985</td>\n",
              "      <td>January</td>\n",
              "      <td>22.932142</td>\n",
              "    </tr>\n",
              "    <tr>\n",
              "      <th>4</th>\n",
              "      <td>Coahuila</td>\n",
              "      <td>1985</td>\n",
              "      <td>January</td>\n",
              "      <td>8.438872</td>\n",
              "    </tr>\n",
              "    <tr>\n",
              "      <th>...</th>\n",
              "      <td>...</td>\n",
              "      <td>...</td>\n",
              "      <td>...</td>\n",
              "      <td>...</td>\n",
              "    </tr>\n",
              "    <tr>\n",
              "      <th>14449</th>\n",
              "      <td>Tlaxcala</td>\n",
              "      <td>2020</td>\n",
              "      <td>December</td>\n",
              "      <td>12.500000</td>\n",
              "    </tr>\n",
              "    <tr>\n",
              "      <th>14450</th>\n",
              "      <td>Veracruz</td>\n",
              "      <td>2020</td>\n",
              "      <td>December</td>\n",
              "      <td>18.500000</td>\n",
              "    </tr>\n",
              "    <tr>\n",
              "      <th>14451</th>\n",
              "      <td>Yucatán</td>\n",
              "      <td>2020</td>\n",
              "      <td>December</td>\n",
              "      <td>23.200000</td>\n",
              "    </tr>\n",
              "    <tr>\n",
              "      <th>14452</th>\n",
              "      <td>Zacatecas</td>\n",
              "      <td>2020</td>\n",
              "      <td>December</td>\n",
              "      <td>13.400000</td>\n",
              "    </tr>\n",
              "    <tr>\n",
              "      <th>14453</th>\n",
              "      <td>Nacional</td>\n",
              "      <td>2020</td>\n",
              "      <td>December</td>\n",
              "      <td>16.300000</td>\n",
              "    </tr>\n",
              "  </tbody>\n",
              "</table>\n",
              "<p>14454 rows × 4 columns</p>\n",
              "</div>"
            ],
            "text/plain": [
              "                   Entidad  Year       Mes  Temperatura\n",
              "0           Aguascalientes  1985   January    11.967094\n",
              "1          Baja California  1985   January    11.052290\n",
              "2      Baja California Sur  1985   January    15.702536\n",
              "3                 Campeche  1985   January    22.932142\n",
              "4                 Coahuila  1985   January     8.438872\n",
              "...                    ...   ...       ...          ...\n",
              "14449             Tlaxcala  2020  December    12.500000\n",
              "14450             Veracruz  2020  December    18.500000\n",
              "14451              Yucatán  2020  December    23.200000\n",
              "14452            Zacatecas  2020  December    13.400000\n",
              "14453             Nacional  2020  December    16.300000\n",
              "\n",
              "[14454 rows x 4 columns]"
            ]
          },
          "metadata": {
            "tags": []
          },
          "execution_count": 154
        }
      ]
    },
    {
      "cell_type": "markdown",
      "metadata": {
        "id": "n6jmlr3D4rcA"
      },
      "source": [
        "Ahora, utilizamos `to_datetime` para construir la `Fecha` utilizando `Year` y `Mes`."
      ]
    },
    {
      "cell_type": "code",
      "metadata": {
        "id": "IrrN8uHTXHUt",
        "colab": {
          "base_uri": "https://localhost:8080/"
        },
        "outputId": "7809757b-2858-4463-c989-c2a4166b7aa8"
      },
      "source": [
        "temperatura_media_mensual[\"Fecha\"]=pd.to_datetime(temperatura_media_mensual['Year'].astype(str) + temperatura_media_mensual['Mes'], format='%Y%B')"
      ],
      "execution_count": 155,
      "outputs": [
        {
          "output_type": "stream",
          "text": [
            "/usr/local/lib/python3.7/dist-packages/ipykernel_launcher.py:1: SettingWithCopyWarning: \n",
            "A value is trying to be set on a copy of a slice from a DataFrame.\n",
            "Try using .loc[row_indexer,col_indexer] = value instead\n",
            "\n",
            "See the caveats in the documentation: https://pandas.pydata.org/pandas-docs/stable/user_guide/indexing.html#returning-a-view-versus-a-copy\n",
            "  \"\"\"Entry point for launching an IPython kernel.\n"
          ],
          "name": "stderr"
        }
      ]
    },
    {
      "cell_type": "code",
      "metadata": {
        "colab": {
          "base_uri": "https://localhost:8080/",
          "height": 0
        },
        "id": "yhu9LoS5MPme",
        "outputId": "7d2d7e70-100c-458e-d5ff-54e1a5bd64b2"
      },
      "source": [
        "temperatura_media_mensual"
      ],
      "execution_count": 156,
      "outputs": [
        {
          "output_type": "execute_result",
          "data": {
            "text/html": [
              "<div>\n",
              "<style scoped>\n",
              "    .dataframe tbody tr th:only-of-type {\n",
              "        vertical-align: middle;\n",
              "    }\n",
              "\n",
              "    .dataframe tbody tr th {\n",
              "        vertical-align: top;\n",
              "    }\n",
              "\n",
              "    .dataframe thead th {\n",
              "        text-align: right;\n",
              "    }\n",
              "</style>\n",
              "<table border=\"1\" class=\"dataframe\">\n",
              "  <thead>\n",
              "    <tr style=\"text-align: right;\">\n",
              "      <th></th>\n",
              "      <th>Entidad</th>\n",
              "      <th>Year</th>\n",
              "      <th>Mes</th>\n",
              "      <th>Temperatura</th>\n",
              "      <th>Fecha</th>\n",
              "    </tr>\n",
              "  </thead>\n",
              "  <tbody>\n",
              "    <tr>\n",
              "      <th>0</th>\n",
              "      <td>Aguascalientes</td>\n",
              "      <td>1985</td>\n",
              "      <td>January</td>\n",
              "      <td>11.967094</td>\n",
              "      <td>1985-01-01</td>\n",
              "    </tr>\n",
              "    <tr>\n",
              "      <th>1</th>\n",
              "      <td>Baja California</td>\n",
              "      <td>1985</td>\n",
              "      <td>January</td>\n",
              "      <td>11.052290</td>\n",
              "      <td>1985-01-01</td>\n",
              "    </tr>\n",
              "    <tr>\n",
              "      <th>2</th>\n",
              "      <td>Baja California Sur</td>\n",
              "      <td>1985</td>\n",
              "      <td>January</td>\n",
              "      <td>15.702536</td>\n",
              "      <td>1985-01-01</td>\n",
              "    </tr>\n",
              "    <tr>\n",
              "      <th>3</th>\n",
              "      <td>Campeche</td>\n",
              "      <td>1985</td>\n",
              "      <td>January</td>\n",
              "      <td>22.932142</td>\n",
              "      <td>1985-01-01</td>\n",
              "    </tr>\n",
              "    <tr>\n",
              "      <th>4</th>\n",
              "      <td>Coahuila</td>\n",
              "      <td>1985</td>\n",
              "      <td>January</td>\n",
              "      <td>8.438872</td>\n",
              "      <td>1985-01-01</td>\n",
              "    </tr>\n",
              "    <tr>\n",
              "      <th>...</th>\n",
              "      <td>...</td>\n",
              "      <td>...</td>\n",
              "      <td>...</td>\n",
              "      <td>...</td>\n",
              "      <td>...</td>\n",
              "    </tr>\n",
              "    <tr>\n",
              "      <th>14449</th>\n",
              "      <td>Tlaxcala</td>\n",
              "      <td>2020</td>\n",
              "      <td>December</td>\n",
              "      <td>12.500000</td>\n",
              "      <td>2020-12-01</td>\n",
              "    </tr>\n",
              "    <tr>\n",
              "      <th>14450</th>\n",
              "      <td>Veracruz</td>\n",
              "      <td>2020</td>\n",
              "      <td>December</td>\n",
              "      <td>18.500000</td>\n",
              "      <td>2020-12-01</td>\n",
              "    </tr>\n",
              "    <tr>\n",
              "      <th>14451</th>\n",
              "      <td>Yucatán</td>\n",
              "      <td>2020</td>\n",
              "      <td>December</td>\n",
              "      <td>23.200000</td>\n",
              "      <td>2020-12-01</td>\n",
              "    </tr>\n",
              "    <tr>\n",
              "      <th>14452</th>\n",
              "      <td>Zacatecas</td>\n",
              "      <td>2020</td>\n",
              "      <td>December</td>\n",
              "      <td>13.400000</td>\n",
              "      <td>2020-12-01</td>\n",
              "    </tr>\n",
              "    <tr>\n",
              "      <th>14453</th>\n",
              "      <td>Nacional</td>\n",
              "      <td>2020</td>\n",
              "      <td>December</td>\n",
              "      <td>16.300000</td>\n",
              "      <td>2020-12-01</td>\n",
              "    </tr>\n",
              "  </tbody>\n",
              "</table>\n",
              "<p>14454 rows × 5 columns</p>\n",
              "</div>"
            ],
            "text/plain": [
              "                   Entidad  Year       Mes  Temperatura      Fecha\n",
              "0           Aguascalientes  1985   January    11.967094 1985-01-01\n",
              "1          Baja California  1985   January    11.052290 1985-01-01\n",
              "2      Baja California Sur  1985   January    15.702536 1985-01-01\n",
              "3                 Campeche  1985   January    22.932142 1985-01-01\n",
              "4                 Coahuila  1985   January     8.438872 1985-01-01\n",
              "...                    ...   ...       ...          ...        ...\n",
              "14449             Tlaxcala  2020  December    12.500000 2020-12-01\n",
              "14450             Veracruz  2020  December    18.500000 2020-12-01\n",
              "14451              Yucatán  2020  December    23.200000 2020-12-01\n",
              "14452            Zacatecas  2020  December    13.400000 2020-12-01\n",
              "14453             Nacional  2020  December    16.300000 2020-12-01\n",
              "\n",
              "[14454 rows x 5 columns]"
            ]
          },
          "metadata": {
            "tags": []
          },
          "execution_count": 156
        }
      ]
    },
    {
      "cell_type": "markdown",
      "metadata": {
        "id": "Y0kGZCuB5EKO"
      },
      "source": [
        "Eliminamos las columnas de `Year` y `mes`, además, reordenamos las columnas. "
      ]
    },
    {
      "cell_type": "code",
      "metadata": {
        "colab": {
          "base_uri": "https://localhost:8080/",
          "height": 0
        },
        "id": "wgQ5SGi7OApm",
        "outputId": "50a24fa9-0ab9-4487-d318-dba83aeda5ca"
      },
      "source": [
        "temperatura_media_mensual = temperatura_media_mensual.drop([\"Year\",\"Mes\"], axis=1)\n",
        "\n",
        "temperatura_media_mensual = temperatura_media_mensual[[\"Entidad\",\"Fecha\",\"Temperatura\"]]\n",
        "\n",
        "temperatura_media_mensual"
      ],
      "execution_count": 157,
      "outputs": [
        {
          "output_type": "execute_result",
          "data": {
            "text/html": [
              "<div>\n",
              "<style scoped>\n",
              "    .dataframe tbody tr th:only-of-type {\n",
              "        vertical-align: middle;\n",
              "    }\n",
              "\n",
              "    .dataframe tbody tr th {\n",
              "        vertical-align: top;\n",
              "    }\n",
              "\n",
              "    .dataframe thead th {\n",
              "        text-align: right;\n",
              "    }\n",
              "</style>\n",
              "<table border=\"1\" class=\"dataframe\">\n",
              "  <thead>\n",
              "    <tr style=\"text-align: right;\">\n",
              "      <th></th>\n",
              "      <th>Entidad</th>\n",
              "      <th>Fecha</th>\n",
              "      <th>Temperatura</th>\n",
              "    </tr>\n",
              "  </thead>\n",
              "  <tbody>\n",
              "    <tr>\n",
              "      <th>0</th>\n",
              "      <td>Aguascalientes</td>\n",
              "      <td>1985-01-01</td>\n",
              "      <td>11.967094</td>\n",
              "    </tr>\n",
              "    <tr>\n",
              "      <th>1</th>\n",
              "      <td>Baja California</td>\n",
              "      <td>1985-01-01</td>\n",
              "      <td>11.052290</td>\n",
              "    </tr>\n",
              "    <tr>\n",
              "      <th>2</th>\n",
              "      <td>Baja California Sur</td>\n",
              "      <td>1985-01-01</td>\n",
              "      <td>15.702536</td>\n",
              "    </tr>\n",
              "    <tr>\n",
              "      <th>3</th>\n",
              "      <td>Campeche</td>\n",
              "      <td>1985-01-01</td>\n",
              "      <td>22.932142</td>\n",
              "    </tr>\n",
              "    <tr>\n",
              "      <th>4</th>\n",
              "      <td>Coahuila</td>\n",
              "      <td>1985-01-01</td>\n",
              "      <td>8.438872</td>\n",
              "    </tr>\n",
              "    <tr>\n",
              "      <th>...</th>\n",
              "      <td>...</td>\n",
              "      <td>...</td>\n",
              "      <td>...</td>\n",
              "    </tr>\n",
              "    <tr>\n",
              "      <th>14449</th>\n",
              "      <td>Tlaxcala</td>\n",
              "      <td>2020-12-01</td>\n",
              "      <td>12.500000</td>\n",
              "    </tr>\n",
              "    <tr>\n",
              "      <th>14450</th>\n",
              "      <td>Veracruz</td>\n",
              "      <td>2020-12-01</td>\n",
              "      <td>18.500000</td>\n",
              "    </tr>\n",
              "    <tr>\n",
              "      <th>14451</th>\n",
              "      <td>Yucatán</td>\n",
              "      <td>2020-12-01</td>\n",
              "      <td>23.200000</td>\n",
              "    </tr>\n",
              "    <tr>\n",
              "      <th>14452</th>\n",
              "      <td>Zacatecas</td>\n",
              "      <td>2020-12-01</td>\n",
              "      <td>13.400000</td>\n",
              "    </tr>\n",
              "    <tr>\n",
              "      <th>14453</th>\n",
              "      <td>Nacional</td>\n",
              "      <td>2020-12-01</td>\n",
              "      <td>16.300000</td>\n",
              "    </tr>\n",
              "  </tbody>\n",
              "</table>\n",
              "<p>14454 rows × 3 columns</p>\n",
              "</div>"
            ],
            "text/plain": [
              "                   Entidad      Fecha  Temperatura\n",
              "0           Aguascalientes 1985-01-01    11.967094\n",
              "1          Baja California 1985-01-01    11.052290\n",
              "2      Baja California Sur 1985-01-01    15.702536\n",
              "3                 Campeche 1985-01-01    22.932142\n",
              "4                 Coahuila 1985-01-01     8.438872\n",
              "...                    ...        ...          ...\n",
              "14449             Tlaxcala 2020-12-01    12.500000\n",
              "14450             Veracruz 2020-12-01    18.500000\n",
              "14451              Yucatán 2020-12-01    23.200000\n",
              "14452            Zacatecas 2020-12-01    13.400000\n",
              "14453             Nacional 2020-12-01    16.300000\n",
              "\n",
              "[14454 rows x 3 columns]"
            ]
          },
          "metadata": {
            "tags": []
          },
          "execution_count": 157
        }
      ]
    },
    {
      "cell_type": "markdown",
      "metadata": {
        "id": "qNAWKW-O5aGM"
      },
      "source": [
        "Finalmente, como los datos que tenemos de sequías son de Noviembre del 2002 hasta Junio del 2021, eliminamos los datos previos a este periodo. "
      ]
    },
    {
      "cell_type": "code",
      "metadata": {
        "id": "fdcUmoJZRM1Y",
        "colab": {
          "base_uri": "https://localhost:8080/",
          "height": 0
        },
        "outputId": "34201f71-567d-44c0-e85e-b7f0f2af6e32"
      },
      "source": [
        "temperatura = temperatura_media_mensual[(temperatura_media_mensual['Fecha'] > '2002-10-01')].sort_values(by=[\"Entidad\",\"Fecha\"])\n",
        "\n",
        "temperatura.reset_index(drop=True,inplace=True)\n",
        "\n",
        "temperatura"
      ],
      "execution_count": 158,
      "outputs": [
        {
          "output_type": "execute_result",
          "data": {
            "text/html": [
              "<div>\n",
              "<style scoped>\n",
              "    .dataframe tbody tr th:only-of-type {\n",
              "        vertical-align: middle;\n",
              "    }\n",
              "\n",
              "    .dataframe tbody tr th {\n",
              "        vertical-align: top;\n",
              "    }\n",
              "\n",
              "    .dataframe thead th {\n",
              "        text-align: right;\n",
              "    }\n",
              "</style>\n",
              "<table border=\"1\" class=\"dataframe\">\n",
              "  <thead>\n",
              "    <tr style=\"text-align: right;\">\n",
              "      <th></th>\n",
              "      <th>Entidad</th>\n",
              "      <th>Fecha</th>\n",
              "      <th>Temperatura</th>\n",
              "    </tr>\n",
              "  </thead>\n",
              "  <tbody>\n",
              "    <tr>\n",
              "      <th>0</th>\n",
              "      <td>Aguascalientes</td>\n",
              "      <td>2002-11-01</td>\n",
              "      <td>18.000000</td>\n",
              "    </tr>\n",
              "    <tr>\n",
              "      <th>1</th>\n",
              "      <td>Aguascalientes</td>\n",
              "      <td>2002-12-01</td>\n",
              "      <td>14.200000</td>\n",
              "    </tr>\n",
              "    <tr>\n",
              "      <th>2</th>\n",
              "      <td>Aguascalientes</td>\n",
              "      <td>2003-01-01</td>\n",
              "      <td>12.743166</td>\n",
              "    </tr>\n",
              "    <tr>\n",
              "      <th>3</th>\n",
              "      <td>Aguascalientes</td>\n",
              "      <td>2003-02-01</td>\n",
              "      <td>15.105630</td>\n",
              "    </tr>\n",
              "    <tr>\n",
              "      <th>4</th>\n",
              "      <td>Aguascalientes</td>\n",
              "      <td>2003-03-01</td>\n",
              "      <td>16.570585</td>\n",
              "    </tr>\n",
              "    <tr>\n",
              "      <th>...</th>\n",
              "      <td>...</td>\n",
              "      <td>...</td>\n",
              "      <td>...</td>\n",
              "    </tr>\n",
              "    <tr>\n",
              "      <th>7387</th>\n",
              "      <td>Zacatecas</td>\n",
              "      <td>2021-02-01</td>\n",
              "      <td>15.500000</td>\n",
              "    </tr>\n",
              "    <tr>\n",
              "      <th>7388</th>\n",
              "      <td>Zacatecas</td>\n",
              "      <td>2021-03-01</td>\n",
              "      <td>18.200000</td>\n",
              "    </tr>\n",
              "    <tr>\n",
              "      <th>7389</th>\n",
              "      <td>Zacatecas</td>\n",
              "      <td>2021-04-01</td>\n",
              "      <td>19.900000</td>\n",
              "    </tr>\n",
              "    <tr>\n",
              "      <th>7390</th>\n",
              "      <td>Zacatecas</td>\n",
              "      <td>2021-05-01</td>\n",
              "      <td>21.600000</td>\n",
              "    </tr>\n",
              "    <tr>\n",
              "      <th>7391</th>\n",
              "      <td>Zacatecas</td>\n",
              "      <td>2021-06-01</td>\n",
              "      <td>21.200000</td>\n",
              "    </tr>\n",
              "  </tbody>\n",
              "</table>\n",
              "<p>7392 rows × 3 columns</p>\n",
              "</div>"
            ],
            "text/plain": [
              "             Entidad      Fecha  Temperatura\n",
              "0     Aguascalientes 2002-11-01    18.000000\n",
              "1     Aguascalientes 2002-12-01    14.200000\n",
              "2     Aguascalientes 2003-01-01    12.743166\n",
              "3     Aguascalientes 2003-02-01    15.105630\n",
              "4     Aguascalientes 2003-03-01    16.570585\n",
              "...              ...        ...          ...\n",
              "7387       Zacatecas 2021-02-01    15.500000\n",
              "7388       Zacatecas 2021-03-01    18.200000\n",
              "7389       Zacatecas 2021-04-01    19.900000\n",
              "7390       Zacatecas 2021-05-01    21.600000\n",
              "7391       Zacatecas 2021-06-01    21.200000\n",
              "\n",
              "[7392 rows x 3 columns]"
            ]
          },
          "metadata": {
            "tags": []
          },
          "execution_count": 158
        }
      ]
    },
    {
      "cell_type": "markdown",
      "metadata": {
        "id": "CZEx7mogv2Xv"
      },
      "source": [
        "Finalmente, observamos si los nombres de las entidades contienen caracteres especiales:"
      ]
    },
    {
      "cell_type": "code",
      "metadata": {
        "colab": {
          "base_uri": "https://localhost:8080/"
        },
        "id": "HEQntYruvZte",
        "outputId": "2b727f97-ccf9-4676-fcbf-f9fcc2f36d4c"
      },
      "source": [
        "temperatura['Entidad'].unique()"
      ],
      "execution_count": 159,
      "outputs": [
        {
          "output_type": "execute_result",
          "data": {
            "text/plain": [
              "array(['Aguascalientes', 'Baja California', 'Baja California Sur',\n",
              "       'Campeche', 'Chiapas', 'Chihuahua', 'Ciudad De México', 'Coahuila',\n",
              "       'Colima', 'Durango', 'Estado De México', 'Guanajuato', 'Guerrero',\n",
              "       'Hidalgo', 'Jalisco', 'Michoacán', 'Morelos', 'Nacional',\n",
              "       'Nayarit', 'Nuevo León', 'Oaxaca', 'Puebla', 'Querétaro',\n",
              "       'Quintana Roo', 'San Luis Potosí', 'Sinaloa', 'Sonora', 'Tabasco',\n",
              "       'Tamaulipas', 'Tlaxcala', 'Veracruz', 'Yucatán', 'Zacatecas'],\n",
              "      dtype=object)"
            ]
          },
          "metadata": {
            "tags": []
          },
          "execution_count": 159
        }
      ]
    },
    {
      "cell_type": "markdown",
      "metadata": {
        "id": "c82B3BI2r4mB"
      },
      "source": [
        "Es necesario editarlos para que se incorporen a un solo dataframe más adelante."
      ]
    },
    {
      "cell_type": "code",
      "metadata": {
        "id": "X6nmEGrIv9sm"
      },
      "source": [
        "letras_acentos = {'á':'a','é':'e','í':'i','ó':'o','ú':'u'}\n",
        "\n",
        "temperatura.replace(letras_acentos,regex=True, inplace=True)"
      ],
      "execution_count": 160,
      "outputs": []
    },
    {
      "cell_type": "code",
      "metadata": {
        "colab": {
          "base_uri": "https://localhost:8080/"
        },
        "id": "aW2ZuXcawZ6n",
        "outputId": "06c57bab-7036-4a64-8a86-5e7b65e49159"
      },
      "source": [
        "temperatura['Entidad'].unique()"
      ],
      "execution_count": 161,
      "outputs": [
        {
          "output_type": "execute_result",
          "data": {
            "text/plain": [
              "array(['Aguascalientes', 'Baja California', 'Baja California Sur',\n",
              "       'Campeche', 'Chiapas', 'Chihuahua', 'Ciudad De Mexico', 'Coahuila',\n",
              "       'Colima', 'Durango', 'Estado De Mexico', 'Guanajuato', 'Guerrero',\n",
              "       'Hidalgo', 'Jalisco', 'Michoacan', 'Morelos', 'Nacional',\n",
              "       'Nayarit', 'Nuevo Leon', 'Oaxaca', 'Puebla', 'Queretaro',\n",
              "       'Quintana Roo', 'San Luis Potosi', 'Sinaloa', 'Sonora', 'Tabasco',\n",
              "       'Tamaulipas', 'Tlaxcala', 'Veracruz', 'Yucatan', 'Zacatecas'],\n",
              "      dtype=object)"
            ]
          },
          "metadata": {
            "tags": []
          },
          "execution_count": 161
        }
      ]
    },
    {
      "cell_type": "markdown",
      "metadata": {
        "id": "bNmu2wZUeXce"
      },
      "source": [
        "#### Tratamiento al dataframe de precipitación"
      ]
    },
    {
      "cell_type": "markdown",
      "metadata": {
        "id": "TeVy3nOhLOhO"
      },
      "source": [
        "Utilizamos `title` para que no se muestre todo en mayúsculas."
      ]
    },
    {
      "cell_type": "code",
      "metadata": {
        "colab": {
          "base_uri": "https://localhost:8080/",
          "height": 0
        },
        "id": "--2cMgS7KzwQ",
        "outputId": "a27aa566-589e-4c2f-ac52-0e9767d275fa"
      },
      "source": [
        "df_precipitacion = df_precipitacion.rename(columns=str.title)\n",
        "\n",
        "\n",
        "df_precipitacion['Entidad']=df_precipitacion['Entidad'].str.title()\n",
        "df_precipitacion['Mes']=df_precipitacion['Mes'].str.title()\n",
        "\n",
        "df_precipitacion\n"
      ],
      "execution_count": 162,
      "outputs": [
        {
          "output_type": "execute_result",
          "data": {
            "text/html": [
              "<div>\n",
              "<style scoped>\n",
              "    .dataframe tbody tr th:only-of-type {\n",
              "        vertical-align: middle;\n",
              "    }\n",
              "\n",
              "    .dataframe tbody tr th {\n",
              "        vertical-align: top;\n",
              "    }\n",
              "\n",
              "    .dataframe thead th {\n",
              "        text-align: right;\n",
              "    }\n",
              "</style>\n",
              "<table border=\"1\" class=\"dataframe\">\n",
              "  <thead>\n",
              "    <tr style=\"text-align: right;\">\n",
              "      <th></th>\n",
              "      <th>Entidad</th>\n",
              "      <th>Year</th>\n",
              "      <th>Mes</th>\n",
              "      <th>Precipitacion</th>\n",
              "    </tr>\n",
              "  </thead>\n",
              "  <tbody>\n",
              "    <tr>\n",
              "      <th>0</th>\n",
              "      <td>Aguascalientes</td>\n",
              "      <td>1985</td>\n",
              "      <td>Ene</td>\n",
              "      <td>4.914729</td>\n",
              "    </tr>\n",
              "    <tr>\n",
              "      <th>1</th>\n",
              "      <td>Baja California</td>\n",
              "      <td>1985</td>\n",
              "      <td>Ene</td>\n",
              "      <td>12.150562</td>\n",
              "    </tr>\n",
              "    <tr>\n",
              "      <th>2</th>\n",
              "      <td>Baja California Sur</td>\n",
              "      <td>1985</td>\n",
              "      <td>Ene</td>\n",
              "      <td>30.304723</td>\n",
              "    </tr>\n",
              "    <tr>\n",
              "      <th>3</th>\n",
              "      <td>Campeche</td>\n",
              "      <td>1985</td>\n",
              "      <td>Ene</td>\n",
              "      <td>20.943153</td>\n",
              "    </tr>\n",
              "    <tr>\n",
              "      <th>4</th>\n",
              "      <td>Coahuila</td>\n",
              "      <td>1985</td>\n",
              "      <td>Ene</td>\n",
              "      <td>40.714546</td>\n",
              "    </tr>\n",
              "    <tr>\n",
              "      <th>...</th>\n",
              "      <td>...</td>\n",
              "      <td>...</td>\n",
              "      <td>...</td>\n",
              "      <td>...</td>\n",
              "    </tr>\n",
              "    <tr>\n",
              "      <th>15637</th>\n",
              "      <td>Tlaxcala</td>\n",
              "      <td>2020</td>\n",
              "      <td>Anual</td>\n",
              "      <td>538.400000</td>\n",
              "    </tr>\n",
              "    <tr>\n",
              "      <th>15638</th>\n",
              "      <td>Veracruz</td>\n",
              "      <td>2020</td>\n",
              "      <td>Anual</td>\n",
              "      <td>1548.600000</td>\n",
              "    </tr>\n",
              "    <tr>\n",
              "      <th>15639</th>\n",
              "      <td>Yucatán</td>\n",
              "      <td>2020</td>\n",
              "      <td>Anual</td>\n",
              "      <td>1802.200000</td>\n",
              "    </tr>\n",
              "    <tr>\n",
              "      <th>15640</th>\n",
              "      <td>Zacatecas</td>\n",
              "      <td>2020</td>\n",
              "      <td>Anual</td>\n",
              "      <td>406.300000</td>\n",
              "    </tr>\n",
              "    <tr>\n",
              "      <th>15641</th>\n",
              "      <td>Nacional</td>\n",
              "      <td>2020</td>\n",
              "      <td>Anual</td>\n",
              "      <td>722.500000</td>\n",
              "    </tr>\n",
              "  </tbody>\n",
              "</table>\n",
              "<p>15642 rows × 4 columns</p>\n",
              "</div>"
            ],
            "text/plain": [
              "                   Entidad  Year    Mes  Precipitacion\n",
              "0           Aguascalientes  1985    Ene       4.914729\n",
              "1          Baja California  1985    Ene      12.150562\n",
              "2      Baja California Sur  1985    Ene      30.304723\n",
              "3                 Campeche  1985    Ene      20.943153\n",
              "4                 Coahuila  1985    Ene      40.714546\n",
              "...                    ...   ...    ...            ...\n",
              "15637             Tlaxcala  2020  Anual     538.400000\n",
              "15638             Veracruz  2020  Anual    1548.600000\n",
              "15639              Yucatán  2020  Anual    1802.200000\n",
              "15640            Zacatecas  2020  Anual     406.300000\n",
              "15641             Nacional  2020  Anual     722.500000\n",
              "\n",
              "[15642 rows x 4 columns]"
            ]
          },
          "metadata": {
            "tags": []
          },
          "execution_count": 162
        }
      ]
    },
    {
      "cell_type": "markdown",
      "metadata": {
        "id": "gnc5a9tpLkfH"
      },
      "source": [
        "Eliminamos los datos `Anual` para cada estado para tener solamente datos de `Enero`-`Diciembre` y así poder convertir la fecha a un formato adecuado. "
      ]
    },
    {
      "cell_type": "code",
      "metadata": {
        "colab": {
          "base_uri": "https://localhost:8080/",
          "height": 0
        },
        "id": "2zNpeiqbL1D9",
        "outputId": "0e921771-6b64-43ea-d2dd-b48633199614"
      },
      "source": [
        "df_precipitacion = df_precipitacion.loc[df_precipitacion['Mes'] != 'Anual']\n",
        "\n",
        "df_precipitacion"
      ],
      "execution_count": 163,
      "outputs": [
        {
          "output_type": "execute_result",
          "data": {
            "text/html": [
              "<div>\n",
              "<style scoped>\n",
              "    .dataframe tbody tr th:only-of-type {\n",
              "        vertical-align: middle;\n",
              "    }\n",
              "\n",
              "    .dataframe tbody tr th {\n",
              "        vertical-align: top;\n",
              "    }\n",
              "\n",
              "    .dataframe thead th {\n",
              "        text-align: right;\n",
              "    }\n",
              "</style>\n",
              "<table border=\"1\" class=\"dataframe\">\n",
              "  <thead>\n",
              "    <tr style=\"text-align: right;\">\n",
              "      <th></th>\n",
              "      <th>Entidad</th>\n",
              "      <th>Year</th>\n",
              "      <th>Mes</th>\n",
              "      <th>Precipitacion</th>\n",
              "    </tr>\n",
              "  </thead>\n",
              "  <tbody>\n",
              "    <tr>\n",
              "      <th>0</th>\n",
              "      <td>Aguascalientes</td>\n",
              "      <td>1985</td>\n",
              "      <td>Ene</td>\n",
              "      <td>4.914729</td>\n",
              "    </tr>\n",
              "    <tr>\n",
              "      <th>1</th>\n",
              "      <td>Baja California</td>\n",
              "      <td>1985</td>\n",
              "      <td>Ene</td>\n",
              "      <td>12.150562</td>\n",
              "    </tr>\n",
              "    <tr>\n",
              "      <th>2</th>\n",
              "      <td>Baja California Sur</td>\n",
              "      <td>1985</td>\n",
              "      <td>Ene</td>\n",
              "      <td>30.304723</td>\n",
              "    </tr>\n",
              "    <tr>\n",
              "      <th>3</th>\n",
              "      <td>Campeche</td>\n",
              "      <td>1985</td>\n",
              "      <td>Ene</td>\n",
              "      <td>20.943153</td>\n",
              "    </tr>\n",
              "    <tr>\n",
              "      <th>4</th>\n",
              "      <td>Coahuila</td>\n",
              "      <td>1985</td>\n",
              "      <td>Ene</td>\n",
              "      <td>40.714546</td>\n",
              "    </tr>\n",
              "    <tr>\n",
              "      <th>...</th>\n",
              "      <td>...</td>\n",
              "      <td>...</td>\n",
              "      <td>...</td>\n",
              "      <td>...</td>\n",
              "    </tr>\n",
              "    <tr>\n",
              "      <th>14449</th>\n",
              "      <td>Tlaxcala</td>\n",
              "      <td>2020</td>\n",
              "      <td>Dic</td>\n",
              "      <td>0.600000</td>\n",
              "    </tr>\n",
              "    <tr>\n",
              "      <th>14450</th>\n",
              "      <td>Veracruz</td>\n",
              "      <td>2020</td>\n",
              "      <td>Dic</td>\n",
              "      <td>48.600000</td>\n",
              "    </tr>\n",
              "    <tr>\n",
              "      <th>14451</th>\n",
              "      <td>Yucatán</td>\n",
              "      <td>2020</td>\n",
              "      <td>Dic</td>\n",
              "      <td>51.600000</td>\n",
              "    </tr>\n",
              "    <tr>\n",
              "      <th>14452</th>\n",
              "      <td>Zacatecas</td>\n",
              "      <td>2020</td>\n",
              "      <td>Dic</td>\n",
              "      <td>7.200000</td>\n",
              "    </tr>\n",
              "    <tr>\n",
              "      <th>14453</th>\n",
              "      <td>Nacional</td>\n",
              "      <td>2020</td>\n",
              "      <td>Dic</td>\n",
              "      <td>17.000000</td>\n",
              "    </tr>\n",
              "  </tbody>\n",
              "</table>\n",
              "<p>14454 rows × 4 columns</p>\n",
              "</div>"
            ],
            "text/plain": [
              "                   Entidad  Year  Mes  Precipitacion\n",
              "0           Aguascalientes  1985  Ene       4.914729\n",
              "1          Baja California  1985  Ene      12.150562\n",
              "2      Baja California Sur  1985  Ene      30.304723\n",
              "3                 Campeche  1985  Ene      20.943153\n",
              "4                 Coahuila  1985  Ene      40.714546\n",
              "...                    ...   ...  ...            ...\n",
              "14449             Tlaxcala  2020  Dic       0.600000\n",
              "14450             Veracruz  2020  Dic      48.600000\n",
              "14451              Yucatán  2020  Dic      51.600000\n",
              "14452            Zacatecas  2020  Dic       7.200000\n",
              "14453             Nacional  2020  Dic      17.000000\n",
              "\n",
              "[14454 rows x 4 columns]"
            ]
          },
          "metadata": {
            "tags": []
          },
          "execution_count": 163
        }
      ]
    },
    {
      "cell_type": "markdown",
      "metadata": {
        "id": "1T3UO2IRMQzT"
      },
      "source": [
        "Comprobamos que solo tenemos datos de `Enero`-`Diciembre`:"
      ]
    },
    {
      "cell_type": "code",
      "metadata": {
        "colab": {
          "base_uri": "https://localhost:8080/"
        },
        "id": "jsbM6pBGMN3I",
        "outputId": "54d9c1f8-4aaa-404f-ff1a-587ce9f5beaf"
      },
      "source": [
        "df_precipitacion[\"Mes\"].unique()"
      ],
      "execution_count": 164,
      "outputs": [
        {
          "output_type": "execute_result",
          "data": {
            "text/plain": [
              "array(['Ene', 'Feb', 'Mar', 'Abr', 'May', 'Jun', 'Jul', 'Ago', 'Sep',\n",
              "       'Oct', 'Nov', 'Dic'], dtype=object)"
            ]
          },
          "metadata": {
            "tags": []
          },
          "execution_count": 164
        }
      ]
    },
    {
      "cell_type": "markdown",
      "metadata": {
        "id": "ESaKxS8HMa0Z"
      },
      "source": [
        "Modificamos los nombres mediante un diccionario y `map` para poder convertirlo a fecha con el formato `%Y%B`."
      ]
    },
    {
      "cell_type": "code",
      "metadata": {
        "colab": {
          "base_uri": "https://localhost:8080/"
        },
        "id": "YLENoqgWNNu-",
        "outputId": "fbb7e4ae-8632-4432-a55f-61814ef1e99c"
      },
      "source": [
        "df_precipitacion['Mes'] = df_precipitacion['Mes'].map(meses)"
      ],
      "execution_count": 165,
      "outputs": [
        {
          "output_type": "stream",
          "text": [
            "/usr/local/lib/python3.7/dist-packages/ipykernel_launcher.py:1: SettingWithCopyWarning: \n",
            "A value is trying to be set on a copy of a slice from a DataFrame.\n",
            "Try using .loc[row_indexer,col_indexer] = value instead\n",
            "\n",
            "See the caveats in the documentation: https://pandas.pydata.org/pandas-docs/stable/user_guide/indexing.html#returning-a-view-versus-a-copy\n",
            "  \"\"\"Entry point for launching an IPython kernel.\n"
          ],
          "name": "stderr"
        }
      ]
    },
    {
      "cell_type": "markdown",
      "metadata": {
        "id": "xTiJRbHbOeF0"
      },
      "source": [
        "Obtenemos una columna de fecha con el formato correcto utilizando `to_datetime`:"
      ]
    },
    {
      "cell_type": "code",
      "metadata": {
        "colab": {
          "base_uri": "https://localhost:8080/"
        },
        "id": "MRDxQ6iROlKr",
        "outputId": "e320a18b-c4ee-4ef4-af3f-2584a8bb0d16"
      },
      "source": [
        "df_precipitacion[\"Fecha\"]=pd.to_datetime(df_precipitacion['Year'].astype(str) + df_precipitacion['Mes'], format='%Y%B')"
      ],
      "execution_count": 166,
      "outputs": [
        {
          "output_type": "stream",
          "text": [
            "/usr/local/lib/python3.7/dist-packages/ipykernel_launcher.py:1: SettingWithCopyWarning: \n",
            "A value is trying to be set on a copy of a slice from a DataFrame.\n",
            "Try using .loc[row_indexer,col_indexer] = value instead\n",
            "\n",
            "See the caveats in the documentation: https://pandas.pydata.org/pandas-docs/stable/user_guide/indexing.html#returning-a-view-versus-a-copy\n",
            "  \"\"\"Entry point for launching an IPython kernel.\n"
          ],
          "name": "stderr"
        }
      ]
    },
    {
      "cell_type": "markdown",
      "metadata": {
        "id": "AocmH159O4nA"
      },
      "source": [
        "Eliminamos las columnas  `Year` y `Mes` y cambiamos el orden de las columnas."
      ]
    },
    {
      "cell_type": "code",
      "metadata": {
        "colab": {
          "base_uri": "https://localhost:8080/",
          "height": 0
        },
        "id": "ucHILoKAOykH",
        "outputId": "69d486e8-03fb-405a-f1e3-928ee8b66f09"
      },
      "source": [
        "df_precipitacion = df_precipitacion.drop([\"Year\",\"Mes\"], axis=1)\n",
        "\n",
        "df_precipitacion = df_precipitacion[[\"Entidad\",\"Fecha\",\"Precipitacion\"]]\n",
        "\n",
        "df_precipitacion"
      ],
      "execution_count": 167,
      "outputs": [
        {
          "output_type": "execute_result",
          "data": {
            "text/html": [
              "<div>\n",
              "<style scoped>\n",
              "    .dataframe tbody tr th:only-of-type {\n",
              "        vertical-align: middle;\n",
              "    }\n",
              "\n",
              "    .dataframe tbody tr th {\n",
              "        vertical-align: top;\n",
              "    }\n",
              "\n",
              "    .dataframe thead th {\n",
              "        text-align: right;\n",
              "    }\n",
              "</style>\n",
              "<table border=\"1\" class=\"dataframe\">\n",
              "  <thead>\n",
              "    <tr style=\"text-align: right;\">\n",
              "      <th></th>\n",
              "      <th>Entidad</th>\n",
              "      <th>Fecha</th>\n",
              "      <th>Precipitacion</th>\n",
              "    </tr>\n",
              "  </thead>\n",
              "  <tbody>\n",
              "    <tr>\n",
              "      <th>0</th>\n",
              "      <td>Aguascalientes</td>\n",
              "      <td>1985-01-01</td>\n",
              "      <td>4.914729</td>\n",
              "    </tr>\n",
              "    <tr>\n",
              "      <th>1</th>\n",
              "      <td>Baja California</td>\n",
              "      <td>1985-01-01</td>\n",
              "      <td>12.150562</td>\n",
              "    </tr>\n",
              "    <tr>\n",
              "      <th>2</th>\n",
              "      <td>Baja California Sur</td>\n",
              "      <td>1985-01-01</td>\n",
              "      <td>30.304723</td>\n",
              "    </tr>\n",
              "    <tr>\n",
              "      <th>3</th>\n",
              "      <td>Campeche</td>\n",
              "      <td>1985-01-01</td>\n",
              "      <td>20.943153</td>\n",
              "    </tr>\n",
              "    <tr>\n",
              "      <th>4</th>\n",
              "      <td>Coahuila</td>\n",
              "      <td>1985-01-01</td>\n",
              "      <td>40.714546</td>\n",
              "    </tr>\n",
              "    <tr>\n",
              "      <th>...</th>\n",
              "      <td>...</td>\n",
              "      <td>...</td>\n",
              "      <td>...</td>\n",
              "    </tr>\n",
              "    <tr>\n",
              "      <th>14449</th>\n",
              "      <td>Tlaxcala</td>\n",
              "      <td>2020-12-01</td>\n",
              "      <td>0.600000</td>\n",
              "    </tr>\n",
              "    <tr>\n",
              "      <th>14450</th>\n",
              "      <td>Veracruz</td>\n",
              "      <td>2020-12-01</td>\n",
              "      <td>48.600000</td>\n",
              "    </tr>\n",
              "    <tr>\n",
              "      <th>14451</th>\n",
              "      <td>Yucatán</td>\n",
              "      <td>2020-12-01</td>\n",
              "      <td>51.600000</td>\n",
              "    </tr>\n",
              "    <tr>\n",
              "      <th>14452</th>\n",
              "      <td>Zacatecas</td>\n",
              "      <td>2020-12-01</td>\n",
              "      <td>7.200000</td>\n",
              "    </tr>\n",
              "    <tr>\n",
              "      <th>14453</th>\n",
              "      <td>Nacional</td>\n",
              "      <td>2020-12-01</td>\n",
              "      <td>17.000000</td>\n",
              "    </tr>\n",
              "  </tbody>\n",
              "</table>\n",
              "<p>14454 rows × 3 columns</p>\n",
              "</div>"
            ],
            "text/plain": [
              "                   Entidad      Fecha  Precipitacion\n",
              "0           Aguascalientes 1985-01-01       4.914729\n",
              "1          Baja California 1985-01-01      12.150562\n",
              "2      Baja California Sur 1985-01-01      30.304723\n",
              "3                 Campeche 1985-01-01      20.943153\n",
              "4                 Coahuila 1985-01-01      40.714546\n",
              "...                    ...        ...            ...\n",
              "14449             Tlaxcala 2020-12-01       0.600000\n",
              "14450             Veracruz 2020-12-01      48.600000\n",
              "14451              Yucatán 2020-12-01      51.600000\n",
              "14452            Zacatecas 2020-12-01       7.200000\n",
              "14453             Nacional 2020-12-01      17.000000\n",
              "\n",
              "[14454 rows x 3 columns]"
            ]
          },
          "metadata": {
            "tags": []
          },
          "execution_count": 167
        }
      ]
    },
    {
      "cell_type": "markdown",
      "metadata": {
        "id": "HGXB4pgiQEmT"
      },
      "source": [
        "Finalmente, como los datos que tenemos de sequías son de Noviembre del 2002 hasta Junio del 2021, eliminamos los datos previos a este periodo. "
      ]
    },
    {
      "cell_type": "code",
      "metadata": {
        "colab": {
          "base_uri": "https://localhost:8080/",
          "height": 0
        },
        "id": "C_6S-qzRQS-O",
        "outputId": "24668c0e-6dbf-4b10-de0e-89e81efa4ae8"
      },
      "source": [
        "precipitacion = df_precipitacion[(df_precipitacion['Fecha'] > '2002-10-01')].sort_values(by=[\"Entidad\",\"Fecha\"])\n",
        "\n",
        "precipitacion.reset_index(drop=True,inplace=True)\n",
        "\n",
        "precipitacion"
      ],
      "execution_count": 168,
      "outputs": [
        {
          "output_type": "execute_result",
          "data": {
            "text/html": [
              "<div>\n",
              "<style scoped>\n",
              "    .dataframe tbody tr th:only-of-type {\n",
              "        vertical-align: middle;\n",
              "    }\n",
              "\n",
              "    .dataframe tbody tr th {\n",
              "        vertical-align: top;\n",
              "    }\n",
              "\n",
              "    .dataframe thead th {\n",
              "        text-align: right;\n",
              "    }\n",
              "</style>\n",
              "<table border=\"1\" class=\"dataframe\">\n",
              "  <thead>\n",
              "    <tr style=\"text-align: right;\">\n",
              "      <th></th>\n",
              "      <th>Entidad</th>\n",
              "      <th>Fecha</th>\n",
              "      <th>Precipitacion</th>\n",
              "    </tr>\n",
              "  </thead>\n",
              "  <tbody>\n",
              "    <tr>\n",
              "      <th>0</th>\n",
              "      <td>Aguascalientes</td>\n",
              "      <td>2002-11-01</td>\n",
              "      <td>19.2</td>\n",
              "    </tr>\n",
              "    <tr>\n",
              "      <th>1</th>\n",
              "      <td>Aguascalientes</td>\n",
              "      <td>2002-12-01</td>\n",
              "      <td>0.0</td>\n",
              "    </tr>\n",
              "    <tr>\n",
              "      <th>2</th>\n",
              "      <td>Aguascalientes</td>\n",
              "      <td>2003-01-01</td>\n",
              "      <td>4.9</td>\n",
              "    </tr>\n",
              "    <tr>\n",
              "      <th>3</th>\n",
              "      <td>Aguascalientes</td>\n",
              "      <td>2003-02-01</td>\n",
              "      <td>1.2</td>\n",
              "    </tr>\n",
              "    <tr>\n",
              "      <th>4</th>\n",
              "      <td>Aguascalientes</td>\n",
              "      <td>2003-03-01</td>\n",
              "      <td>0.0</td>\n",
              "    </tr>\n",
              "    <tr>\n",
              "      <th>...</th>\n",
              "      <td>...</td>\n",
              "      <td>...</td>\n",
              "      <td>...</td>\n",
              "    </tr>\n",
              "    <tr>\n",
              "      <th>7387</th>\n",
              "      <td>Zacatecas</td>\n",
              "      <td>2021-02-01</td>\n",
              "      <td>0.0</td>\n",
              "    </tr>\n",
              "    <tr>\n",
              "      <th>7388</th>\n",
              "      <td>Zacatecas</td>\n",
              "      <td>2021-03-01</td>\n",
              "      <td>0.0</td>\n",
              "    </tr>\n",
              "    <tr>\n",
              "      <th>7389</th>\n",
              "      <td>Zacatecas</td>\n",
              "      <td>2021-04-01</td>\n",
              "      <td>2.0</td>\n",
              "    </tr>\n",
              "    <tr>\n",
              "      <th>7390</th>\n",
              "      <td>Zacatecas</td>\n",
              "      <td>2021-05-01</td>\n",
              "      <td>17.0</td>\n",
              "    </tr>\n",
              "    <tr>\n",
              "      <th>7391</th>\n",
              "      <td>Zacatecas</td>\n",
              "      <td>2021-06-01</td>\n",
              "      <td>98.0</td>\n",
              "    </tr>\n",
              "  </tbody>\n",
              "</table>\n",
              "<p>7392 rows × 3 columns</p>\n",
              "</div>"
            ],
            "text/plain": [
              "             Entidad      Fecha  Precipitacion\n",
              "0     Aguascalientes 2002-11-01           19.2\n",
              "1     Aguascalientes 2002-12-01            0.0\n",
              "2     Aguascalientes 2003-01-01            4.9\n",
              "3     Aguascalientes 2003-02-01            1.2\n",
              "4     Aguascalientes 2003-03-01            0.0\n",
              "...              ...        ...            ...\n",
              "7387       Zacatecas 2021-02-01            0.0\n",
              "7388       Zacatecas 2021-03-01            0.0\n",
              "7389       Zacatecas 2021-04-01            2.0\n",
              "7390       Zacatecas 2021-05-01           17.0\n",
              "7391       Zacatecas 2021-06-01           98.0\n",
              "\n",
              "[7392 rows x 3 columns]"
            ]
          },
          "metadata": {
            "tags": []
          },
          "execution_count": 168
        }
      ]
    },
    {
      "cell_type": "markdown",
      "metadata": {
        "id": "Lhr3FNMRxLCe"
      },
      "source": [
        "Reemplazamos caracteres especiales:"
      ]
    },
    {
      "cell_type": "code",
      "metadata": {
        "id": "CZpEDKw2xNMA"
      },
      "source": [
        "precipitacion.replace(letras_acentos,regex=True, inplace=True)"
      ],
      "execution_count": 169,
      "outputs": []
    },
    {
      "cell_type": "code",
      "metadata": {
        "colab": {
          "base_uri": "https://localhost:8080/"
        },
        "id": "BzXvgjYWxVcC",
        "outputId": "94cf0087-0776-410e-a7af-c85ec7d54f55"
      },
      "source": [
        "precipitacion['Entidad'].unique()"
      ],
      "execution_count": 170,
      "outputs": [
        {
          "output_type": "execute_result",
          "data": {
            "text/plain": [
              "array(['Aguascalientes', 'Baja California', 'Baja California Sur',\n",
              "       'Campeche', 'Chiapas', 'Chihuahua', 'Ciudad De Mexico', 'Coahuila',\n",
              "       'Colima', 'Durango', 'Estado De Mexico', 'Guanajuato', 'Guerrero',\n",
              "       'Hidalgo', 'Jalisco', 'Michoacan', 'Morelos', 'Nacional',\n",
              "       'Nayarit', 'Nuevo Leon', 'Oaxaca', 'Puebla', 'Queretaro',\n",
              "       'Quintana Roo', 'San Luis Potosi', 'Sinaloa', 'Sonora', 'Tabasco',\n",
              "       'Tamaulipas', 'Tlaxcala', 'Veracruz', 'Yucatan', 'Zacatecas'],\n",
              "      dtype=object)"
            ]
          },
          "metadata": {
            "tags": []
          },
          "execution_count": 170
        }
      ]
    },
    {
      "cell_type": "markdown",
      "metadata": {
        "id": "OgGGg4qYtMYl"
      },
      "source": [
        "#### Unión de los dataframes"
      ]
    },
    {
      "cell_type": "markdown",
      "metadata": {
        "id": "x7Lla8FtU0ZO"
      },
      "source": [
        "La unión de los datos se debe realizar utilizando la Fecha y la Entidad. Comenzamos con los datos de temperatura y precipitación:"
      ]
    },
    {
      "cell_type": "code",
      "metadata": {
        "colab": {
          "base_uri": "https://localhost:8080/",
          "height": 0
        },
        "id": "PpDiWliPmD9C",
        "outputId": "eea926ee-6e9d-4692-b824-f1b9505548aa"
      },
      "source": [
        "temperatura_precipitacion = pd.merge(temperatura, precipitacion, how='right', on=['Fecha','Entidad'])\n",
        "temperatura_precipitacion"
      ],
      "execution_count": 171,
      "outputs": [
        {
          "output_type": "execute_result",
          "data": {
            "text/html": [
              "<div>\n",
              "<style scoped>\n",
              "    .dataframe tbody tr th:only-of-type {\n",
              "        vertical-align: middle;\n",
              "    }\n",
              "\n",
              "    .dataframe tbody tr th {\n",
              "        vertical-align: top;\n",
              "    }\n",
              "\n",
              "    .dataframe thead th {\n",
              "        text-align: right;\n",
              "    }\n",
              "</style>\n",
              "<table border=\"1\" class=\"dataframe\">\n",
              "  <thead>\n",
              "    <tr style=\"text-align: right;\">\n",
              "      <th></th>\n",
              "      <th>Entidad</th>\n",
              "      <th>Fecha</th>\n",
              "      <th>Temperatura</th>\n",
              "      <th>Precipitacion</th>\n",
              "    </tr>\n",
              "  </thead>\n",
              "  <tbody>\n",
              "    <tr>\n",
              "      <th>0</th>\n",
              "      <td>Aguascalientes</td>\n",
              "      <td>2002-11-01</td>\n",
              "      <td>18.000000</td>\n",
              "      <td>19.2</td>\n",
              "    </tr>\n",
              "    <tr>\n",
              "      <th>1</th>\n",
              "      <td>Aguascalientes</td>\n",
              "      <td>2002-12-01</td>\n",
              "      <td>14.200000</td>\n",
              "      <td>0.0</td>\n",
              "    </tr>\n",
              "    <tr>\n",
              "      <th>2</th>\n",
              "      <td>Aguascalientes</td>\n",
              "      <td>2003-01-01</td>\n",
              "      <td>12.743166</td>\n",
              "      <td>4.9</td>\n",
              "    </tr>\n",
              "    <tr>\n",
              "      <th>3</th>\n",
              "      <td>Aguascalientes</td>\n",
              "      <td>2003-02-01</td>\n",
              "      <td>15.105630</td>\n",
              "      <td>1.2</td>\n",
              "    </tr>\n",
              "    <tr>\n",
              "      <th>4</th>\n",
              "      <td>Aguascalientes</td>\n",
              "      <td>2003-03-01</td>\n",
              "      <td>16.570585</td>\n",
              "      <td>0.0</td>\n",
              "    </tr>\n",
              "    <tr>\n",
              "      <th>...</th>\n",
              "      <td>...</td>\n",
              "      <td>...</td>\n",
              "      <td>...</td>\n",
              "      <td>...</td>\n",
              "    </tr>\n",
              "    <tr>\n",
              "      <th>7387</th>\n",
              "      <td>Zacatecas</td>\n",
              "      <td>2021-02-01</td>\n",
              "      <td>15.500000</td>\n",
              "      <td>0.0</td>\n",
              "    </tr>\n",
              "    <tr>\n",
              "      <th>7388</th>\n",
              "      <td>Zacatecas</td>\n",
              "      <td>2021-03-01</td>\n",
              "      <td>18.200000</td>\n",
              "      <td>0.0</td>\n",
              "    </tr>\n",
              "    <tr>\n",
              "      <th>7389</th>\n",
              "      <td>Zacatecas</td>\n",
              "      <td>2021-04-01</td>\n",
              "      <td>19.900000</td>\n",
              "      <td>2.0</td>\n",
              "    </tr>\n",
              "    <tr>\n",
              "      <th>7390</th>\n",
              "      <td>Zacatecas</td>\n",
              "      <td>2021-05-01</td>\n",
              "      <td>21.600000</td>\n",
              "      <td>17.0</td>\n",
              "    </tr>\n",
              "    <tr>\n",
              "      <th>7391</th>\n",
              "      <td>Zacatecas</td>\n",
              "      <td>2021-06-01</td>\n",
              "      <td>21.200000</td>\n",
              "      <td>98.0</td>\n",
              "    </tr>\n",
              "  </tbody>\n",
              "</table>\n",
              "<p>7392 rows × 4 columns</p>\n",
              "</div>"
            ],
            "text/plain": [
              "             Entidad      Fecha  Temperatura  Precipitacion\n",
              "0     Aguascalientes 2002-11-01    18.000000           19.2\n",
              "1     Aguascalientes 2002-12-01    14.200000            0.0\n",
              "2     Aguascalientes 2003-01-01    12.743166            4.9\n",
              "3     Aguascalientes 2003-02-01    15.105630            1.2\n",
              "4     Aguascalientes 2003-03-01    16.570585            0.0\n",
              "...              ...        ...          ...            ...\n",
              "7387       Zacatecas 2021-02-01    15.500000            0.0\n",
              "7388       Zacatecas 2021-03-01    18.200000            0.0\n",
              "7389       Zacatecas 2021-04-01    19.900000            2.0\n",
              "7390       Zacatecas 2021-05-01    21.600000           17.0\n",
              "7391       Zacatecas 2021-06-01    21.200000           98.0\n",
              "\n",
              "[7392 rows x 4 columns]"
            ]
          },
          "metadata": {
            "tags": []
          },
          "execution_count": 171
        }
      ]
    },
    {
      "cell_type": "markdown",
      "metadata": {
        "id": "I0dBF-UJXZCm"
      },
      "source": [
        "Ahora, se unirá el resultado de la unión anterior con los datos de sequía, sin embargo, debido a que los datos de sequía tienen información del día se debe realizar la unión utilizando el mes y el año de los datos además de la entidad. Por ello se define la columa mes_anio al momento de realizar la unión. "
      ]
    },
    {
      "cell_type": "code",
      "metadata": {
        "id": "7CMA-q7mrjc_",
        "colab": {
          "base_uri": "https://localhost:8080/"
        },
        "outputId": "0cbbe3a8-bfa9-46a1-d94e-44fe6274e892"
      },
      "source": [
        "temp_pre_seq = pd.merge(df_sequias.assign(mes_anio=df_sequias['Date'].dt.to_period('M')), \n",
        "                        temperatura_precipitacion.assign(mes_anio=temperatura_precipitacion['Fecha'].dt.to_period('M')), how='right', on=['Entidad','mes_anio'])\n",
        "temp_pre_seq.columns"
      ],
      "execution_count": 172,
      "outputs": [
        {
          "output_type": "execute_result",
          "data": {
            "text/plain": [
              "Index(['Date', 'Entidad', 'D0', 'D1', 'D2', 'D3', 'D4',\n",
              "       'Area_total_afectada_sequias', 'mes_anio', 'Fecha', 'Temperatura',\n",
              "       'Precipitacion'],\n",
              "      dtype='object')"
            ]
          },
          "metadata": {
            "tags": []
          },
          "execution_count": 172
        }
      ]
    },
    {
      "cell_type": "markdown",
      "metadata": {
        "id": "HXeuYM1WX2HP"
      },
      "source": [
        "Eliminamos los na que corresponden a los datos nacionales. "
      ]
    },
    {
      "cell_type": "code",
      "metadata": {
        "id": "UQGYNaEjQ3En"
      },
      "source": [
        "temp_pre_seq.dropna(inplace=True)\n",
        "temp_pre_seq.reset_index(drop=True,inplace=True)"
      ],
      "execution_count": 173,
      "outputs": []
    },
    {
      "cell_type": "markdown",
      "metadata": {
        "id": "2v-zbmPIX5vu"
      },
      "source": [
        "Finalmente se unen con los datos de estrés utilizando la misma columna mes_anio que se creó en la unión anterior."
      ]
    },
    {
      "cell_type": "code",
      "metadata": {
        "id": "NviciFNYM3kM",
        "colab": {
          "base_uri": "https://localhost:8080/"
        },
        "outputId": "ae5fd3c3-5e6a-415a-a7b8-6a836d090a72"
      },
      "source": [
        "data_merge_clean = pd.merge(IEA.assign(mes_anio=IEA['Fecha'].dt.to_period('M')), temp_pre_seq, how='right', on=['Entidad','mes_anio'])\n",
        "data_merge_clean.columns"
      ],
      "execution_count": 174,
      "outputs": [
        {
          "output_type": "execute_result",
          "data": {
            "text/plain": [
              "Index(['Entidad', 'Fecha_x', 'IEA', 'mes_anio', 'Date', 'D0', 'D1', 'D2', 'D3',\n",
              "       'D4', 'Area_total_afectada_sequias', 'Fecha_y', 'Temperatura',\n",
              "       'Precipitacion'],\n",
              "      dtype='object')"
            ]
          },
          "metadata": {
            "tags": []
          },
          "execution_count": 174
        }
      ]
    },
    {
      "cell_type": "markdown",
      "metadata": {
        "id": "Lf1ATh3RYDxH"
      },
      "source": [
        "Eliminamos las columnas que no nos sirven y reordenamos:"
      ]
    },
    {
      "cell_type": "code",
      "metadata": {
        "id": "4tIwYQmFPsYJ"
      },
      "source": [
        "data_merge_clean = data_merge_clean[[\"Entidad\",\"Fecha_y\",\"Temperatura\",\"Precipitacion\",\"D0\",\"D1\",\"D2\",\"D3\",\"D4\",\"Area_total_afectada_sequias\",\"IEA\"]]\n",
        "data_merge_clean.rename(columns={'Fecha_y':'Fecha'},inplace=True)"
      ],
      "execution_count": 175,
      "outputs": []
    },
    {
      "cell_type": "code",
      "metadata": {
        "colab": {
          "base_uri": "https://localhost:8080/"
        },
        "id": "sxk-mrCaYKOv",
        "outputId": "25c7e2b2-f2fe-4855-9196-2422bd2eebe8"
      },
      "source": [
        "data_merge_clean.info()"
      ],
      "execution_count": 176,
      "outputs": [
        {
          "output_type": "stream",
          "text": [
            "<class 'pandas.core.frame.DataFrame'>\n",
            "Int64Index: 7168 entries, 0 to 7167\n",
            "Data columns (total 11 columns):\n",
            " #   Column                       Non-Null Count  Dtype         \n",
            "---  ------                       --------------  -----         \n",
            " 0   Entidad                      7168 non-null   object        \n",
            " 1   Fecha                        7168 non-null   datetime64[ns]\n",
            " 2   Temperatura                  7168 non-null   float64       \n",
            " 3   Precipitacion                7168 non-null   float64       \n",
            " 4   D0                           7168 non-null   float64       \n",
            " 5   D1                           7168 non-null   float64       \n",
            " 6   D2                           7168 non-null   float64       \n",
            " 7   D3                           7168 non-null   float64       \n",
            " 8   D4                           7168 non-null   float64       \n",
            " 9   Area_total_afectada_sequias  7168 non-null   float64       \n",
            " 10  IEA                          6919 non-null   float64       \n",
            "dtypes: datetime64[ns](1), float64(9), object(1)\n",
            "memory usage: 672.0+ KB\n"
          ],
          "name": "stdout"
        }
      ]
    },
    {
      "cell_type": "markdown",
      "metadata": {
        "id": "UCqafPO7OOMZ"
      },
      "source": [
        "Finalmente guardamos el dataset final generado."
      ]
    },
    {
      "cell_type": "code",
      "metadata": {
        "id": "MNX5FXnAPsmG",
        "colab": {
          "base_uri": "https://localhost:8080/",
          "height": 0
        },
        "outputId": "cbc3666e-3b69-4b58-b2fe-0c07cc752ca2"
      },
      "source": [
        "data_merge_clean.to_csv(\"Data_Proyecto_clean.csv\", index=False)\n",
        "data_merge_clean"
      ],
      "execution_count": 177,
      "outputs": [
        {
          "output_type": "execute_result",
          "data": {
            "text/html": [
              "<div>\n",
              "<style scoped>\n",
              "    .dataframe tbody tr th:only-of-type {\n",
              "        vertical-align: middle;\n",
              "    }\n",
              "\n",
              "    .dataframe tbody tr th {\n",
              "        vertical-align: top;\n",
              "    }\n",
              "\n",
              "    .dataframe thead th {\n",
              "        text-align: right;\n",
              "    }\n",
              "</style>\n",
              "<table border=\"1\" class=\"dataframe\">\n",
              "  <thead>\n",
              "    <tr style=\"text-align: right;\">\n",
              "      <th></th>\n",
              "      <th>Entidad</th>\n",
              "      <th>Fecha</th>\n",
              "      <th>Temperatura</th>\n",
              "      <th>Precipitacion</th>\n",
              "      <th>D0</th>\n",
              "      <th>D1</th>\n",
              "      <th>D2</th>\n",
              "      <th>D3</th>\n",
              "      <th>D4</th>\n",
              "      <th>Area_total_afectada_sequias</th>\n",
              "      <th>IEA</th>\n",
              "    </tr>\n",
              "  </thead>\n",
              "  <tbody>\n",
              "    <tr>\n",
              "      <th>0</th>\n",
              "      <td>Aguascalientes</td>\n",
              "      <td>2002-11-01</td>\n",
              "      <td>18.000000</td>\n",
              "      <td>19.2</td>\n",
              "      <td>0.00</td>\n",
              "      <td>0.00</td>\n",
              "      <td>0.00</td>\n",
              "      <td>0.00</td>\n",
              "      <td>0.0</td>\n",
              "      <td>0.00</td>\n",
              "      <td>0.000000</td>\n",
              "    </tr>\n",
              "    <tr>\n",
              "      <th>1</th>\n",
              "      <td>Aguascalientes</td>\n",
              "      <td>2002-12-01</td>\n",
              "      <td>14.200000</td>\n",
              "      <td>0.0</td>\n",
              "      <td>0.00</td>\n",
              "      <td>0.00</td>\n",
              "      <td>0.00</td>\n",
              "      <td>0.00</td>\n",
              "      <td>0.0</td>\n",
              "      <td>0.00</td>\n",
              "      <td>0.000000</td>\n",
              "    </tr>\n",
              "    <tr>\n",
              "      <th>2</th>\n",
              "      <td>Aguascalientes</td>\n",
              "      <td>2003-01-01</td>\n",
              "      <td>12.743166</td>\n",
              "      <td>4.9</td>\n",
              "      <td>0.00</td>\n",
              "      <td>0.00</td>\n",
              "      <td>0.00</td>\n",
              "      <td>0.00</td>\n",
              "      <td>0.0</td>\n",
              "      <td>0.00</td>\n",
              "      <td>0.000000</td>\n",
              "    </tr>\n",
              "    <tr>\n",
              "      <th>3</th>\n",
              "      <td>Aguascalientes</td>\n",
              "      <td>2003-02-01</td>\n",
              "      <td>15.105630</td>\n",
              "      <td>1.2</td>\n",
              "      <td>0.00</td>\n",
              "      <td>0.00</td>\n",
              "      <td>0.00</td>\n",
              "      <td>0.00</td>\n",
              "      <td>0.0</td>\n",
              "      <td>0.00</td>\n",
              "      <td>0.000000</td>\n",
              "    </tr>\n",
              "    <tr>\n",
              "      <th>4</th>\n",
              "      <td>Aguascalientes</td>\n",
              "      <td>2003-03-01</td>\n",
              "      <td>16.570585</td>\n",
              "      <td>0.0</td>\n",
              "      <td>0.00</td>\n",
              "      <td>0.00</td>\n",
              "      <td>0.00</td>\n",
              "      <td>0.00</td>\n",
              "      <td>0.0</td>\n",
              "      <td>0.00</td>\n",
              "      <td>4.482667</td>\n",
              "    </tr>\n",
              "    <tr>\n",
              "      <th>...</th>\n",
              "      <td>...</td>\n",
              "      <td>...</td>\n",
              "      <td>...</td>\n",
              "      <td>...</td>\n",
              "      <td>...</td>\n",
              "      <td>...</td>\n",
              "      <td>...</td>\n",
              "      <td>...</td>\n",
              "      <td>...</td>\n",
              "      <td>...</td>\n",
              "      <td>...</td>\n",
              "    </tr>\n",
              "    <tr>\n",
              "      <th>7163</th>\n",
              "      <td>Zacatecas</td>\n",
              "      <td>2021-02-01</td>\n",
              "      <td>15.500000</td>\n",
              "      <td>0.0</td>\n",
              "      <td>13.93</td>\n",
              "      <td>47.44</td>\n",
              "      <td>38.63</td>\n",
              "      <td>0.00</td>\n",
              "      <td>0.0</td>\n",
              "      <td>100.00</td>\n",
              "      <td>100.000000</td>\n",
              "    </tr>\n",
              "    <tr>\n",
              "      <th>7164</th>\n",
              "      <td>Zacatecas</td>\n",
              "      <td>2021-03-01</td>\n",
              "      <td>18.200000</td>\n",
              "      <td>0.0</td>\n",
              "      <td>0.00</td>\n",
              "      <td>28.98</td>\n",
              "      <td>61.61</td>\n",
              "      <td>9.41</td>\n",
              "      <td>0.0</td>\n",
              "      <td>100.00</td>\n",
              "      <td>100.000000</td>\n",
              "    </tr>\n",
              "    <tr>\n",
              "      <th>7165</th>\n",
              "      <td>Zacatecas</td>\n",
              "      <td>2021-04-01</td>\n",
              "      <td>19.900000</td>\n",
              "      <td>2.0</td>\n",
              "      <td>0.00</td>\n",
              "      <td>16.86</td>\n",
              "      <td>47.52</td>\n",
              "      <td>35.62</td>\n",
              "      <td>0.0</td>\n",
              "      <td>100.00</td>\n",
              "      <td>30.952333</td>\n",
              "    </tr>\n",
              "    <tr>\n",
              "      <th>7166</th>\n",
              "      <td>Zacatecas</td>\n",
              "      <td>2021-05-01</td>\n",
              "      <td>21.600000</td>\n",
              "      <td>17.0</td>\n",
              "      <td>0.00</td>\n",
              "      <td>6.50</td>\n",
              "      <td>63.99</td>\n",
              "      <td>29.51</td>\n",
              "      <td>0.0</td>\n",
              "      <td>100.00</td>\n",
              "      <td>34.826667</td>\n",
              "    </tr>\n",
              "    <tr>\n",
              "      <th>7167</th>\n",
              "      <td>Zacatecas</td>\n",
              "      <td>2021-06-01</td>\n",
              "      <td>21.200000</td>\n",
              "      <td>98.0</td>\n",
              "      <td>25.16</td>\n",
              "      <td>33.96</td>\n",
              "      <td>10.98</td>\n",
              "      <td>6.83</td>\n",
              "      <td>0.0</td>\n",
              "      <td>76.93</td>\n",
              "      <td>25.269000</td>\n",
              "    </tr>\n",
              "  </tbody>\n",
              "</table>\n",
              "<p>7168 rows × 11 columns</p>\n",
              "</div>"
            ],
            "text/plain": [
              "             Entidad      Fecha  ...  Area_total_afectada_sequias         IEA\n",
              "0     Aguascalientes 2002-11-01  ...                         0.00    0.000000\n",
              "1     Aguascalientes 2002-12-01  ...                         0.00    0.000000\n",
              "2     Aguascalientes 2003-01-01  ...                         0.00    0.000000\n",
              "3     Aguascalientes 2003-02-01  ...                         0.00    0.000000\n",
              "4     Aguascalientes 2003-03-01  ...                         0.00    4.482667\n",
              "...              ...        ...  ...                          ...         ...\n",
              "7163       Zacatecas 2021-02-01  ...                       100.00  100.000000\n",
              "7164       Zacatecas 2021-03-01  ...                       100.00  100.000000\n",
              "7165       Zacatecas 2021-04-01  ...                       100.00   30.952333\n",
              "7166       Zacatecas 2021-05-01  ...                       100.00   34.826667\n",
              "7167       Zacatecas 2021-06-01  ...                        76.93   25.269000\n",
              "\n",
              "[7168 rows x 11 columns]"
            ]
          },
          "metadata": {
            "tags": []
          },
          "execution_count": 177
        }
      ]
    },
    {
      "cell_type": "markdown",
      "metadata": {
        "id": "ENo31RyrMwOp"
      },
      "source": [
        "## Hallazgos"
      ]
    },
    {
      "cell_type": "markdown",
      "metadata": {
        "id": "xLnRdG77ozPJ"
      },
      "source": [
        "Los datos han sido aglomerados y limpiados, ahora, es momento de responder algunas preguntas planteadas al inicio.\n",
        "\n",
        "Para ello, primero aplicamos el filtro de los datos que vamos a evaluar en estas preguntas en particular, es decir, el periodo de 2003 a 2020."
      ]
    },
    {
      "cell_type": "code",
      "metadata": {
        "id": "p_1R_oOGInq3"
      },
      "source": [
        "data_preguntas = data_merge_clean[(data_merge_clean['Fecha'] > '2002-12-01') & (data_merge_clean['Fecha']<'2021-01-01')]"
      ],
      "execution_count": 178,
      "outputs": []
    },
    {
      "cell_type": "markdown",
      "metadata": {
        "id": "orj68rUMrHdv"
      },
      "source": [
        "#### ¿El área afectada por las sequías está incrementando a lo largo del tiempo?"
      ]
    },
    {
      "cell_type": "code",
      "metadata": {
        "id": "d_VBIZ0SpCu0",
        "colab": {
          "base_uri": "https://localhost:8080/",
          "height": 0
        },
        "outputId": "9c737b35-6d71-4fae-fcc5-7e56a3b0ed7e"
      },
      "source": [
        "anual = data_preguntas.groupby(data_preguntas['Fecha'].dt.year)['Area_total_afectada_sequias'].mean().to_frame()\n",
        "\n",
        "plt.figure(figsize = (10, 5))\n",
        "plt.bar(anual.index,anual['Area_total_afectada_sequias'])\n",
        "plt.xticks(range(2003,2021,1),rotation=90)\n",
        "plt.xlabel('Año')\n",
        "plt.ylabel('Área Afectada [%]')\n",
        "plt.title('Promedio de área afectada por año')"
      ],
      "execution_count": 179,
      "outputs": [
        {
          "output_type": "execute_result",
          "data": {
            "text/plain": [
              "Text(0.5, 1.0, 'Promedio de área afectada por año')"
            ]
          },
          "metadata": {
            "tags": []
          },
          "execution_count": 179
        },
        {
          "output_type": "display_data",
          "data": {
            "image/png": "[encoded data removed]",
            "text/plain": [
              "<Figure size 720x360 with 1 Axes>"
            ]
          },
          "metadata": {
            "tags": [],
            "needs_background": "light"
          }
        }
      ]
    },
    {
      "cell_type": "markdown",
      "metadata": {
        "id": "XExRLn39FjqC"
      },
      "source": [
        "Podemos observar que el porcentaje promediado de área afectada por sequías no presenta una tendencia fija; durante el periodo de 2003 a 2009, presentaba un incremento; pero al parecer durante el 2010 hubo una menor cantidad de área afectada, aunque para el 2011 ésta se duplicó y de ahí volvió a mostrar una tendencia ascendente aunque sin rebasando el pico de años pasados. \n"
      ]
    },
    {
      "cell_type": "markdown",
      "metadata": {
        "id": "UevpgLbGIDnc"
      },
      "source": [
        "#### ¿Qué estados han tenido el mayor porcentaje de área afectada por las sequías? \n"
      ]
    },
    {
      "cell_type": "code",
      "metadata": {
        "colab": {
          "base_uri": "https://localhost:8080/",
          "height": 0
        },
        "id": "hLYd5EbXIDnd",
        "outputId": "cb8f6812-8144-431a-869c-120e99127060"
      },
      "source": [
        "datos_estados = data_preguntas.groupby('Entidad')['Area_total_afectada_sequias'].mean().sort_values(ascending=False).to_frame()\n",
        "\n",
        "plt.figure(figsize = (10, 5))\n",
        "plt.bar(datos_estados.index,datos_estados['Area_total_afectada_sequias'])\n",
        "plt.xticks(rotation=90)\n",
        "plt.xlabel('Estado')\n",
        "plt.ylabel('Área Afectada [%]')\n",
        "plt.title('Promedio de área afectada por estado (2002-2020)')"
      ],
      "execution_count": 180,
      "outputs": [
        {
          "output_type": "execute_result",
          "data": {
            "text/plain": [
              "Text(0.5, 1.0, 'Promedio de área afectada por estado (2002-2020)')"
            ]
          },
          "metadata": {
            "tags": []
          },
          "execution_count": 180
        },
        {
          "output_type": "display_data",
          "data": {
            "image/png": "[encoded data removed]",
            "text/plain": [
              "<Figure size 720x360 with 1 Axes>"
            ]
          },
          "metadata": {
            "tags": [],
            "needs_background": "light"
          }
        }
      ]
    },
    {
      "cell_type": "markdown",
      "metadata": {
        "id": "koNj70XAIDnf"
      },
      "source": [
        "Se puede apreciar que los tres primeros estados donde existe una mayor área afectada son estados del noroeste del país como son Sonora y Sinaloa, además de Michoacán, y por el otro extremo, los estados con menor área promedio afectada son estados del centro del país: Zacatecas, Morelos y Aguascalientes. \n"
      ]
    },
    {
      "cell_type": "markdown",
      "metadata": {
        "id": "87GOyYJpyeHA"
      },
      "source": [
        "#### ¿Cómo ha evolucionado el promedio mensual de precipitaciones a lo largo de los diferentes estados de nuestro país? "
      ]
    },
    {
      "cell_type": "code",
      "metadata": {
        "colab": {
          "base_uri": "https://localhost:8080/",
          "height": 0
        },
        "id": "4Q40D0ZiyfJX",
        "outputId": "b2961085-04a9-414c-d7ac-b07e541f11eb"
      },
      "source": [
        "h = sns.FacetGrid(data_preguntas, col='Entidad', col_wrap=8, height=3.5, aspect=.65)\n",
        "h.map(plt.plot, 'Fecha', 'Precipitacion')\n",
        "h.set_xticklabels(rotation=90)\n",
        "h.fig.subplots_adjust(top=0.93)\n",
        "h.fig.suptitle('Precipitaciones por Estado (2002-2020)', fontsize=14)"
      ],
      "execution_count": 181,
      "outputs": [
        {
          "output_type": "execute_result",
          "data": {
            "text/plain": [
              "Text(0.5, 0.98, 'Precipitaciones por Estado (2002-2020)')"
            ]
          },
          "metadata": {
            "tags": []
          },
          "execution_count": 181
        },
        {
          "output_type": "display_data",
          "data": {
            "image/png": "[encoded data removed]",
            "text/plain": [
              "<Figure size 1310.4x1008 with 32 Axes>"
            ]
          },
          "metadata": {
            "tags": [],
            "needs_background": "light"
          }
        }
      ]
    },
    {
      "cell_type": "markdown",
      "metadata": {
        "id": "KQ9ObSxLMNjK"
      },
      "source": [
        "A raíz de los datos observados se puede notar que los estados con mayores precipitaciones son Tabasco, Chiapas y Veracruz; Morelos por su parte, ha tenido un gran incremento a lo largo de los años, por otro lado, Baja California, Coahuila y Sonora presentan menores precipitaciones. A partir de lo anterior podemos inferir que en los climas húmedos como es gran parte del centro y sur del país llueve en mayor frecuencia, mientras que la región norte, compuesta por climas áridos y semi áridos, las precipitaciones son más escasas, lo que pudiera magnificar el impacto de la sequía, pues la cantidad de agua a disposición de la población es más reducida."
      ]
    },
    {
      "cell_type": "markdown",
      "metadata": {
        "id": "nTqDGTWmOm73"
      },
      "source": [
        "#### ¿Cuáles son los estados con un mayor índice de estrés agrícola en los últimos años? \n",
        "\n"
      ]
    },
    {
      "cell_type": "code",
      "metadata": {
        "colab": {
          "base_uri": "https://localhost:8080/",
          "height": 0
        },
        "id": "KV19zabpMx1C",
        "outputId": "748d704a-c34d-48ea-f864-b690f0346c8f"
      },
      "source": [
        "data_preguntas.groupby('Entidad')['IEA'].mean().sort_values(ascending=False).to_frame()"
      ],
      "execution_count": 182,
      "outputs": [
        {
          "output_type": "execute_result",
          "data": {
            "text/html": [
              "<div>\n",
              "<style scoped>\n",
              "    .dataframe tbody tr th:only-of-type {\n",
              "        vertical-align: middle;\n",
              "    }\n",
              "\n",
              "    .dataframe tbody tr th {\n",
              "        vertical-align: top;\n",
              "    }\n",
              "\n",
              "    .dataframe thead th {\n",
              "        text-align: right;\n",
              "    }\n",
              "</style>\n",
              "<table border=\"1\" class=\"dataframe\">\n",
              "  <thead>\n",
              "    <tr style=\"text-align: right;\">\n",
              "      <th></th>\n",
              "      <th>IEA</th>\n",
              "    </tr>\n",
              "    <tr>\n",
              "      <th>Entidad</th>\n",
              "      <th></th>\n",
              "    </tr>\n",
              "  </thead>\n",
              "  <tbody>\n",
              "    <tr>\n",
              "      <th>Baja California Sur</th>\n",
              "      <td>32.037986</td>\n",
              "    </tr>\n",
              "    <tr>\n",
              "      <th>Baja California</th>\n",
              "      <td>20.250981</td>\n",
              "    </tr>\n",
              "    <tr>\n",
              "      <th>Sonora</th>\n",
              "      <td>19.663633</td>\n",
              "    </tr>\n",
              "    <tr>\n",
              "      <th>Coahuila</th>\n",
              "      <td>16.233978</td>\n",
              "    </tr>\n",
              "    <tr>\n",
              "      <th>Zacatecas</th>\n",
              "      <td>15.977412</td>\n",
              "    </tr>\n",
              "    <tr>\n",
              "      <th>Chihuahua</th>\n",
              "      <td>15.733659</td>\n",
              "    </tr>\n",
              "    <tr>\n",
              "      <th>Aguascalientes</th>\n",
              "      <td>15.461893</td>\n",
              "    </tr>\n",
              "    <tr>\n",
              "      <th>Durango</th>\n",
              "      <td>15.099427</td>\n",
              "    </tr>\n",
              "    <tr>\n",
              "      <th>Quintana Roo</th>\n",
              "      <td>14.795625</td>\n",
              "    </tr>\n",
              "    <tr>\n",
              "      <th>Queretaro</th>\n",
              "      <td>14.570457</td>\n",
              "    </tr>\n",
              "    <tr>\n",
              "      <th>Nayarit</th>\n",
              "      <td>13.321447</td>\n",
              "    </tr>\n",
              "    <tr>\n",
              "      <th>Ciudad De Mexico</th>\n",
              "      <td>13.240715</td>\n",
              "    </tr>\n",
              "    <tr>\n",
              "      <th>Sinaloa</th>\n",
              "      <td>12.987028</td>\n",
              "    </tr>\n",
              "    <tr>\n",
              "      <th>Guanajuato</th>\n",
              "      <td>12.802545</td>\n",
              "    </tr>\n",
              "    <tr>\n",
              "      <th>Colima</th>\n",
              "      <td>11.666824</td>\n",
              "    </tr>\n",
              "    <tr>\n",
              "      <th>Tlaxcala</th>\n",
              "      <td>11.364865</td>\n",
              "    </tr>\n",
              "    <tr>\n",
              "      <th>Yucatan</th>\n",
              "      <td>9.891314</td>\n",
              "    </tr>\n",
              "    <tr>\n",
              "      <th>San Luis Potosi</th>\n",
              "      <td>8.529898</td>\n",
              "    </tr>\n",
              "    <tr>\n",
              "      <th>Jalisco</th>\n",
              "      <td>8.291634</td>\n",
              "    </tr>\n",
              "    <tr>\n",
              "      <th>Morelos</th>\n",
              "      <td>8.228891</td>\n",
              "    </tr>\n",
              "    <tr>\n",
              "      <th>Campeche</th>\n",
              "      <td>8.001287</td>\n",
              "    </tr>\n",
              "    <tr>\n",
              "      <th>Michoacan</th>\n",
              "      <td>7.747410</td>\n",
              "    </tr>\n",
              "    <tr>\n",
              "      <th>Nuevo Leon</th>\n",
              "      <td>7.263068</td>\n",
              "    </tr>\n",
              "    <tr>\n",
              "      <th>Estado De Mexico</th>\n",
              "      <td>6.967906</td>\n",
              "    </tr>\n",
              "    <tr>\n",
              "      <th>Tamaulipas</th>\n",
              "      <td>6.428782</td>\n",
              "    </tr>\n",
              "    <tr>\n",
              "      <th>Tabasco</th>\n",
              "      <td>5.926927</td>\n",
              "    </tr>\n",
              "    <tr>\n",
              "      <th>Veracruz</th>\n",
              "      <td>5.572877</td>\n",
              "    </tr>\n",
              "    <tr>\n",
              "      <th>Hidalgo</th>\n",
              "      <td>4.518664</td>\n",
              "    </tr>\n",
              "    <tr>\n",
              "      <th>Puebla</th>\n",
              "      <td>4.064708</td>\n",
              "    </tr>\n",
              "    <tr>\n",
              "      <th>Guerrero</th>\n",
              "      <td>3.195079</td>\n",
              "    </tr>\n",
              "    <tr>\n",
              "      <th>Oaxaca</th>\n",
              "      <td>3.042085</td>\n",
              "    </tr>\n",
              "    <tr>\n",
              "      <th>Chiapas</th>\n",
              "      <td>2.772867</td>\n",
              "    </tr>\n",
              "  </tbody>\n",
              "</table>\n",
              "</div>"
            ],
            "text/plain": [
              "                           IEA\n",
              "Entidad                       \n",
              "Baja California Sur  32.037986\n",
              "Baja California      20.250981\n",
              "Sonora               19.663633\n",
              "Coahuila             16.233978\n",
              "Zacatecas            15.977412\n",
              "Chihuahua            15.733659\n",
              "Aguascalientes       15.461893\n",
              "Durango              15.099427\n",
              "Quintana Roo         14.795625\n",
              "Queretaro            14.570457\n",
              "Nayarit              13.321447\n",
              "Ciudad De Mexico     13.240715\n",
              "Sinaloa              12.987028\n",
              "Guanajuato           12.802545\n",
              "Colima               11.666824\n",
              "Tlaxcala             11.364865\n",
              "Yucatan               9.891314\n",
              "San Luis Potosi       8.529898\n",
              "Jalisco               8.291634\n",
              "Morelos               8.228891\n",
              "Campeche              8.001287\n",
              "Michoacan             7.747410\n",
              "Nuevo Leon            7.263068\n",
              "Estado De Mexico      6.967906\n",
              "Tamaulipas            6.428782\n",
              "Tabasco               5.926927\n",
              "Veracruz              5.572877\n",
              "Hidalgo               4.518664\n",
              "Puebla                4.064708\n",
              "Guerrero              3.195079\n",
              "Oaxaca                3.042085\n",
              "Chiapas               2.772867"
            ]
          },
          "metadata": {
            "tags": []
          },
          "execution_count": 182
        }
      ]
    },
    {
      "cell_type": "markdown",
      "metadata": {
        "id": "hl5xs95-Om74"
      },
      "source": [
        "Al ordenar los datos por entidad y obtener el promedio del índice de estrés agrícola y mostrar los resultados de manera ascendente; se observa que los estados correspondientes al norte del país son los que presentan una alta probabilidad de estrés hídrico (sequía) de tierras cultivadas. Por otra parte, los estados de Guerrero, Oaxaca y Chiapas presentan un mejor nivel de vida en su vegetación."
      ]
    },
    {
      "cell_type": "markdown",
      "metadata": {
        "id": "6bjxp36PudiW"
      },
      "source": [
        "#### ¿La temperatura está aumentando en el país?"
      ]
    },
    {
      "cell_type": "code",
      "metadata": {
        "colab": {
          "base_uri": "https://localhost:8080/",
          "height": 0
        },
        "id": "g6qVIw_2uZC4",
        "outputId": "ce0ce269-2130-42bf-95c9-20e14dbf04c4"
      },
      "source": [
        "temperatura_nacional = data_preguntas.groupby(data_preguntas['Fecha'].dt.year)['Temperatura'].mean().to_frame()\n",
        "\n",
        "plt.figure(figsize = (10, 5))\n",
        "plt.plot(temperatura_nacional.index,temperatura_nacional['Temperatura'])\n",
        "plt.xticks(range(2003,2021,1))\n",
        "plt.xlabel('Fecha')\n",
        "plt.ylabel('Temperatura [°C]')\n",
        "plt.title('Temperatura nacional')"
      ],
      "execution_count": 183,
      "outputs": [
        {
          "output_type": "execute_result",
          "data": {
            "text/plain": [
              "Text(0.5, 1.0, 'Temperatura nacional')"
            ]
          },
          "metadata": {
            "tags": []
          },
          "execution_count": 183
        },
        {
          "output_type": "display_data",
          "data": {
            "image/png": "[encoded data removed]",
            "text/plain": [
              "<Figure size 720x360 with 1 Axes>"
            ]
          },
          "metadata": {
            "tags": [],
            "needs_background": "light"
          }
        }
      ]
    },
    {
      "cell_type": "markdown",
      "metadata": {
        "id": "DxuYrmU0wxmA"
      },
      "source": [
        "A partir de la gráfica anterior, podemos observar que la temperatura ha seguido una tendencia a la alza en nuestro país durante las últimas 2 decadas,  aumentado aproximadamente 1.5 grados centígrados en el año 2020 con respecto al valor promedio de 21 grados que tuvo durante el año 2003.\n"
      ]
    },
    {
      "cell_type": "markdown",
      "metadata": {
        "id": "1AVEilQz0JVF"
      },
      "source": [
        "## Conclusiones\n"
      ]
    },
    {
      "cell_type": "markdown",
      "metadata": {
        "id": "lVVFDUdfDtdK"
      },
      "source": [
        "De acuerdo a la exploración de los datos, podemos observar que durante las 2 últimas décadas se ha producido un incremento en la temperatura promedio dentro de nuestro país, de forma similar la cantidad de precipitaciones ha disminuido, es decir cada vez llueve menos y las temperaturas son mayores. Esto tiene un impacto severo en regiones áridas y semiáridas, ya que la escaza agua que hay, se evapora con mayor facilidad. Asimismo, si analizamos el área afectada por las sequías, podemos observar que estados como Sinaloa y Michoacán han sido los principales afectados. Sí consideramos que las principales actividades productivas en estos estados son la agricultura, las sequías ponen en riesgo a los sectores primarios, además amenazar el suministro de alimentos a nivel nacional , pues ambos estados son considerados productores importantes en la rama de alimentos, tomando así una dimensión económica, social y ambiental\n",
        "\n"
      ]
    },
    {
      "cell_type": "markdown",
      "metadata": {
        "id": "jBphSrGeM2uR"
      },
      "source": [
        "## Planes a futuro"
      ]
    },
    {
      "cell_type": "markdown",
      "metadata": {
        "id": "r_AQLVdB_TTz"
      },
      "source": [
        "Una vez procesados y explorados nuestros datos, estamos listos para continuar con su análisis estadístico, mayor visualización y predicción. Hemos realizado distintas consultas que nos han llevado a concluir con interesantes resultados como los anteriores, a partir de éstos podemos continuar con planteamientos hacia nuevas preguntas que nos ayudarán a encontrar una mejor relación de los eventos climatológicos previos. \n",
        "\n",
        "**Análisis estadístico**\n",
        "\n",
        "Dentro de nuestros objetivos a futuro está la realización de un análisis estadístico de las sequías. Observar como ha sido numéricamente su variación con el tiempo así como estimar tendencias en los mismos datos para proponer meses/años que conformen la temporada de sequías en México.\n",
        "\n",
        "\n",
        "**Visualización**\n",
        "\n",
        "De igual manera, otra de nuestras propuestas es poder visualizar los estados de la república clasificados por su respectivo tipo de sequía. Además de ir representando nuestros resultados futuros y mejorar los anteriores, para tener una mayor claridad y lograr una mejor comunicación a través de gráficos y mapas.\n",
        "\n",
        "\n",
        "**Predicción**\n",
        "\n",
        "Nos interesaría conocer el comportamiento de las sequías o índice de estrés agrícola (IEA) en un futuro, es decir, poder predecir si dentro de 10 años ha aumentado o disminuido las sequías o IEA a nivel nacional. Otro ejemplo sería si se puede observar alguna tendencia en los datos que nos ayuden a pronosticar futuros cambios en la temperatura y precipitaciones en el país.\n",
        "\n",
        "Finalmente buscamos que nuestro proyecto tenga un impacto para poder prevenir o mitigar los riesgos futuros que puedan existir ocasionados por un aumento de las sequías en México. Asimismo estamos abiertos a la posibilidad de agregar nuevos datos complementarios a nuestro dataframe actual para asegurar mejores resultados."
      ]
    }
  ]
}