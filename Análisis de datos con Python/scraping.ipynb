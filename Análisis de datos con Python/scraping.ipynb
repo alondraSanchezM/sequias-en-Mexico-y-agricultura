{
  "nbformat": 4,
  "nbformat_minor": 2,
  "metadata": {
    "colab": {
      "name": "PruebasProyectoBedu.ipynb",
      "provenance": [],
      "collapsed_sections": []
    },
    "kernelspec": {
      "name": "python3",
      "display_name": "Python 3.9.7 64-bit"
    },
    "language_info": {
      "name": "python",
      "version": "3.9.7",
      "mimetype": "text/x-python",
      "codemirror_mode": {
        "name": "ipython",
        "version": 3
      },
      "pygments_lexer": "ipython3",
      "nbconvert_exporter": "python",
      "file_extension": ".py"
    },
    "interpreter": {
      "hash": "980863351e097c2cc8bf1ac54e0d74da201f84e0a5b814987530c6c372f2fc20"
    }
  },
  "cells": [
    {
      "cell_type": "markdown",
      "source": [
        "## Recolección de datos"
      ],
      "metadata": {
        "id": "AmErukKpXghK"
      }
    },
    {
      "cell_type": "markdown",
      "source": [
        "Nuestro dataset analizado no contiene datos no estructurados; es por ello que decidimos realizar una recolección de tweets con el objetivo de generar un dataset que en el cual se tengan tweets que contengan la palabra \"sequias\" usando  [snscrape](https://github.com/JustAnotherArchivist/snscrape). \r\n",
        "\r\n",
        "Importante: Para hacer uso de la librería es necesario tener Python 3.8 o superior."
      ],
      "metadata": {
        "id": "rzGK5LeeXh8B"
      }
    },
    {
      "cell_type": "code",
      "execution_count": 1,
      "source": [
        "# !pip install git+https://github.com/JustAnotherArchivist/snscrape.git\r\n",
        "\r\n",
        "import snscrape.modules.twitter as sntwitter\r\n",
        "import pandas as pd"
      ],
      "outputs": [],
      "metadata": {}
    },
    {
      "cell_type": "markdown",
      "source": [
        "Uso de TwitterSearchScraper para realizar el \"raspado\" de los datos y guardar los tweets en una lista. La información obtenida es la fecha del tweet, el contenido y la ubicación del usuario. "
      ],
      "metadata": {}
    },
    {
      "cell_type": "code",
      "execution_count": 2,
      "source": [
        "maxTweets = 3000\r\n",
        "tweets_list = []\r\n",
        "\r\n",
        "for i,tweet in enumerate(sntwitter.TwitterSearchScraper('sequias since:2021-08-01 until:2021-09-01').get_items()):\r\n",
        "    if i>maxTweets:\r\n",
        "        break\r\n",
        "    tweets_list.append([tweet.date, tweet.content, tweet.user.location])\r\n"
      ],
      "outputs": [],
      "metadata": {
        "colab": {
          "base_uri": "https://localhost:8080/",
          "height": 202
        },
        "id": "6549qx7od-nk",
        "outputId": "efeeaebe-da91-4970-9749-9cfb54378de4"
      }
    },
    {
      "cell_type": "markdown",
      "source": [
        "Posteriormente, creamos un dataset y lo guardamos en formato de archivo csv."
      ],
      "metadata": {}
    },
    {
      "cell_type": "code",
      "execution_count": 3,
      "source": [
        "tweets_sequias_raw = pd.DataFrame(tweets_list, columns=['Datetime','Text', 'Location'])\r\n",
        "tweets_sequias_raw.head()"
      ],
      "outputs": [
        {
          "output_type": "execute_result",
          "data": {
            "text/html": [
              "<div>\n",
              "<style scoped>\n",
              "    .dataframe tbody tr th:only-of-type {\n",
              "        vertical-align: middle;\n",
              "    }\n",
              "\n",
              "    .dataframe tbody tr th {\n",
              "        vertical-align: top;\n",
              "    }\n",
              "\n",
              "    .dataframe thead th {\n",
              "        text-align: right;\n",
              "    }\n",
              "</style>\n",
              "<table border=\"1\" class=\"dataframe\">\n",
              "  <thead>\n",
              "    <tr style=\"text-align: right;\">\n",
              "      <th></th>\n",
              "      <th>Datetime</th>\n",
              "      <th>Text</th>\n",
              "      <th>Location</th>\n",
              "    </tr>\n",
              "  </thead>\n",
              "  <tbody>\n",
              "    <tr>\n",
              "      <th>0</th>\n",
              "      <td>2021-08-31 23:52:35+00:00</td>\n",
              "      <td>📺 Se esperan fuertes sequías en España a parti...</td>\n",
              "      <td>Amsterdam, Spain</td>\n",
              "    </tr>\n",
              "    <tr>\n",
              "      <th>1</th>\n",
              "      <td>2021-08-31 23:37:36+00:00</td>\n",
              "      <td>Hace unas semanas la NASA advirtió que este añ...</td>\n",
              "      <td>Guadalajara</td>\n",
              "    </tr>\n",
              "    <tr>\n",
              "      <th>2</th>\n",
              "      <td>2021-08-31 23:33:03+00:00</td>\n",
              "      <td>El United, el Liverpool, el Chelsea, el Madrid...</td>\n",
              "      <td>Santiago, Galiza</td>\n",
              "    </tr>\n",
              "    <tr>\n",
              "      <th>3</th>\n",
              "      <td>2021-08-31 23:30:00+00:00</td>\n",
              "      <td>#31Ago El cambio climático nos afecta a todos....</td>\n",
              "      <td>Venezuela</td>\n",
              "    </tr>\n",
              "    <tr>\n",
              "      <th>4</th>\n",
              "      <td>2021-08-31 22:14:26+00:00</td>\n",
              "      <td>Descubren bacteria capaz de comer plastico htt...</td>\n",
              "      <td></td>\n",
              "    </tr>\n",
              "  </tbody>\n",
              "</table>\n",
              "</div>"
            ],
            "text/plain": [
              "                   Datetime  \\\n",
              "0 2021-08-31 23:52:35+00:00   \n",
              "1 2021-08-31 23:37:36+00:00   \n",
              "2 2021-08-31 23:33:03+00:00   \n",
              "3 2021-08-31 23:30:00+00:00   \n",
              "4 2021-08-31 22:14:26+00:00   \n",
              "\n",
              "                                                Text          Location  \n",
              "0  📺 Se esperan fuertes sequías en España a parti...  Amsterdam, Spain  \n",
              "1  Hace unas semanas la NASA advirtió que este añ...       Guadalajara  \n",
              "2  El United, el Liverpool, el Chelsea, el Madrid...  Santiago, Galiza  \n",
              "3  #31Ago El cambio climático nos afecta a todos....         Venezuela  \n",
              "4  Descubren bacteria capaz de comer plastico htt...                    "
            ]
          },
          "metadata": {},
          "execution_count": 3
        }
      ],
      "metadata": {}
    },
    {
      "cell_type": "code",
      "execution_count": 4,
      "source": [
        "tweets_sequias_raw.to_csv('tweets_sequias_raw.csv', sep=',', index=False)"
      ],
      "outputs": [],
      "metadata": {}
    }
  ]
}